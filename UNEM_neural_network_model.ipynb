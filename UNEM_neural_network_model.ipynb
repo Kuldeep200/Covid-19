{
 "cells": [
  {
   "cell_type": "code",
   "execution_count": 1,
   "id": "2a8a9101",
   "metadata": {},
   "outputs": [],
   "source": [
    "# Import our dependencies\n",
    "import pandas as pd\n",
    "import tensorflow as tf\n",
    "import numpy as np \n",
    "from pathlib import Path\n",
    "import matplotlib.pyplot as plt\n",
    "from sklearn.preprocessing import StandardScaler\n",
    "from sklearn.linear_model import LinearRegression\n",
    "from sklearn.model_selection import train_test_split\n",
    "\n",
    "# importing the r2_score module\n",
    "from sklearn.metrics import r2_score\n",
    "from sklearn.metrics import mean_squared_error\n"
   ]
  },
  {
   "cell_type": "code",
   "execution_count": 2,
   "id": "440dbf02",
   "metadata": {},
   "outputs": [
    {
     "data": {
      "text/html": [
       "<div>\n",
       "<style scoped>\n",
       "    .dataframe tbody tr th:only-of-type {\n",
       "        vertical-align: middle;\n",
       "    }\n",
       "\n",
       "    .dataframe tbody tr th {\n",
       "        vertical-align: top;\n",
       "    }\n",
       "\n",
       "    .dataframe thead th {\n",
       "        text-align: right;\n",
       "    }\n",
       "</style>\n",
       "<table border=\"1\" class=\"dataframe\">\n",
       "  <thead>\n",
       "    <tr style=\"text-align: right;\">\n",
       "      <th></th>\n",
       "      <th>Date</th>\n",
       "      <th>S_P Close</th>\n",
       "      <th>S_P Volume</th>\n",
       "      <th>Median Sale Price</th>\n",
       "      <th>Homes Sold</th>\n",
       "      <th>INFLATION_EXPECTATION</th>\n",
       "      <th>SALES</th>\n",
       "      <th>UNEMPLOYMENT</th>\n",
       "      <th>NAS Value</th>\n",
       "      <th>NAS Volume</th>\n",
       "      <th>Covid_New_Cases</th>\n",
       "      <th>Covid_Death</th>\n",
       "    </tr>\n",
       "  </thead>\n",
       "  <tbody>\n",
       "    <tr>\n",
       "      <th>0</th>\n",
       "      <td>1/1/2017</td>\n",
       "      <td>2278.87</td>\n",
       "      <td>42691599000</td>\n",
       "      <td>246000</td>\n",
       "      <td>360977</td>\n",
       "      <td>2.6</td>\n",
       "      <td>368960</td>\n",
       "      <td>4.7</td>\n",
       "      <td>5614.786</td>\n",
       "      <td>8376144160</td>\n",
       "      <td>NaN</td>\n",
       "      <td>NaN</td>\n",
       "    </tr>\n",
       "    <tr>\n",
       "      <th>1</th>\n",
       "      <td>2/1/2017</td>\n",
       "      <td>2363.64</td>\n",
       "      <td>40740785000</td>\n",
       "      <td>247000</td>\n",
       "      <td>369081</td>\n",
       "      <td>2.7</td>\n",
       "      <td>365480</td>\n",
       "      <td>4.6</td>\n",
       "      <td>5825.438</td>\n",
       "      <td>8563523411</td>\n",
       "      <td>NaN</td>\n",
       "      <td>NaN</td>\n",
       "    </tr>\n",
       "    <tr>\n",
       "      <th>2</th>\n",
       "      <td>3/1/2017</td>\n",
       "      <td>2362.72</td>\n",
       "      <td>47262643000</td>\n",
       "      <td>257000</td>\n",
       "      <td>533610</td>\n",
       "      <td>2.5</td>\n",
       "      <td>422891</td>\n",
       "      <td>4.4</td>\n",
       "      <td>5911.738</td>\n",
       "      <td>10998962695</td>\n",
       "      <td>NaN</td>\n",
       "      <td>NaN</td>\n",
       "    </tr>\n",
       "    <tr>\n",
       "      <th>3</th>\n",
       "      <td>4/1/2017</td>\n",
       "      <td>2384.20</td>\n",
       "      <td>37735945000</td>\n",
       "      <td>262000</td>\n",
       "      <td>516823</td>\n",
       "      <td>2.5</td>\n",
       "      <td>407165</td>\n",
       "      <td>4.4</td>\n",
       "      <td>6047.606</td>\n",
       "      <td>8302492073</td>\n",
       "      <td>NaN</td>\n",
       "      <td>NaN</td>\n",
       "    </tr>\n",
       "    <tr>\n",
       "      <th>4</th>\n",
       "      <td>5/1/2017</td>\n",
       "      <td>2411.80</td>\n",
       "      <td>44654185000</td>\n",
       "      <td>269000</td>\n",
       "      <td>630788</td>\n",
       "      <td>2.6</td>\n",
       "      <td>434450</td>\n",
       "      <td>4.4</td>\n",
       "      <td>6198.517</td>\n",
       "      <td>10239273745</td>\n",
       "      <td>NaN</td>\n",
       "      <td>NaN</td>\n",
       "    </tr>\n",
       "  </tbody>\n",
       "</table>\n",
       "</div>"
      ],
      "text/plain": [
       "       Date  S_P Close   S_P Volume  Median Sale Price  Homes Sold  \\\n",
       "0  1/1/2017    2278.87  42691599000             246000      360977   \n",
       "1  2/1/2017    2363.64  40740785000             247000      369081   \n",
       "2  3/1/2017    2362.72  47262643000             257000      533610   \n",
       "3  4/1/2017    2384.20  37735945000             262000      516823   \n",
       "4  5/1/2017    2411.80  44654185000             269000      630788   \n",
       "\n",
       "   INFLATION_EXPECTATION   SALES  UNEMPLOYMENT  NAS Value   NAS Volume  \\\n",
       "0                    2.6  368960           4.7   5614.786   8376144160   \n",
       "1                    2.7  365480           4.6   5825.438   8563523411   \n",
       "2                    2.5  422891           4.4   5911.738  10998962695   \n",
       "3                    2.5  407165           4.4   6047.606   8302492073   \n",
       "4                    2.6  434450           4.4   6198.517  10239273745   \n",
       "\n",
       "   Covid_New_Cases  Covid_Death  \n",
       "0              NaN          NaN  \n",
       "1              NaN          NaN  \n",
       "2              NaN          NaN  \n",
       "3              NaN          NaN  \n",
       "4              NaN          NaN  "
      ]
     },
     "execution_count": 2,
     "metadata": {},
     "output_type": "execute_result"
    }
   ],
   "source": [
    "working_df = pd.read_csv(Path('Resources/CSV files/FINAL_DATABASE.csv'))\n",
    "working_df.head(5)"
   ]
  },
  {
   "cell_type": "code",
   "execution_count": 3,
   "id": "3ab33b85",
   "metadata": {},
   "outputs": [
    {
     "data": {
      "text/html": [
       "<div>\n",
       "<style scoped>\n",
       "    .dataframe tbody tr th:only-of-type {\n",
       "        vertical-align: middle;\n",
       "    }\n",
       "\n",
       "    .dataframe tbody tr th {\n",
       "        vertical-align: top;\n",
       "    }\n",
       "\n",
       "    .dataframe thead th {\n",
       "        text-align: right;\n",
       "    }\n",
       "</style>\n",
       "<table border=\"1\" class=\"dataframe\">\n",
       "  <thead>\n",
       "    <tr style=\"text-align: right;\">\n",
       "      <th></th>\n",
       "      <th>Date</th>\n",
       "      <th>S_P Close</th>\n",
       "      <th>S_P Volume</th>\n",
       "      <th>Median Sale Price</th>\n",
       "      <th>Homes Sold</th>\n",
       "      <th>INFLATION_EXPECTATION</th>\n",
       "      <th>SALES</th>\n",
       "      <th>UNEMPLOYMENT</th>\n",
       "      <th>NAS Value</th>\n",
       "      <th>NAS Volume</th>\n",
       "      <th>Covid_New_Cases</th>\n",
       "      <th>Covid_Death</th>\n",
       "    </tr>\n",
       "  </thead>\n",
       "  <tbody>\n",
       "    <tr>\n",
       "      <th>0</th>\n",
       "      <td>1/1/2017</td>\n",
       "      <td>2278.87</td>\n",
       "      <td>42691599000</td>\n",
       "      <td>246000</td>\n",
       "      <td>360977</td>\n",
       "      <td>2.6</td>\n",
       "      <td>368960</td>\n",
       "      <td>4.7</td>\n",
       "      <td>5614.786</td>\n",
       "      <td>8376144160</td>\n",
       "      <td>0.0</td>\n",
       "      <td>0.0</td>\n",
       "    </tr>\n",
       "    <tr>\n",
       "      <th>1</th>\n",
       "      <td>2/1/2017</td>\n",
       "      <td>2363.64</td>\n",
       "      <td>40740785000</td>\n",
       "      <td>247000</td>\n",
       "      <td>369081</td>\n",
       "      <td>2.7</td>\n",
       "      <td>365480</td>\n",
       "      <td>4.6</td>\n",
       "      <td>5825.438</td>\n",
       "      <td>8563523411</td>\n",
       "      <td>0.0</td>\n",
       "      <td>0.0</td>\n",
       "    </tr>\n",
       "    <tr>\n",
       "      <th>2</th>\n",
       "      <td>3/1/2017</td>\n",
       "      <td>2362.72</td>\n",
       "      <td>47262643000</td>\n",
       "      <td>257000</td>\n",
       "      <td>533610</td>\n",
       "      <td>2.5</td>\n",
       "      <td>422891</td>\n",
       "      <td>4.4</td>\n",
       "      <td>5911.738</td>\n",
       "      <td>10998962695</td>\n",
       "      <td>0.0</td>\n",
       "      <td>0.0</td>\n",
       "    </tr>\n",
       "    <tr>\n",
       "      <th>3</th>\n",
       "      <td>4/1/2017</td>\n",
       "      <td>2384.20</td>\n",
       "      <td>37735945000</td>\n",
       "      <td>262000</td>\n",
       "      <td>516823</td>\n",
       "      <td>2.5</td>\n",
       "      <td>407165</td>\n",
       "      <td>4.4</td>\n",
       "      <td>6047.606</td>\n",
       "      <td>8302492073</td>\n",
       "      <td>0.0</td>\n",
       "      <td>0.0</td>\n",
       "    </tr>\n",
       "    <tr>\n",
       "      <th>4</th>\n",
       "      <td>5/1/2017</td>\n",
       "      <td>2411.80</td>\n",
       "      <td>44654185000</td>\n",
       "      <td>269000</td>\n",
       "      <td>630788</td>\n",
       "      <td>2.6</td>\n",
       "      <td>434450</td>\n",
       "      <td>4.4</td>\n",
       "      <td>6198.517</td>\n",
       "      <td>10239273745</td>\n",
       "      <td>0.0</td>\n",
       "      <td>0.0</td>\n",
       "    </tr>\n",
       "  </tbody>\n",
       "</table>\n",
       "</div>"
      ],
      "text/plain": [
       "       Date  S_P Close   S_P Volume  Median Sale Price  Homes Sold  \\\n",
       "0  1/1/2017    2278.87  42691599000             246000      360977   \n",
       "1  2/1/2017    2363.64  40740785000             247000      369081   \n",
       "2  3/1/2017    2362.72  47262643000             257000      533610   \n",
       "3  4/1/2017    2384.20  37735945000             262000      516823   \n",
       "4  5/1/2017    2411.80  44654185000             269000      630788   \n",
       "\n",
       "   INFLATION_EXPECTATION   SALES  UNEMPLOYMENT  NAS Value   NAS Volume  \\\n",
       "0                    2.6  368960           4.7   5614.786   8376144160   \n",
       "1                    2.7  365480           4.6   5825.438   8563523411   \n",
       "2                    2.5  422891           4.4   5911.738  10998962695   \n",
       "3                    2.5  407165           4.4   6047.606   8302492073   \n",
       "4                    2.6  434450           4.4   6198.517  10239273745   \n",
       "\n",
       "   Covid_New_Cases  Covid_Death  \n",
       "0              0.0          0.0  \n",
       "1              0.0          0.0  \n",
       "2              0.0          0.0  \n",
       "3              0.0          0.0  \n",
       "4              0.0          0.0  "
      ]
     },
     "execution_count": 3,
     "metadata": {},
     "output_type": "execute_result"
    }
   ],
   "source": [
    "working_df['Covid_New_Cases'] = working_df['Covid_New_Cases'].replace(np.nan, 0)\n",
    "working_df['Covid_Death'] = working_df['Covid_Death'].replace(np.nan, 0)\n",
    "working_df.head()"
   ]
  },
  {
   "cell_type": "code",
   "execution_count": 4,
   "id": "6349e008",
   "metadata": {},
   "outputs": [],
   "source": [
    "# Split our preprocessed data into our features and target arrays\n",
    "y = working_df.UNEMPLOYMENT\n",
    "X = working_df.drop(columns=[\"Date\",\"UNEMPLOYMENT\"])"
   ]
  },
  {
   "cell_type": "code",
   "execution_count": 5,
   "id": "81eaf310",
   "metadata": {},
   "outputs": [
    {
     "data": {
      "text/plain": [
       "16"
      ]
     },
     "execution_count": 5,
     "metadata": {},
     "output_type": "execute_result"
    }
   ],
   "source": [
    "X_train,X_test,y_train,y_test=train_test_split(X,y,random_state=42)\n",
    "len(X_test)\n"
   ]
  },
  {
   "cell_type": "code",
   "execution_count": 6,
   "id": "fd546c48",
   "metadata": {},
   "outputs": [
    {
     "data": {
      "text/plain": [
       "16"
      ]
     },
     "execution_count": 6,
     "metadata": {},
     "output_type": "execute_result"
    }
   ],
   "source": [
    "len(y_test)"
   ]
  },
  {
   "cell_type": "code",
   "execution_count": 7,
   "id": "af6f3e26",
   "metadata": {},
   "outputs": [],
   "source": [
    "# Create a StandardScaler instances\n",
    "scaler = StandardScaler()\n",
    "\n",
    "# Fit the StandardScaler\n",
    "X_scaler = scaler.fit(X_train)\n",
    "\n",
    "# Scale the data\n",
    "X_train_scaled = X_scaler.transform(X_train)\n",
    "X_test_scaled = X_scaler.transform(X_test)"
   ]
  },
  {
   "cell_type": "markdown",
   "id": "3f2b8b44",
   "metadata": {},
   "source": [
    "### create the neural network model"
   ]
  },
  {
   "cell_type": "code",
   "execution_count": 8,
   "id": "716e8b08",
   "metadata": {},
   "outputs": [],
   "source": [
    "# A good rule of thumb for a basic neural network is to have two to \n",
    "# three times the amount of neurons in the hidden layer as the number of inputs.\n",
    "# Our FINAL_DATAFRAME has 10 input features (columns) of data."
   ]
  },
  {
   "cell_type": "code",
   "execution_count": 9,
   "id": "a562e1e0",
   "metadata": {},
   "outputs": [
    {
     "name": "stdout",
     "output_type": "stream",
     "text": [
      "Model: \"sequential\"\n",
      "_________________________________________________________________\n",
      " Layer (type)                Output Shape              Param #   \n",
      "=================================================================\n",
      " dense (Dense)               (None, 30)                330       \n",
      "                                                                 \n",
      " dense_1 (Dense)             (None, 20)                620       \n",
      "                                                                 \n",
      " dense_2 (Dense)             (None, 1)                 21        \n",
      "                                                                 \n",
      "=================================================================\n",
      "Total params: 971\n",
      "Trainable params: 971\n",
      "Non-trainable params: 0\n",
      "_________________________________________________________________\n"
     ]
    }
   ],
   "source": [
    "# Define the model - deep neural net, i.e., the number of input features and hidden nodes for each layer.\n",
    "number_input_features = len(X_train_scaled[0])\n",
    "hidden_nodes_layer1 = 30\n",
    "hidden_nodes_layer2 = 20\n",
    "\n",
    "nn_A = tf.keras.models.Sequential()\n",
    "\n",
    "# First hidden layer\n",
    "nn_A.add(tf.keras.layers.Dense(units=hidden_nodes_layer1, input_dim=number_input_features, activation=\"LeakyReLU\"))\n",
    "\n",
    "# Second hidden layer\n",
    "nn_A.add(tf.keras.layers.Dense(units=hidden_nodes_layer2, activation=\"LeakyReLU\"))\n",
    "\n",
    "# Output layer\n",
    "nn_A.add(tf.keras.layers.Dense(units=1, activation=\"relu\"))\n",
    "\n",
    "# Check the structure of the model\n",
    "nn_A.summary()"
   ]
  },
  {
   "cell_type": "code",
   "execution_count": 10,
   "id": "56515c5f",
   "metadata": {},
   "outputs": [],
   "source": [
    "# Import checkpoint dependencies\n",
    "import os\n",
    "from tensorflow.keras.callbacks import ModelCheckpoint\n",
    "\n",
    "# Define the checkpoint path and filenames\n",
    "os.makedirs(\"checkpoints/\",exist_ok=True)\n",
    "checkpoint_path = \"checkpoints/weights.{epoch:02d}.hdf5\""
   ]
  },
  {
   "cell_type": "code",
   "execution_count": 11,
   "id": "520e0f14",
   "metadata": {},
   "outputs": [],
   "source": [
    "# Compile the model\n",
    "nn_A.compile(loss=\"binary_crossentropy\", optimizer=\"adam\", metrics=[\"accuracy\"])\n",
    "\n",
    "# Create a callback that saves the model's weights every epoch\n",
    "cp_callback = ModelCheckpoint(\n",
    "    filepath=checkpoint_path,\n",
    "    verbose=1,\n",
    "    save_weights_only=True,\n",
    "    save_freq=10)"
   ]
  },
  {
   "cell_type": "code",
   "execution_count": 12,
   "id": "e8b19898",
   "metadata": {},
   "outputs": [
    {
     "name": "stdout",
     "output_type": "stream",
     "text": [
      "Epoch 1/15\n",
      "2/2 [==============================] - 3s 11ms/step - loss: 16.8384 - accuracy: 0.0000e+00\n",
      "Epoch 2/15\n",
      "2/2 [==============================] - 0s 8ms/step - loss: 13.9133 - accuracy: 0.0000e+00\n",
      "Epoch 3/15\n",
      "2/2 [==============================] - 0s 16ms/step - loss: 8.9721 - accuracy: 0.0000e+00\n",
      "Epoch 4/15\n",
      "2/2 [==============================] - 0s 15ms/step - loss: 6.2177 - accuracy: 0.0000e+00\n",
      "Epoch 5/15\n",
      "1/2 [==============>...............] - ETA: 0s - loss: 0.1711 - accuracy: 0.0000e+00\n",
      "Epoch 5: saving model to checkpoints\\weights.05.hdf5\n",
      "2/2 [==============================] - 0s 280ms/step - loss: 2.3554 - accuracy: 0.0000e+00\n",
      "Epoch 6/15\n",
      "2/2 [==============================] - 0s 18ms/step - loss: -0.0880 - accuracy: 0.0000e+00\n",
      "Epoch 7/15\n",
      "2/2 [==============================] - 0s 7ms/step - loss: -6.5350 - accuracy: 0.0000e+00\n",
      "Epoch 8/15\n",
      "2/2 [==============================] - 0s 20ms/step - loss: -8.4264 - accuracy: 0.0000e+00\n",
      "Epoch 9/15\n",
      "2/2 [==============================] - 0s 15ms/step - loss: -13.0328 - accuracy: 0.0000e+00\n",
      "Epoch 10/15\n",
      "1/2 [==============>...............] - ETA: 0s - loss: -10.1149 - accuracy: 0.0000e+00\n",
      "Epoch 10: saving model to checkpoints\\weights.10.hdf5\n",
      "2/2 [==============================] - 0s 197ms/step - loss: -16.2439 - accuracy: 0.0000e+00\n",
      "Epoch 11/15\n",
      "2/2 [==============================] - 0s 7ms/step - loss: -18.7671 - accuracy: 0.0000e+00\n",
      "Epoch 12/15\n",
      "2/2 [==============================] - 0s 14ms/step - loss: -24.0762 - accuracy: 0.0000e+00\n",
      "Epoch 13/15\n",
      "2/2 [==============================] - 0s 9ms/step - loss: -27.2105 - accuracy: 0.0000e+00\n",
      "Epoch 14/15\n",
      "2/2 [==============================] - 0s 7ms/step - loss: -31.2453 - accuracy: 0.0000e+00\n",
      "Epoch 15/15\n",
      "1/2 [==============>...............] - ETA: 0s - loss: -29.0598 - accuracy: 0.0000e+00\n",
      "Epoch 15: saving model to checkpoints\\weights.15.hdf5\n",
      "2/2 [==============================] - 0s 89ms/step - loss: -35.2418 - accuracy: 0.0000e+00\n"
     ]
    }
   ],
   "source": [
    "# Train the model\n",
    "fit_model = nn_A.fit(X_train_scaled,y_train,epochs=15,callbacks=[cp_callback])"
   ]
  },
  {
   "cell_type": "code",
   "execution_count": 13,
   "id": "492e74a4",
   "metadata": {},
   "outputs": [
    {
     "name": "stdout",
     "output_type": "stream",
     "text": [
      "1/1 - 0s - loss: -4.0819e+01 - accuracy: 0.0000e+00 - 343ms/epoch - 343ms/step\n",
      "Loss: -40.81865692138672, Accuracy: 0.0\n"
     ]
    }
   ],
   "source": [
    "# Evaluate the model using the test data\n",
    "model_loss, model_accuracy = nn_A.evaluate(X_test_scaled,y_test,verbose=2)\n",
    "print(f\"Loss: {model_loss}, Accuracy: {model_accuracy}\")"
   ]
  },
  {
   "cell_type": "code",
   "execution_count": 14,
   "id": "cc718f06",
   "metadata": {},
   "outputs": [
    {
     "data": {
      "text/plain": [
       "<AxesSubplot:>"
      ]
     },
     "execution_count": 14,
     "metadata": {},
     "output_type": "execute_result"
    },
    {
     "data": {
      "image/png": "[encoded data removed]",
      "text/plain": [
       "<Figure size 432x288 with 1 Axes>"
      ]
     },
     "metadata": {
      "needs_background": "light"
     },
     "output_type": "display_data"
    }
   ],
   "source": [
    "# Create a DataFrame containing training history\n",
    "history_df = pd.DataFrame(fit_model.history, index=range(1,len(fit_model.history[\"loss\"])+1))\n",
    "\n",
    "# Plot the loss\n",
    "history_df.plot(y=\"loss\")"
   ]
  },
  {
   "cell_type": "code",
   "execution_count": 15,
   "id": "9dbc8b29",
   "metadata": {},
   "outputs": [
    {
     "data": {
      "text/plain": [
       "16"
      ]
     },
     "execution_count": 15,
     "metadata": {},
     "output_type": "execute_result"
    }
   ],
   "source": [
    "len(y_test)"
   ]
  },
  {
   "cell_type": "code",
   "execution_count": 16,
   "id": "b6761a27",
   "metadata": {},
   "outputs": [
    {
     "data": {
      "text/plain": [
       "<AxesSubplot:>"
      ]
     },
     "execution_count": 16,
     "metadata": {},
     "output_type": "execute_result"
    },
    {
     "data": {
      "image/png": "[encoded data removed]",
      "text/plain": [
       "<Figure size 432x288 with 1 Axes>"
      ]
     },
     "metadata": {
      "needs_background": "light"
     },
     "output_type": "display_data"
    }
   ],
   "source": [
    "# Plot the accuracy\n",
    "history_df.plot(y=\"accuracy\")"
   ]
  },
  {
   "cell_type": "markdown",
   "id": "c0e39c35",
   "metadata": {},
   "source": [
    "### Second attempt - adding a third hidden layer, adding more epochs, more nodes"
   ]
  },
  {
   "cell_type": "code",
   "execution_count": 17,
   "id": "36931349",
   "metadata": {},
   "outputs": [
    {
     "name": "stdout",
     "output_type": "stream",
     "text": [
      "Model: \"sequential_1\"\n",
      "_________________________________________________________________\n",
      " Layer (type)                Output Shape              Param #   \n",
      "=================================================================\n",
      " dense_3 (Dense)             (None, 40)                440       \n",
      "                                                                 \n",
      " dense_4 (Dense)             (None, 20)                820       \n",
      "                                                                 \n",
      " dense_5 (Dense)             (None, 20)                420       \n",
      "                                                                 \n",
      " dense_6 (Dense)             (None, 1)                 21        \n",
      "                                                                 \n",
      "=================================================================\n",
      "Total params: 1,701\n",
      "Trainable params: 1,701\n",
      "Non-trainable params: 0\n",
      "_________________________________________________________________\n"
     ]
    }
   ],
   "source": [
    "# Define the model - deep neural net, i.e., the number of input features and hidden nodes for each layer.\n",
    "number_input_features = len(X_train_scaled[0])\n",
    "hidden_nodes_layer1 = 40\n",
    "hidden_nodes_layer2 = 20\n",
    "hidden_nodes_layer3 = 20\n",
    "\n",
    "nn_B = tf.keras.models.Sequential()\n",
    "\n",
    "# First hidden layer\n",
    "nn_B.add(tf.keras.layers.Dense(units=hidden_nodes_layer1, input_dim=number_input_features, activation=\"relu\"))\n",
    "\n",
    "# Second hidden layer\n",
    "nn_B.add(tf.keras.layers.Dense(units=hidden_nodes_layer2, activation=\"LeakyReLU\"))\n",
    "\n",
    "# Third hidden layer\n",
    "nn_B.add(tf.keras.layers.Dense(units=hidden_nodes_layer3, activation=\"tanh\"))\n",
    "\n",
    "# Output layer\n",
    "nn_B.add(tf.keras.layers.Dense(units=1, activation=\"relu\"))\n",
    "\n",
    "# Check the structure of the model\n",
    "nn_B.summary()"
   ]
  },
  {
   "cell_type": "code",
   "execution_count": 18,
   "id": "dd2c39bb",
   "metadata": {},
   "outputs": [],
   "source": [
    "# Compile the model\n",
    "nn_B.compile(loss=\"binary_crossentropy\", optimizer=\"adam\", metrics=[\"accuracy\"])\n",
    "\n",
    "# Create a callback that saves the model's weights every epoch\n",
    "cp_callback = ModelCheckpoint(\n",
    "    filepath=checkpoint_path,\n",
    "    verbose=1,\n",
    "    save_weights_only=True,\n",
    "    save_freq=10)"
   ]
  },
  {
   "cell_type": "code",
   "execution_count": 19,
   "id": "1f96cb82",
   "metadata": {},
   "outputs": [
    {
     "name": "stdout",
     "output_type": "stream",
     "text": [
      "Epoch 1/50\n",
      "2/2 [==============================] - 2s 3ms/step - loss: 49.9914 - accuracy: 0.0000e+00\n",
      "Epoch 2/50\n",
      "2/2 [==============================] - 0s 15ms/step - loss: 42.1864 - accuracy: 0.0000e+00\n",
      "Epoch 3/50\n",
      "2/2 [==============================] - 0s 6ms/step - loss: 36.1259 - accuracy: 0.0000e+00\n",
      "Epoch 4/50\n",
      "2/2 [==============================] - 0s 7ms/step - loss: 29.5115 - accuracy: 0.0000e+00\n",
      "Epoch 5/50\n",
      "1/2 [==============>...............] - ETA: 0s - loss: 19.1346 - accuracy: 0.0000e+00\n",
      "Epoch 5: saving model to checkpoints\\weights.05.hdf5\n",
      "2/2 [==============================] - 0s 125ms/step - loss: 14.2611 - accuracy: 0.0000e+00\n",
      "Epoch 6/50\n",
      "2/2 [==============================] - 0s 15ms/step - loss: 1.1968 - accuracy: 0.0000e+00\n",
      "Epoch 7/50\n",
      "2/2 [==============================] - 0s 7ms/step - loss: -3.4649 - accuracy: 0.0000e+00\n",
      "Epoch 8/50\n",
      "2/2 [==============================] - 0s 14ms/step - loss: -10.0960 - accuracy: 0.0000e+00\n",
      "Epoch 9/50\n",
      "2/2 [==============================] - 0s 13ms/step - loss: -21.4905 - accuracy: 0.0000e+00\n",
      "Epoch 10/50\n",
      "1/2 [==============>...............] - ETA: 0s - loss: -13.6534 - accuracy: 0.0000e+00\n",
      "Epoch 10: saving model to checkpoints\\weights.10.hdf5\n",
      "2/2 [==============================] - 0s 88ms/step - loss: -27.1583 - accuracy: 0.0000e+00\n",
      "Epoch 11/50\n",
      "2/2 [==============================] - 0s 5ms/step - loss: -29.3647 - accuracy: 0.0000e+00\n",
      "Epoch 12/50\n",
      "2/2 [==============================] - 0s 11ms/step - loss: -34.0095 - accuracy: 0.0000e+00\n",
      "Epoch 13/50\n",
      "2/2 [==============================] - 0s 5ms/step - loss: -37.0019 - accuracy: 0.0000e+00\n",
      "Epoch 14/50\n",
      "2/2 [==============================] - 0s 12ms/step - loss: -37.8633 - accuracy: 0.0000e+00\n",
      "Epoch 15/50\n",
      "1/2 [==============>...............] - ETA: 0s - loss: -41.3640 - accuracy: 0.0000e+00\n",
      "Epoch 15: saving model to checkpoints\\weights.15.hdf5\n",
      "2/2 [==============================] - 0s 172ms/step - loss: -41.8173 - accuracy: 0.0000e+00\n",
      "Epoch 16/50\n",
      "2/2 [==============================] - 0s 14ms/step - loss: -46.3833 - accuracy: 0.0000e+00\n",
      "Epoch 17/50\n",
      "2/2 [==============================] - 0s 10ms/step - loss: -47.7963 - accuracy: 0.0000e+00\n",
      "Epoch 18/50\n",
      "2/2 [==============================] - 0s 5ms/step - loss: -50.4188 - accuracy: 0.0000e+00\n",
      "Epoch 19/50\n",
      "2/2 [==============================] - 0s 7ms/step - loss: -51.4932 - accuracy: 0.0000e+00\n",
      "Epoch 20/50\n",
      "1/2 [==============>...............] - ETA: 0s - loss: -41.2897 - accuracy: 0.0000e+00\n",
      "Epoch 20: saving model to checkpoints\\weights.20.hdf5\n",
      "2/2 [==============================] - 0s 104ms/step - loss: -52.4439 - accuracy: 0.0000e+00\n",
      "Epoch 21/50\n",
      "2/2 [==============================] - 0s 12ms/step - loss: -53.1667 - accuracy: 0.0000e+00\n",
      "Epoch 22/50\n",
      "2/2 [==============================] - 0s 6ms/step - loss: -57.1239 - accuracy: 0.0000e+00\n",
      "Epoch 23/50\n",
      "2/2 [==============================] - 0s 6ms/step - loss: -59.5619 - accuracy: 0.0000e+00\n",
      "Epoch 24/50\n",
      "2/2 [==============================] - 0s 17ms/step - loss: -60.2912 - accuracy: 0.0000e+00\n",
      "Epoch 25/50\n",
      "1/2 [==============>...............] - ETA: 0s - loss: -56.2458 - accuracy: 0.0000e+00\n",
      "Epoch 25: saving model to checkpoints\\weights.25.hdf5\n",
      "2/2 [==============================] - 0s 121ms/step - loss: -60.3775 - accuracy: 0.0000e+00\n",
      "Epoch 26/50\n",
      "2/2 [==============================] - 0s 25ms/step - loss: -60.4689 - accuracy: 0.0000e+00\n",
      "Epoch 27/50\n",
      "2/2 [==============================] - 0s 6ms/step - loss: -60.6071 - accuracy: 0.0000e+00\n",
      "Epoch 28/50\n",
      "2/2 [==============================] - 0s 9ms/step - loss: -60.7802 - accuracy: 0.0000e+00\n",
      "Epoch 29/50\n",
      "2/2 [==============================] - 0s 5ms/step - loss: -61.5618 - accuracy: 0.0000e+00\n",
      "Epoch 30/50\n",
      "1/2 [==============>...............] - ETA: 0s - loss: -63.6552 - accuracy: 0.0000e+00\n",
      "Epoch 30: saving model to checkpoints\\weights.30.hdf5\n",
      "2/2 [==============================] - 0s 123ms/step - loss: -63.0276 - accuracy: 0.0000e+00\n",
      "Epoch 31/50\n",
      "2/2 [==============================] - 0s 10ms/step - loss: -63.6751 - accuracy: 0.0000e+00\n",
      "Epoch 32/50\n",
      "2/2 [==============================] - 0s 12ms/step - loss: -63.8647 - accuracy: 0.0000e+00\n",
      "Epoch 33/50\n",
      "2/2 [==============================] - 0s 28ms/step - loss: -64.3783 - accuracy: 0.0000e+00\n",
      "Epoch 34/50\n",
      "2/2 [==============================] - 0s 6ms/step - loss: -64.3783 - accuracy: 0.0000e+00\n",
      "Epoch 35/50\n",
      "1/2 [==============>...............] - ETA: 0s - loss: -68.9552 - accuracy: 0.0000e+00\n",
      "Epoch 35: saving model to checkpoints\\weights.35.hdf5\n",
      "2/2 [==============================] - 0s 79ms/step - loss: -64.3783 - accuracy: 0.0000e+00\n",
      "Epoch 36/50\n",
      "2/2 [==============================] - 0s 22ms/step - loss: -64.3783 - accuracy: 0.0000e+00\n",
      "Epoch 37/50\n",
      "2/2 [==============================] - 0s 19ms/step - loss: -64.3783 - accuracy: 0.0000e+00\n",
      "Epoch 38/50\n",
      "2/2 [==============================] - 0s 8ms/step - loss: -64.3783 - accuracy: 0.0000e+00\n",
      "Epoch 39/50\n",
      "2/2 [==============================] - 0s 9ms/step - loss: -64.3783 - accuracy: 0.0000e+00\n",
      "Epoch 40/50\n",
      "1/2 [==============>...............] - ETA: 0s - loss: -69.2887 - accuracy: 0.0000e+00\n",
      "Epoch 40: saving model to checkpoints\\weights.40.hdf5\n",
      "2/2 [==============================] - 0s 125ms/step - loss: -64.3783 - accuracy: 0.0000e+00\n",
      "Epoch 41/50\n",
      "2/2 [==============================] - 0s 8ms/step - loss: -64.3783 - accuracy: 0.0000e+00\n",
      "Epoch 42/50\n",
      "2/2 [==============================] - 0s 16ms/step - loss: -64.3783 - accuracy: 0.0000e+00\n",
      "Epoch 43/50\n",
      "2/2 [==============================] - 0s 10ms/step - loss: -64.3783 - accuracy: 0.0000e+00\n",
      "Epoch 44/50\n",
      "2/2 [==============================] - 0s 12ms/step - loss: -64.3783 - accuracy: 0.0000e+00\n",
      "Epoch 45/50\n",
      "1/2 [==============>...............] - ETA: 0s - loss: -66.7631 - accuracy: 0.0000e+00\n",
      "Epoch 45: saving model to checkpoints\\weights.45.hdf5\n",
      "2/2 [==============================] - 0s 113ms/step - loss: -64.3783 - accuracy: 0.0000e+00\n",
      "Epoch 46/50\n",
      "2/2 [==============================] - 0s 7ms/step - loss: -64.3783 - accuracy: 0.0000e+00\n",
      "Epoch 47/50\n",
      "2/2 [==============================] - 0s 9ms/step - loss: -64.3783 - accuracy: 0.0000e+00\n",
      "Epoch 48/50\n",
      "2/2 [==============================] - 0s 6ms/step - loss: -64.3783 - accuracy: 0.0000e+00\n",
      "Epoch 49/50\n",
      "2/2 [==============================] - 0s 11ms/step - loss: -64.3783 - accuracy: 0.0000e+00\n",
      "Epoch 50/50\n",
      "1/2 [==============>...............] - ETA: 0s - loss: -70.2418 - accuracy: 0.0000e+00\n",
      "Epoch 50: saving model to checkpoints\\weights.50.hdf5\n",
      "2/2 [==============================] - 0s 101ms/step - loss: -64.3783 - accuracy: 0.0000e+00\n"
     ]
    }
   ],
   "source": [
    "# Train the model\n",
    "fit_model_B = nn_B.fit(X_train_scaled,y_train,epochs=50,callbacks=[cp_callback])"
   ]
  },
  {
   "cell_type": "code",
   "execution_count": 20,
   "id": "3dbddcdb",
   "metadata": {},
   "outputs": [
    {
     "name": "stdout",
     "output_type": "stream",
     "text": [
      "1/1 - 0s - loss: -5.3468e+01 - accuracy: 0.0000e+00 - 281ms/epoch - 281ms/step\n",
      "Loss: -53.4676399230957, Accuracy: 0.0\n"
     ]
    }
   ],
   "source": [
    "# Evaluate the model using the test data\n",
    "model_loss, model_accuracy = nn_B.evaluate(X_test_scaled,y_test,verbose=2)\n",
    "print(f\"Loss: {model_loss}, Accuracy: {model_accuracy}\")"
   ]
  },
  {
   "cell_type": "code",
   "execution_count": 21,
   "id": "0c18eedc",
   "metadata": {},
   "outputs": [
    {
     "data": {
      "text/plain": [
       "<AxesSubplot:>"
      ]
     },
     "execution_count": 21,
     "metadata": {},
     "output_type": "execute_result"
    },
    {
     "data": {
      "image/png": "[encoded data removed]",
      "text/plain": [
       "<Figure size 432x288 with 1 Axes>"
      ]
     },
     "metadata": {
      "needs_background": "light"
     },
     "output_type": "display_data"
    }
   ],
   "source": [
    "# Create a DataFrame containing training history\n",
    "history_df_B = pd.DataFrame(fit_model_B.history, index=range(1,len(fit_model_B.history[\"loss\"])+1))\n",
    "\n",
    "# Plot the loss\n",
    "history_df_B.plot(y=\"loss\")"
   ]
  },
  {
   "cell_type": "code",
   "execution_count": 22,
   "id": "9cea9eb8",
   "metadata": {},
   "outputs": [
    {
     "data": {
      "text/plain": [
       "<AxesSubplot:>"
      ]
     },
     "execution_count": 22,
     "metadata": {},
     "output_type": "execute_result"
    },
    {
     "data": {
      "image/png": "[encoded data removed]",
      "text/plain": [
       "<Figure size 432x288 with 1 Axes>"
      ]
     },
     "metadata": {
      "needs_background": "light"
     },
     "output_type": "display_data"
    }
   ],
   "source": [
    "# Plot the accuracy\n",
    "history_df_B.plot(y=\"accuracy\")"
   ]
  },
  {
   "cell_type": "markdown",
   "id": "8eaf14ab",
   "metadata": {},
   "source": [
    "### Now a third attempt without the Covid-19 data"
   ]
  },
  {
   "cell_type": "code",
   "execution_count": 23,
   "id": "876b3329",
   "metadata": {},
   "outputs": [
    {
     "data": {
      "text/html": [
       "<div>\n",
       "<style scoped>\n",
       "    .dataframe tbody tr th:only-of-type {\n",
       "        vertical-align: middle;\n",
       "    }\n",
       "\n",
       "    .dataframe tbody tr th {\n",
       "        vertical-align: top;\n",
       "    }\n",
       "\n",
       "    .dataframe thead th {\n",
       "        text-align: right;\n",
       "    }\n",
       "</style>\n",
       "<table border=\"1\" class=\"dataframe\">\n",
       "  <thead>\n",
       "    <tr style=\"text-align: right;\">\n",
       "      <th></th>\n",
       "      <th>Date</th>\n",
       "      <th>S_P Close</th>\n",
       "      <th>S_P Volume</th>\n",
       "      <th>Median Sale Price</th>\n",
       "      <th>Homes Sold</th>\n",
       "      <th>INFLATION_EXPECTATION</th>\n",
       "      <th>SALES</th>\n",
       "      <th>UNEMPLOYMENT</th>\n",
       "      <th>NAS Value</th>\n",
       "      <th>NAS Volume</th>\n",
       "      <th>Covid_New_Cases</th>\n",
       "      <th>Covid_Death</th>\n",
       "    </tr>\n",
       "  </thead>\n",
       "  <tbody>\n",
       "    <tr>\n",
       "      <th>0</th>\n",
       "      <td>1/1/2017</td>\n",
       "      <td>2278.87</td>\n",
       "      <td>42691599000</td>\n",
       "      <td>246000</td>\n",
       "      <td>360977</td>\n",
       "      <td>2.6</td>\n",
       "      <td>368960</td>\n",
       "      <td>4.7</td>\n",
       "      <td>5614.786</td>\n",
       "      <td>8376144160</td>\n",
       "      <td>NaN</td>\n",
       "      <td>NaN</td>\n",
       "    </tr>\n",
       "    <tr>\n",
       "      <th>1</th>\n",
       "      <td>2/1/2017</td>\n",
       "      <td>2363.64</td>\n",
       "      <td>40740785000</td>\n",
       "      <td>247000</td>\n",
       "      <td>369081</td>\n",
       "      <td>2.7</td>\n",
       "      <td>365480</td>\n",
       "      <td>4.6</td>\n",
       "      <td>5825.438</td>\n",
       "      <td>8563523411</td>\n",
       "      <td>NaN</td>\n",
       "      <td>NaN</td>\n",
       "    </tr>\n",
       "    <tr>\n",
       "      <th>2</th>\n",
       "      <td>3/1/2017</td>\n",
       "      <td>2362.72</td>\n",
       "      <td>47262643000</td>\n",
       "      <td>257000</td>\n",
       "      <td>533610</td>\n",
       "      <td>2.5</td>\n",
       "      <td>422891</td>\n",
       "      <td>4.4</td>\n",
       "      <td>5911.738</td>\n",
       "      <td>10998962695</td>\n",
       "      <td>NaN</td>\n",
       "      <td>NaN</td>\n",
       "    </tr>\n",
       "    <tr>\n",
       "      <th>3</th>\n",
       "      <td>4/1/2017</td>\n",
       "      <td>2384.20</td>\n",
       "      <td>37735945000</td>\n",
       "      <td>262000</td>\n",
       "      <td>516823</td>\n",
       "      <td>2.5</td>\n",
       "      <td>407165</td>\n",
       "      <td>4.4</td>\n",
       "      <td>6047.606</td>\n",
       "      <td>8302492073</td>\n",
       "      <td>NaN</td>\n",
       "      <td>NaN</td>\n",
       "    </tr>\n",
       "    <tr>\n",
       "      <th>4</th>\n",
       "      <td>5/1/2017</td>\n",
       "      <td>2411.80</td>\n",
       "      <td>44654185000</td>\n",
       "      <td>269000</td>\n",
       "      <td>630788</td>\n",
       "      <td>2.6</td>\n",
       "      <td>434450</td>\n",
       "      <td>4.4</td>\n",
       "      <td>6198.517</td>\n",
       "      <td>10239273745</td>\n",
       "      <td>NaN</td>\n",
       "      <td>NaN</td>\n",
       "    </tr>\n",
       "  </tbody>\n",
       "</table>\n",
       "</div>"
      ],
      "text/plain": [
       "       Date  S_P Close   S_P Volume  Median Sale Price  Homes Sold  \\\n",
       "0  1/1/2017    2278.87  42691599000             246000      360977   \n",
       "1  2/1/2017    2363.64  40740785000             247000      369081   \n",
       "2  3/1/2017    2362.72  47262643000             257000      533610   \n",
       "3  4/1/2017    2384.20  37735945000             262000      516823   \n",
       "4  5/1/2017    2411.80  44654185000             269000      630788   \n",
       "\n",
       "   INFLATION_EXPECTATION   SALES  UNEMPLOYMENT  NAS Value   NAS Volume  \\\n",
       "0                    2.6  368960           4.7   5614.786   8376144160   \n",
       "1                    2.7  365480           4.6   5825.438   8563523411   \n",
       "2                    2.5  422891           4.4   5911.738  10998962695   \n",
       "3                    2.5  407165           4.4   6047.606   8302492073   \n",
       "4                    2.6  434450           4.4   6198.517  10239273745   \n",
       "\n",
       "   Covid_New_Cases  Covid_Death  \n",
       "0              NaN          NaN  \n",
       "1              NaN          NaN  \n",
       "2              NaN          NaN  \n",
       "3              NaN          NaN  \n",
       "4              NaN          NaN  "
      ]
     },
     "execution_count": 23,
     "metadata": {},
     "output_type": "execute_result"
    }
   ],
   "source": [
    "working_df = pd.read_csv(Path('Resources/CSV files/FINAL_DATABASE.csv'))\n",
    "working_df.head(5)"
   ]
  },
  {
   "cell_type": "code",
   "execution_count": 24,
   "id": "5eef2a90",
   "metadata": {},
   "outputs": [],
   "source": [
    "# Split our preprocessed data into our features and target arrays\n",
    "y = working_df.UNEMPLOYMENT\n",
    "X = working_df.drop(columns=[\"Date\",\"UNEMPLOYMENT\", \"Covid_New_Cases\", \"Covid_Death\"])"
   ]
  },
  {
   "cell_type": "code",
   "execution_count": 25,
   "id": "ac884acb",
   "metadata": {},
   "outputs": [
    {
     "data": {
      "text/plain": [
       "16"
      ]
     },
     "execution_count": 25,
     "metadata": {},
     "output_type": "execute_result"
    }
   ],
   "source": [
    "X_train,X_test,y_train,y_test=train_test_split(X,y,random_state=42)\n",
    "len(X_test)\n"
   ]
  },
  {
   "cell_type": "code",
   "execution_count": 26,
   "id": "31c2359b",
   "metadata": {},
   "outputs": [
    {
     "data": {
      "text/plain": [
       "16"
      ]
     },
     "execution_count": 26,
     "metadata": {},
     "output_type": "execute_result"
    }
   ],
   "source": [
    "len(y_test)"
   ]
  },
  {
   "cell_type": "code",
   "execution_count": 27,
   "id": "6122477b",
   "metadata": {},
   "outputs": [],
   "source": [
    "# Create a StandardScaler instances\n",
    "scaler = StandardScaler()\n",
    "\n",
    "# Fit the StandardScaler\n",
    "X_scaler = scaler.fit(X_train)\n",
    "\n",
    "# Scale the data\n",
    "X_train_scaled = X_scaler.transform(X_train)\n",
    "X_test_scaled = X_scaler.transform(X_test)"
   ]
  },
  {
   "cell_type": "code",
   "execution_count": 28,
   "id": "e8f81500",
   "metadata": {},
   "outputs": [
    {
     "name": "stdout",
     "output_type": "stream",
     "text": [
      "Model: \"sequential_2\"\n",
      "_________________________________________________________________\n",
      " Layer (type)                Output Shape              Param #   \n",
      "=================================================================\n",
      " dense_7 (Dense)             (None, 40)                360       \n",
      "                                                                 \n",
      " dense_8 (Dense)             (None, 20)                820       \n",
      "                                                                 \n",
      " dense_9 (Dense)             (None, 20)                420       \n",
      "                                                                 \n",
      " dense_10 (Dense)            (None, 1)                 21        \n",
      "                                                                 \n",
      "=================================================================\n",
      "Total params: 1,621\n",
      "Trainable params: 1,621\n",
      "Non-trainable params: 0\n",
      "_________________________________________________________________\n"
     ]
    }
   ],
   "source": [
    "# Define the model - deep neural net, i.e., the number of input features and hidden nodes for each layer.\n",
    "number_input_features = len(X_train_scaled[0])\n",
    "hidden_nodes_layer1 = 40\n",
    "hidden_nodes_layer2 = 20\n",
    "hidden_nodes_layer3 = 20\n",
    "\n",
    "nn_C = tf.keras.models.Sequential()\n",
    "\n",
    "# First hidden layer\n",
    "nn_C.add(tf.keras.layers.Dense(units=hidden_nodes_layer1, input_dim=number_input_features, activation=\"relu\"))\n",
    "\n",
    "# Second hidden layer\n",
    "nn_C.add(tf.keras.layers.Dense(units=hidden_nodes_layer2, activation=\"LeakyReLU\"))\n",
    "\n",
    "# Third hidden layer\n",
    "nn_C.add(tf.keras.layers.Dense(units=hidden_nodes_layer3, activation=\"tanh\"))\n",
    "\n",
    "# Output layer\n",
    "nn_C.add(tf.keras.layers.Dense(units=1, activation=\"relu\"))\n",
    "\n",
    "# Check the structure of the model\n",
    "nn_C.summary()"
   ]
  },
  {
   "cell_type": "code",
   "execution_count": 29,
   "id": "13ff160c",
   "metadata": {},
   "outputs": [],
   "source": [
    "# Compile the model\n",
    "nn_C.compile(loss=\"binary_crossentropy\", optimizer=\"adam\", metrics=[\"accuracy\"])\n",
    "\n",
    "# Create a callback that saves the model's weights every epoch\n",
    "cp_callback = ModelCheckpoint(\n",
    "    filepath=checkpoint_path,\n",
    "    verbose=1,\n",
    "    save_weights_only=True,\n",
    "    save_freq=10)"
   ]
  },
  {
   "cell_type": "code",
   "execution_count": 30,
   "id": "f44f1ecb",
   "metadata": {},
   "outputs": [
    {
     "name": "stdout",
     "output_type": "stream",
     "text": [
      "Epoch 1/50\n",
      "2/2 [==============================] - 1s 7ms/step - loss: 70.9972 - accuracy: 0.0000e+00\n",
      "Epoch 2/50\n",
      "2/2 [==============================] - 0s 10ms/step - loss: 55.5091 - accuracy: 0.0000e+00\n",
      "Epoch 3/50\n",
      "2/2 [==============================] - 0s 8ms/step - loss: 42.8111 - accuracy: 0.0000e+00\n",
      "Epoch 4/50\n",
      "2/2 [==============================] - 0s 7ms/step - loss: 28.8519 - accuracy: 0.0000e+00\n",
      "Epoch 5/50\n",
      "1/2 [==============>...............] - ETA: 0s - loss: 20.6649 - accuracy: 0.0000e+00\n",
      "Epoch 5: saving model to checkpoints\\weights.05.hdf5\n",
      "2/2 [==============================] - 0s 101ms/step - loss: 19.7683 - accuracy: 0.0000e+00\n",
      "Epoch 6/50\n",
      "2/2 [==============================] - 0s 26ms/step - loss: 10.6146 - accuracy: 0.0000e+00\n",
      "Epoch 7/50\n",
      "2/2 [==============================] - 0s 9ms/step - loss: 6.6637 - accuracy: 0.0000e+00\n",
      "Epoch 8/50\n",
      "2/2 [==============================] - 0s 9ms/step - loss: 0.7852 - accuracy: 0.0000e+00\n",
      "Epoch 9/50\n",
      "2/2 [==============================] - 0s 8ms/step - loss: -8.2998 - accuracy: 0.0000e+00\n",
      "Epoch 10/50\n",
      "1/2 [==============>...............] - ETA: 0s - loss: -8.6040 - accuracy: 0.0000e+00\n",
      "Epoch 10: saving model to checkpoints\\weights.10.hdf5\n",
      "2/2 [==============================] - 0s 75ms/step - loss: -11.1961 - accuracy: 0.0000e+00\n",
      "Epoch 11/50\n",
      "2/2 [==============================] - 0s 5ms/step - loss: -12.8619 - accuracy: 0.0000e+00\n",
      "Epoch 12/50\n",
      "2/2 [==============================] - 0s 6ms/step - loss: -16.5401 - accuracy: 0.0000e+00\n",
      "Epoch 13/50\n",
      "2/2 [==============================] - 0s 7ms/step - loss: -27.8920 - accuracy: 0.0000e+00\n",
      "Epoch 14/50\n",
      "2/2 [==============================] - 0s 6ms/step - loss: -32.8209 - accuracy: 0.0000e+00\n",
      "Epoch 15/50\n",
      "1/2 [==============>...............] - ETA: 0s - loss: -35.6757 - accuracy: 0.0000e+00\n",
      "Epoch 15: saving model to checkpoints\\weights.15.hdf5\n",
      "2/2 [==============================] - 0s 100ms/step - loss: -39.5787 - accuracy: 0.0000e+00\n",
      "Epoch 16/50\n",
      "2/2 [==============================] - 0s 6ms/step - loss: -42.3633 - accuracy: 0.0000e+00\n",
      "Epoch 17/50\n",
      "2/2 [==============================] - 0s 7ms/step - loss: -47.1293 - accuracy: 0.0000e+00\n",
      "Epoch 18/50\n",
      "2/2 [==============================] - 0s 19ms/step - loss: -51.8405 - accuracy: 0.0000e+00\n",
      "Epoch 19/50\n",
      "2/2 [==============================] - 0s 10ms/step - loss: -54.6081 - accuracy: 0.0000e+00\n",
      "Epoch 20/50\n",
      "1/2 [==============>...............] - ETA: 0s - loss: -62.0261 - accuracy: 0.0000e+00\n",
      "Epoch 20: saving model to checkpoints\\weights.20.hdf5\n",
      "2/2 [==============================] - 0s 131ms/step - loss: -62.0112 - accuracy: 0.0000e+00\n",
      "Epoch 21/50\n",
      "2/2 [==============================] - 0s 9ms/step - loss: -62.8015 - accuracy: 0.0000e+00\n",
      "Epoch 22/50\n",
      "2/2 [==============================] - 0s 6ms/step - loss: -63.6205 - accuracy: 0.0000e+00\n",
      "Epoch 23/50\n",
      "2/2 [==============================] - 0s 11ms/step - loss: -63.6604 - accuracy: 0.0000e+00\n",
      "Epoch 24/50\n",
      "2/2 [==============================] - 0s 6ms/step - loss: -63.6788 - accuracy: 0.0000e+00\n",
      "Epoch 25/50\n",
      "1/2 [==============>...............] - ETA: 0s - loss: -66.7528 - accuracy: 0.0000e+00\n",
      "Epoch 25: saving model to checkpoints\\weights.25.hdf5\n",
      "2/2 [==============================] - 0s 81ms/step - loss: -63.7413 - accuracy: 0.0000e+00\n",
      "Epoch 26/50\n",
      "2/2 [==============================] - 0s 7ms/step - loss: -64.3783 - accuracy: 0.0000e+00\n",
      "Epoch 27/50\n",
      "2/2 [==============================] - 0s 7ms/step - loss: -64.3783 - accuracy: 0.0000e+00\n",
      "Epoch 28/50\n",
      "2/2 [==============================] - 0s 6ms/step - loss: -64.3783 - accuracy: 0.0000e+00\n",
      "Epoch 29/50\n",
      "2/2 [==============================] - 0s 7ms/step - loss: -64.3783 - accuracy: 0.0000e+00\n",
      "Epoch 30/50\n",
      "1/2 [==============>...............] - ETA: 0s - loss: -60.6157 - accuracy: 0.0000e+00\n",
      "Epoch 30: saving model to checkpoints\\weights.30.hdf5\n",
      "2/2 [==============================] - 0s 117ms/step - loss: -64.3783 - accuracy: 0.0000e+00\n",
      "Epoch 31/50\n",
      "2/2 [==============================] - 0s 7ms/step - loss: -64.3783 - accuracy: 0.0000e+00\n",
      "Epoch 32/50\n",
      "2/2 [==============================] - 0s 13ms/step - loss: -64.3783 - accuracy: 0.0000e+00\n",
      "Epoch 33/50\n",
      "2/2 [==============================] - 0s 9ms/step - loss: -64.3783 - accuracy: 0.0000e+00\n",
      "Epoch 34/50\n",
      "2/2 [==============================] - 0s 6ms/step - loss: -64.3783 - accuracy: 0.0000e+00\n",
      "Epoch 35/50\n",
      "1/2 [==============>...............] - ETA: 0s - loss: -70.0512 - accuracy: 0.0000e+00\n",
      "Epoch 35: saving model to checkpoints\\weights.35.hdf5\n",
      "2/2 [==============================] - 0s 149ms/step - loss: -64.3783 - accuracy: 0.0000e+00\n",
      "Epoch 36/50\n",
      "2/2 [==============================] - 0s 7ms/step - loss: -64.3783 - accuracy: 0.0000e+00\n",
      "Epoch 37/50\n",
      "2/2 [==============================] - 0s 9ms/step - loss: -64.3783 - accuracy: 0.0000e+00\n",
      "Epoch 38/50\n",
      "2/2 [==============================] - 0s 6ms/step - loss: -64.3783 - accuracy: 0.0000e+00\n",
      "Epoch 39/50\n",
      "2/2 [==============================] - 0s 8ms/step - loss: -64.3783 - accuracy: 0.0000e+00\n",
      "Epoch 40/50\n",
      "1/2 [==============>...............] - ETA: 0s - loss: -68.0974 - accuracy: 0.0000e+00\n",
      "Epoch 40: saving model to checkpoints\\weights.40.hdf5\n",
      "2/2 [==============================] - 0s 113ms/step - loss: -64.3783 - accuracy: 0.0000e+00\n",
      "Epoch 41/50\n",
      "2/2 [==============================] - 0s 9ms/step - loss: -64.3783 - accuracy: 0.0000e+00\n",
      "Epoch 42/50\n",
      "2/2 [==============================] - 0s 7ms/step - loss: -64.3783 - accuracy: 0.0000e+00\n",
      "Epoch 43/50\n",
      "2/2 [==============================] - 0s 9ms/step - loss: -64.3783 - accuracy: 0.0000e+00\n",
      "Epoch 44/50\n",
      "2/2 [==============================] - 0s 12ms/step - loss: -64.3783 - accuracy: 0.0000e+00\n",
      "Epoch 45/50\n",
      "1/2 [==============>...............] - ETA: 0s - loss: -68.2403 - accuracy: 0.0000e+00\n",
      "Epoch 45: saving model to checkpoints\\weights.45.hdf5\n",
      "2/2 [==============================] - 0s 73ms/step - loss: -64.3783 - accuracy: 0.0000e+00\n",
      "Epoch 46/50\n",
      "2/2 [==============================] - 0s 4ms/step - loss: -64.3783 - accuracy: 0.0000e+00\n",
      "Epoch 47/50\n",
      "2/2 [==============================] - 0s 4ms/step - loss: -64.3783 - accuracy: 0.0000e+00\n",
      "Epoch 48/50\n",
      "2/2 [==============================] - 0s 4ms/step - loss: -64.3783 - accuracy: 0.0000e+00\n",
      "Epoch 49/50\n",
      "2/2 [==============================] - 0s 6ms/step - loss: -64.3783 - accuracy: 0.0000e+00\n",
      "Epoch 50/50\n",
      "1/2 [==============>...............] - ETA: 0s - loss: -67.0966 - accuracy: 0.0000e+00\n",
      "Epoch 50: saving model to checkpoints\\weights.50.hdf5\n",
      "2/2 [==============================] - 0s 92ms/step - loss: -64.3783 - accuracy: 0.0000e+00\n"
     ]
    }
   ],
   "source": [
    "# Train the model\n",
    "fit_model_C = nn_C.fit(X_train_scaled,y_train,epochs=50,callbacks=[cp_callback])"
   ]
  },
  {
   "cell_type": "code",
   "execution_count": 31,
   "id": "04168b9f",
   "metadata": {},
   "outputs": [
    {
     "name": "stdout",
     "output_type": "stream",
     "text": [
      "1/1 - 0s - loss: -5.1848e+01 - accuracy: 0.0000e+00 - 297ms/epoch - 297ms/step\n",
      "Loss: -51.848426818847656, Accuracy: 0.0\n"
     ]
    }
   ],
   "source": [
    "# Evaluate the model using the test data\n",
    "model_loss, model_accuracy = nn_C.evaluate(X_test_scaled,y_test,verbose=2)\n",
    "print(f\"Loss: {model_loss}, Accuracy: {model_accuracy}\")"
   ]
  },
  {
   "cell_type": "code",
   "execution_count": 32,
   "id": "5333c391",
   "metadata": {},
   "outputs": [
    {
     "data": {
      "text/plain": [
       "<AxesSubplot:>"
      ]
     },
     "execution_count": 32,
     "metadata": {},
     "output_type": "execute_result"
    },
    {
     "data": {
      "image/png": "[encoded data removed]",
      "text/plain": [
       "<Figure size 432x288 with 1 Axes>"
      ]
     },
     "metadata": {
      "needs_background": "light"
     },
     "output_type": "display_data"
    }
   ],
   "source": [
    "# Create a DataFrame containing training history\n",
    "history_df_C = pd.DataFrame(fit_model_C.history, index=range(1,len(fit_model_C.history[\"loss\"])+1))\n",
    "\n",
    "# Plot the loss\n",
    "history_df_C.plot(y=\"loss\")"
   ]
  },
  {
   "cell_type": "code",
   "execution_count": 33,
   "id": "012bc4e0",
   "metadata": {},
   "outputs": [
    {
     "data": {
      "text/plain": [
       "<AxesSubplot:>"
      ]
     },
     "execution_count": 33,
     "metadata": {},
     "output_type": "execute_result"
    },
    {
     "data": {
      "image/png": "[encoded data removed]",
      "text/plain": [
       "<Figure size 432x288 with 1 Axes>"
      ]
     },
     "metadata": {
      "needs_background": "light"
     },
     "output_type": "display_data"
    }
   ],
   "source": [
    "# Plot the accuracy\n",
    "history_df_C.plot(y=\"accuracy\")"
   ]
  }
 ],
 "metadata": {
  "kernelspec": {
   "display_name": "mlenv",
   "language": "python",
   "name": "mlenv"
  },
  "language_info": {
   "codemirror_mode": {
    "name": "ipython",
    "version": 3
   },
   "file_extension": ".py",
   "mimetype": "text/x-python",
   "name": "python",
   "nbconvert_exporter": "python",
   "pygments_lexer": "ipython3",
   "version": "3.7.11"
  }
 },
 "nbformat": 4,
 "nbformat_minor": 5
}

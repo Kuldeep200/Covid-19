{
 "cells": [
  {
   "cell_type": "code",
   "execution_count": 1,
   "id": "d2b00ff0",
   "metadata": {},
   "outputs": [],
   "source": [
    "# Import our dependencies\n",
    "import pandas as pd\n",
    "import tensorflow as tf\n",
    "import numpy as np \n",
    "from pathlib import Path\n",
    "import matplotlib.pyplot as plt\n",
    "from sklearn.preprocessing import StandardScaler\n",
    "from sklearn.linear_model import LinearRegression\n",
    "from sklearn.model_selection import train_test_split\n",
    "\n",
    "# importing the r2_score module\n",
    "from sklearn.metrics import r2_score\n",
    "from sklearn.metrics import mean_squared_error\n"
   ]
  },
  {
   "cell_type": "code",
   "execution_count": 2,
   "id": "6c1aaeca",
   "metadata": {},
   "outputs": [
    {
     "data": {
      "text/html": [
       "<div>\n",
       "<style scoped>\n",
       "    .dataframe tbody tr th:only-of-type {\n",
       "        vertical-align: middle;\n",
       "    }\n",
       "\n",
       "    .dataframe tbody tr th {\n",
       "        vertical-align: top;\n",
       "    }\n",
       "\n",
       "    .dataframe thead th {\n",
       "        text-align: right;\n",
       "    }\n",
       "</style>\n",
       "<table border=\"1\" class=\"dataframe\">\n",
       "  <thead>\n",
       "    <tr style=\"text-align: right;\">\n",
       "      <th></th>\n",
       "      <th>Date</th>\n",
       "      <th>S_P Close</th>\n",
       "      <th>S_P Volume</th>\n",
       "      <th>Median Sale Price</th>\n",
       "      <th>Homes Sold</th>\n",
       "      <th>INFLATION_EXPECTATION</th>\n",
       "      <th>SALES</th>\n",
       "      <th>UNEMPLOYMENT</th>\n",
       "      <th>NAS Value</th>\n",
       "      <th>NAS Volume</th>\n",
       "      <th>Covid_New_Cases</th>\n",
       "      <th>Covid_Death</th>\n",
       "    </tr>\n",
       "  </thead>\n",
       "  <tbody>\n",
       "    <tr>\n",
       "      <th>0</th>\n",
       "      <td>1/1/2017</td>\n",
       "      <td>2278.87</td>\n",
       "      <td>42691599000</td>\n",
       "      <td>246000</td>\n",
       "      <td>360977</td>\n",
       "      <td>2.6</td>\n",
       "      <td>368960</td>\n",
       "      <td>4.7</td>\n",
       "      <td>5614.786</td>\n",
       "      <td>8376144160</td>\n",
       "      <td>NaN</td>\n",
       "      <td>NaN</td>\n",
       "    </tr>\n",
       "    <tr>\n",
       "      <th>1</th>\n",
       "      <td>2/1/2017</td>\n",
       "      <td>2363.64</td>\n",
       "      <td>40740785000</td>\n",
       "      <td>247000</td>\n",
       "      <td>369081</td>\n",
       "      <td>2.7</td>\n",
       "      <td>365480</td>\n",
       "      <td>4.6</td>\n",
       "      <td>5825.438</td>\n",
       "      <td>8563523411</td>\n",
       "      <td>NaN</td>\n",
       "      <td>NaN</td>\n",
       "    </tr>\n",
       "    <tr>\n",
       "      <th>2</th>\n",
       "      <td>3/1/2017</td>\n",
       "      <td>2362.72</td>\n",
       "      <td>47262643000</td>\n",
       "      <td>257000</td>\n",
       "      <td>533610</td>\n",
       "      <td>2.5</td>\n",
       "      <td>422891</td>\n",
       "      <td>4.4</td>\n",
       "      <td>5911.738</td>\n",
       "      <td>10998962695</td>\n",
       "      <td>NaN</td>\n",
       "      <td>NaN</td>\n",
       "    </tr>\n",
       "    <tr>\n",
       "      <th>3</th>\n",
       "      <td>4/1/2017</td>\n",
       "      <td>2384.20</td>\n",
       "      <td>37735945000</td>\n",
       "      <td>262000</td>\n",
       "      <td>516823</td>\n",
       "      <td>2.5</td>\n",
       "      <td>407165</td>\n",
       "      <td>4.4</td>\n",
       "      <td>6047.606</td>\n",
       "      <td>8302492073</td>\n",
       "      <td>NaN</td>\n",
       "      <td>NaN</td>\n",
       "    </tr>\n",
       "    <tr>\n",
       "      <th>4</th>\n",
       "      <td>5/1/2017</td>\n",
       "      <td>2411.80</td>\n",
       "      <td>44654185000</td>\n",
       "      <td>269000</td>\n",
       "      <td>630788</td>\n",
       "      <td>2.6</td>\n",
       "      <td>434450</td>\n",
       "      <td>4.4</td>\n",
       "      <td>6198.517</td>\n",
       "      <td>10239273745</td>\n",
       "      <td>NaN</td>\n",
       "      <td>NaN</td>\n",
       "    </tr>\n",
       "  </tbody>\n",
       "</table>\n",
       "</div>"
      ],
      "text/plain": [
       "       Date  S_P Close   S_P Volume  Median Sale Price  Homes Sold  \\\n",
       "0  1/1/2017    2278.87  42691599000             246000      360977   \n",
       "1  2/1/2017    2363.64  40740785000             247000      369081   \n",
       "2  3/1/2017    2362.72  47262643000             257000      533610   \n",
       "3  4/1/2017    2384.20  37735945000             262000      516823   \n",
       "4  5/1/2017    2411.80  44654185000             269000      630788   \n",
       "\n",
       "   INFLATION_EXPECTATION   SALES  UNEMPLOYMENT  NAS Value   NAS Volume  \\\n",
       "0                    2.6  368960           4.7   5614.786   8376144160   \n",
       "1                    2.7  365480           4.6   5825.438   8563523411   \n",
       "2                    2.5  422891           4.4   5911.738  10998962695   \n",
       "3                    2.5  407165           4.4   6047.606   8302492073   \n",
       "4                    2.6  434450           4.4   6198.517  10239273745   \n",
       "\n",
       "   Covid_New_Cases  Covid_Death  \n",
       "0              NaN          NaN  \n",
       "1              NaN          NaN  \n",
       "2              NaN          NaN  \n",
       "3              NaN          NaN  \n",
       "4              NaN          NaN  "
      ]
     },
     "execution_count": 2,
     "metadata": {},
     "output_type": "execute_result"
    }
   ],
   "source": [
    "working_df = pd.read_csv(Path('Resources/CSV files/FINAL_DATABASE.csv'))\n",
    "working_df.head(5)"
   ]
  },
  {
   "cell_type": "code",
   "execution_count": 3,
   "id": "2f1254e4",
   "metadata": {},
   "outputs": [
    {
     "data": {
      "text/html": [
       "<div>\n",
       "<style scoped>\n",
       "    .dataframe tbody tr th:only-of-type {\n",
       "        vertical-align: middle;\n",
       "    }\n",
       "\n",
       "    .dataframe tbody tr th {\n",
       "        vertical-align: top;\n",
       "    }\n",
       "\n",
       "    .dataframe thead th {\n",
       "        text-align: right;\n",
       "    }\n",
       "</style>\n",
       "<table border=\"1\" class=\"dataframe\">\n",
       "  <thead>\n",
       "    <tr style=\"text-align: right;\">\n",
       "      <th></th>\n",
       "      <th>Date</th>\n",
       "      <th>S_P Close</th>\n",
       "      <th>S_P Volume</th>\n",
       "      <th>Median Sale Price</th>\n",
       "      <th>Homes Sold</th>\n",
       "      <th>INFLATION_EXPECTATION</th>\n",
       "      <th>SALES</th>\n",
       "      <th>UNEMPLOYMENT</th>\n",
       "      <th>NAS Value</th>\n",
       "      <th>NAS Volume</th>\n",
       "      <th>Covid_New_Cases</th>\n",
       "      <th>Covid_Death</th>\n",
       "    </tr>\n",
       "  </thead>\n",
       "  <tbody>\n",
       "    <tr>\n",
       "      <th>0</th>\n",
       "      <td>1/1/2017</td>\n",
       "      <td>2278.87</td>\n",
       "      <td>42691599000</td>\n",
       "      <td>246000</td>\n",
       "      <td>360977</td>\n",
       "      <td>2.6</td>\n",
       "      <td>368960</td>\n",
       "      <td>4.7</td>\n",
       "      <td>5614.786</td>\n",
       "      <td>8376144160</td>\n",
       "      <td>0.0</td>\n",
       "      <td>0.0</td>\n",
       "    </tr>\n",
       "    <tr>\n",
       "      <th>1</th>\n",
       "      <td>2/1/2017</td>\n",
       "      <td>2363.64</td>\n",
       "      <td>40740785000</td>\n",
       "      <td>247000</td>\n",
       "      <td>369081</td>\n",
       "      <td>2.7</td>\n",
       "      <td>365480</td>\n",
       "      <td>4.6</td>\n",
       "      <td>5825.438</td>\n",
       "      <td>8563523411</td>\n",
       "      <td>0.0</td>\n",
       "      <td>0.0</td>\n",
       "    </tr>\n",
       "    <tr>\n",
       "      <th>2</th>\n",
       "      <td>3/1/2017</td>\n",
       "      <td>2362.72</td>\n",
       "      <td>47262643000</td>\n",
       "      <td>257000</td>\n",
       "      <td>533610</td>\n",
       "      <td>2.5</td>\n",
       "      <td>422891</td>\n",
       "      <td>4.4</td>\n",
       "      <td>5911.738</td>\n",
       "      <td>10998962695</td>\n",
       "      <td>0.0</td>\n",
       "      <td>0.0</td>\n",
       "    </tr>\n",
       "    <tr>\n",
       "      <th>3</th>\n",
       "      <td>4/1/2017</td>\n",
       "      <td>2384.20</td>\n",
       "      <td>37735945000</td>\n",
       "      <td>262000</td>\n",
       "      <td>516823</td>\n",
       "      <td>2.5</td>\n",
       "      <td>407165</td>\n",
       "      <td>4.4</td>\n",
       "      <td>6047.606</td>\n",
       "      <td>8302492073</td>\n",
       "      <td>0.0</td>\n",
       "      <td>0.0</td>\n",
       "    </tr>\n",
       "    <tr>\n",
       "      <th>4</th>\n",
       "      <td>5/1/2017</td>\n",
       "      <td>2411.80</td>\n",
       "      <td>44654185000</td>\n",
       "      <td>269000</td>\n",
       "      <td>630788</td>\n",
       "      <td>2.6</td>\n",
       "      <td>434450</td>\n",
       "      <td>4.4</td>\n",
       "      <td>6198.517</td>\n",
       "      <td>10239273745</td>\n",
       "      <td>0.0</td>\n",
       "      <td>0.0</td>\n",
       "    </tr>\n",
       "  </tbody>\n",
       "</table>\n",
       "</div>"
      ],
      "text/plain": [
       "       Date  S_P Close   S_P Volume  Median Sale Price  Homes Sold  \\\n",
       "0  1/1/2017    2278.87  42691599000             246000      360977   \n",
       "1  2/1/2017    2363.64  40740785000             247000      369081   \n",
       "2  3/1/2017    2362.72  47262643000             257000      533610   \n",
       "3  4/1/2017    2384.20  37735945000             262000      516823   \n",
       "4  5/1/2017    2411.80  44654185000             269000      630788   \n",
       "\n",
       "   INFLATION_EXPECTATION   SALES  UNEMPLOYMENT  NAS Value   NAS Volume  \\\n",
       "0                    2.6  368960           4.7   5614.786   8376144160   \n",
       "1                    2.7  365480           4.6   5825.438   8563523411   \n",
       "2                    2.5  422891           4.4   5911.738  10998962695   \n",
       "3                    2.5  407165           4.4   6047.606   8302492073   \n",
       "4                    2.6  434450           4.4   6198.517  10239273745   \n",
       "\n",
       "   Covid_New_Cases  Covid_Death  \n",
       "0              0.0          0.0  \n",
       "1              0.0          0.0  \n",
       "2              0.0          0.0  \n",
       "3              0.0          0.0  \n",
       "4              0.0          0.0  "
      ]
     },
     "execution_count": 3,
     "metadata": {},
     "output_type": "execute_result"
    }
   ],
   "source": [
    "working_df['Covid_New_Cases'] = working_df['Covid_New_Cases'].replace(np.nan, 0)\n",
    "working_df['Covid_Death'] = working_df['Covid_Death'].replace(np.nan, 0)\n",
    "working_df.head()"
   ]
  },
  {
   "cell_type": "code",
   "execution_count": 4,
   "id": "c7c91f6e",
   "metadata": {},
   "outputs": [],
   "source": [
    "# Split our preprocessed data into our features and target arrays\n",
    "y = working_df.UNEMPLOYMENT\n",
    "X = working_df.drop(columns=[\"Date\",\"UNEMPLOYMENT\"])"
   ]
  },
  {
   "cell_type": "code",
   "execution_count": 5,
   "id": "44d933b6",
   "metadata": {},
   "outputs": [
    {
     "data": {
      "text/plain": [
       "16"
      ]
     },
     "execution_count": 5,
     "metadata": {},
     "output_type": "execute_result"
    }
   ],
   "source": [
    "X_train,X_test,y_train,y_test=train_test_split(X,y,random_state=42)\n",
    "len(X_test)\n"
   ]
  },
  {
   "cell_type": "code",
   "execution_count": 6,
   "id": "fd026b7f",
   "metadata": {},
   "outputs": [
    {
     "data": {
      "text/plain": [
       "16"
      ]
     },
     "execution_count": 6,
     "metadata": {},
     "output_type": "execute_result"
    }
   ],
   "source": [
    "len(y_test)"
   ]
  },
  {
   "cell_type": "code",
   "execution_count": 7,
   "id": "578dd0d2",
   "metadata": {},
   "outputs": [],
   "source": [
    "# Create a StandardScaler instances\n",
    "scaler = StandardScaler()\n",
    "\n",
    "# Fit the StandardScaler\n",
    "X_scaler = scaler.fit(X_train)\n",
    "\n",
    "# Scale the data\n",
    "X_train_scaled = X_scaler.transform(X_train)\n",
    "X_test_scaled = X_scaler.transform(X_test)"
   ]
  },
  {
   "cell_type": "markdown",
   "id": "d45ddd76",
   "metadata": {},
   "source": [
    "### create the neural network model"
   ]
  },
  {
   "cell_type": "code",
   "execution_count": 8,
   "id": "9fc4a07a",
   "metadata": {},
   "outputs": [],
   "source": [
    "# A good rule of thumb for a basic neural network is to have two to \n",
    "# three times the amount of neurons in the hidden layer as the number of inputs.\n",
    "# Our FINAL_DATAFRAME has 10 input features (columns) of data."
   ]
  },
  {
   "cell_type": "code",
   "execution_count": 9,
   "id": "901c66b3",
   "metadata": {},
   "outputs": [
    {
     "name": "stdout",
     "output_type": "stream",
     "text": [
      "Model: \"sequential\"\n",
      "_________________________________________________________________\n",
      " Layer (type)                Output Shape              Param #   \n",
      "=================================================================\n",
      " dense (Dense)               (None, 30)                330       \n",
      "                                                                 \n",
      " dense_1 (Dense)             (None, 20)                620       \n",
      "                                                                 \n",
      " dense_2 (Dense)             (None, 1)                 21        \n",
      "                                                                 \n",
      "=================================================================\n",
      "Total params: 971\n",
      "Trainable params: 971\n",
      "Non-trainable params: 0\n",
      "_________________________________________________________________\n"
     ]
    }
   ],
   "source": [
    "# Define the model - deep neural net, i.e., the number of input features and hidden nodes for each layer.\n",
    "number_input_features = len(X_train_scaled[0])\n",
    "hidden_nodes_layer1 = 30\n",
    "hidden_nodes_layer2 = 20\n",
    "\n",
    "nn_A = tf.keras.models.Sequential()\n",
    "\n",
    "# First hidden layer\n",
    "nn_A.add(tf.keras.layers.Dense(units=hidden_nodes_layer1, input_dim=number_input_features, activation=\"LeakyReLU\"))\n",
    "\n",
    "# Second hidden layer\n",
    "nn_A.add(tf.keras.layers.Dense(units=hidden_nodes_layer2, activation=\"LeakyReLU\"))\n",
    "\n",
    "# Output layer\n",
    "nn_A.add(tf.keras.layers.Dense(units=1, activation=\"relu\"))\n",
    "\n",
    "# Check the structure of the model\n",
    "nn_A.summary()"
   ]
  },
  {
   "cell_type": "code",
   "execution_count": 10,
   "id": "27b0d4b1",
   "metadata": {},
   "outputs": [],
   "source": [
    "# Import checkpoint dependencies\n",
    "import os\n",
    "from tensorflow.keras.callbacks import ModelCheckpoint\n",
    "\n",
    "# Define the checkpoint path and filenames\n",
    "os.makedirs(\"checkpoints/\",exist_ok=True)\n",
    "checkpoint_path = \"checkpoints/weights.{epoch:02d}.hdf5\""
   ]
  },
  {
   "cell_type": "code",
   "execution_count": 11,
   "id": "98523e13",
   "metadata": {},
   "outputs": [],
   "source": [
    "# Compile the model\n",
    "nn_A.compile(loss=\"binary_crossentropy\", optimizer=\"adam\", metrics=[\"accuracy\"])\n",
    "\n",
    "# Create a callback that saves the model's weights every epoch\n",
    "cp_callback = ModelCheckpoint(\n",
    "    filepath=checkpoint_path,\n",
    "    verbose=1,\n",
    "    save_weights_only=True,\n",
    "    save_freq=10)"
   ]
  },
  {
   "cell_type": "code",
   "execution_count": 12,
   "id": "4983e5e4",
   "metadata": {},
   "outputs": [
    {
     "name": "stdout",
     "output_type": "stream",
     "text": [
      "Epoch 1/15\n",
      "2/2 [==============================] - 1s 3ms/step - loss: -2.9020 - accuracy: 0.0000e+00\n",
      "Epoch 2/15\n",
      "2/2 [==============================] - 0s 8ms/step - loss: -3.9334 - accuracy: 0.0000e+00\n",
      "Epoch 3/15\n",
      "2/2 [==============================] - 0s 9ms/step - loss: -3.6730 - accuracy: 0.0000e+00\n",
      "Epoch 4/15\n",
      "2/2 [==============================] - 0s 4ms/step - loss: -4.6112 - accuracy: 0.0000e+00\n",
      "Epoch 5/15\n",
      "1/2 [==============>...............] - ETA: 0s - loss: -7.3738 - accuracy: 0.0000e+00\n",
      "Epoch 5: saving model to checkpoints\\weights.05.hdf5\n",
      "2/2 [==============================] - 0s 65ms/step - loss: -5.0042 - accuracy: 0.0000e+00\n",
      "Epoch 6/15\n",
      "2/2 [==============================] - 0s 6ms/step - loss: -5.3708 - accuracy: 0.0000e+00\n",
      "Epoch 7/15\n",
      "2/2 [==============================] - 0s 11ms/step - loss: -5.7444 - accuracy: 0.0000e+00\n",
      "Epoch 8/15\n",
      "2/2 [==============================] - 0s 6ms/step - loss: -6.1375 - accuracy: 0.0000e+00\n",
      "Epoch 9/15\n",
      "2/2 [==============================] - 0s 8ms/step - loss: -6.5395 - accuracy: 0.0000e+00\n",
      "Epoch 10/15\n",
      "1/2 [==============>...............] - ETA: 0s - loss: -1.9219 - accuracy: 0.0000e+00\n",
      "Epoch 10: saving model to checkpoints\\weights.10.hdf5\n",
      "2/2 [==============================] - 0s 50ms/step - loss: -7.0181 - accuracy: 0.0000e+00\n",
      "Epoch 11/15\n",
      "2/2 [==============================] - 0s 5ms/step - loss: -7.5844 - accuracy: 0.0000e+00\n",
      "Epoch 12/15\n",
      "2/2 [==============================] - 0s 13ms/step - loss: -9.2276 - accuracy: 0.0000e+00\n",
      "Epoch 13/15\n",
      "2/2 [==============================] - 0s 6ms/step - loss: -11.1310 - accuracy: 0.0000e+00\n",
      "Epoch 14/15\n",
      "2/2 [==============================] - 0s 7ms/step - loss: -13.7212 - accuracy: 0.0000e+00\n",
      "Epoch 15/15\n",
      "1/2 [==============>...............] - ETA: 0s - loss: -16.7012 - accuracy: 0.0000e+00\n",
      "Epoch 15: saving model to checkpoints\\weights.15.hdf5\n",
      "2/2 [==============================] - 0s 40ms/step - loss: -17.2576 - accuracy: 0.0000e+00\n"
     ]
    }
   ],
   "source": [
    "# Train the model\n",
    "fit_model = nn_A.fit(X_train_scaled,y_train,epochs=15,callbacks=[cp_callback])"
   ]
  },
  {
   "cell_type": "code",
   "execution_count": 13,
   "id": "3fc08751",
   "metadata": {},
   "outputs": [
    {
     "name": "stdout",
     "output_type": "stream",
     "text": [
      "1/1 - 0s - loss: -2.7682e+01 - accuracy: 0.0000e+00 - 179ms/epoch - 179ms/step\n",
      "Loss: -27.681987762451172, Accuracy: 0.0\n"
     ]
    }
   ],
   "source": [
    "# Evaluate the model using the test data\n",
    "model_loss, model_accuracy = nn_A.evaluate(X_test_scaled,y_test,verbose=2)\n",
    "print(f\"Loss: {model_loss}, Accuracy: {model_accuracy}\")"
   ]
  },
  {
   "cell_type": "code",
   "execution_count": 14,
   "id": "38ff3c4a",
   "metadata": {},
   "outputs": [
    {
     "data": {
      "text/plain": [
       "<AxesSubplot:>"
      ]
     },
     "execution_count": 14,
     "metadata": {},
     "output_type": "execute_result"
    },
    {
     "data": {
      "image/png": "[encoded data removed]",
      "text/plain": [
       "<Figure size 432x288 with 1 Axes>"
      ]
     },
     "metadata": {
      "needs_background": "light"
     },
     "output_type": "display_data"
    }
   ],
   "source": [
    "# Create a DataFrame containing training history\n",
    "history_df = pd.DataFrame(fit_model.history, index=range(1,len(fit_model.history[\"loss\"])+1))\n",
    "\n",
    "# Plot the loss\n",
    "history_df.plot(y=\"loss\")"
   ]
  },
  {
   "cell_type": "code",
   "execution_count": 15,
   "id": "7c0a8bb9",
   "metadata": {},
   "outputs": [
    {
     "data": {
      "text/plain": [
       "<AxesSubplot:>"
      ]
     },
     "execution_count": 15,
     "metadata": {},
     "output_type": "execute_result"
    },
    {
     "data": {
      "image/png": "[encoded data removed]",
      "text/plain": [
       "<Figure size 432x288 with 1 Axes>"
      ]
     },
     "metadata": {
      "needs_background": "light"
     },
     "output_type": "display_data"
    }
   ],
   "source": [
    "# Plot the accuracy\n",
    "history_df.plot(y=\"accuracy\")"
   ]
  },
  {
   "cell_type": "markdown",
   "id": "cedf45a9",
   "metadata": {},
   "source": [
    "### Second attempt - adding a third hidden layer, adding more epochs, more nodes"
   ]
  },
  {
   "cell_type": "code",
   "execution_count": 16,
   "id": "554993e6",
   "metadata": {},
   "outputs": [
    {
     "name": "stdout",
     "output_type": "stream",
     "text": [
      "Model: \"sequential_1\"\n",
      "_________________________________________________________________\n",
      " Layer (type)                Output Shape              Param #   \n",
      "=================================================================\n",
      " dense_3 (Dense)             (None, 40)                440       \n",
      "                                                                 \n",
      " dense_4 (Dense)             (None, 20)                820       \n",
      "                                                                 \n",
      " dense_5 (Dense)             (None, 20)                420       \n",
      "                                                                 \n",
      " dense_6 (Dense)             (None, 1)                 21        \n",
      "                                                                 \n",
      "=================================================================\n",
      "Total params: 1,701\n",
      "Trainable params: 1,701\n",
      "Non-trainable params: 0\n",
      "_________________________________________________________________\n"
     ]
    }
   ],
   "source": [
    "# Define the model - deep neural net, i.e., the number of input features and hidden nodes for each layer.\n",
    "number_input_features = len(X_train_scaled[0])\n",
    "hidden_nodes_layer1 = 40\n",
    "hidden_nodes_layer2 = 20\n",
    "hidden_nodes_layer3 = 20\n",
    "\n",
    "nn_B = tf.keras.models.Sequential()\n",
    "\n",
    "# First hidden layer\n",
    "nn_B.add(tf.keras.layers.Dense(units=hidden_nodes_layer1, input_dim=number_input_features, activation=\"relu\"))\n",
    "\n",
    "# Second hidden layer\n",
    "nn_B.add(tf.keras.layers.Dense(units=hidden_nodes_layer2, activation=\"LeakyReLU\"))\n",
    "\n",
    "# Third hidden layer\n",
    "nn_B.add(tf.keras.layers.Dense(units=hidden_nodes_layer3, activation=\"sigmoid\"))\n",
    "\n",
    "# Output layer\n",
    "nn_B.add(tf.keras.layers.Dense(units=1, activation=\"relu\"))\n",
    "\n",
    "# Check the structure of the model\n",
    "nn_B.summary()"
   ]
  },
  {
   "cell_type": "code",
   "execution_count": 17,
   "id": "93c8d390",
   "metadata": {},
   "outputs": [],
   "source": [
    "# Compile the model\n",
    "nn_B.compile(loss=\"binary_crossentropy\", optimizer=\"adam\", metrics=[\"accuracy\"])\n",
    "\n",
    "# Create a callback that saves the model's weights every epoch\n",
    "cp_callback = ModelCheckpoint(\n",
    "    filepath=checkpoint_path,\n",
    "    verbose=1,\n",
    "    save_weights_only=True,\n",
    "    save_freq=10)"
   ]
  },
  {
   "cell_type": "code",
   "execution_count": 18,
   "id": "520515b4",
   "metadata": {},
   "outputs": [
    {
     "name": "stdout",
     "output_type": "stream",
     "text": [
      "Epoch 1/50\n",
      "2/2 [==============================] - 1s 4ms/step - loss: 1.6045 - accuracy: 0.0000e+00\n",
      "Epoch 2/50\n",
      "2/2 [==============================] - 0s 7ms/step - loss: 0.7023 - accuracy: 0.0000e+00\n",
      "Epoch 3/50\n",
      "2/2 [==============================] - 0s 4ms/step - loss: -0.2142 - accuracy: 0.0000e+00\n",
      "Epoch 4/50\n",
      "2/2 [==============================] - 0s 8ms/step - loss: -1.1098 - accuracy: 0.0000e+00\n",
      "Epoch 5/50\n",
      "1/2 [==============>...............] - ETA: 0s - loss: -1.8646 - accuracy: 0.0000e+00\n",
      "Epoch 5: saving model to checkpoints\\weights.05.hdf5\n",
      "2/2 [==============================] - 0s 245ms/step - loss: -2.1277 - accuracy: 0.0000e+00\n",
      "Epoch 6/50\n",
      "2/2 [==============================] - 0s 6ms/step - loss: -3.1995 - accuracy: 0.0000e+00\n",
      "Epoch 7/50\n",
      "2/2 [==============================] - 0s 8ms/step - loss: -4.6670 - accuracy: 0.0000e+00\n",
      "Epoch 8/50\n",
      "2/2 [==============================] - 0s 6ms/step - loss: -8.7386 - accuracy: 0.0000e+00\n",
      "Epoch 9/50\n",
      "2/2 [==============================] - 0s 14ms/step - loss: -17.0418 - accuracy: 0.0000e+00\n",
      "Epoch 10/50\n",
      "1/2 [==============>...............] - ETA: 0s - loss: -17.1578 - accuracy: 0.0000e+00\n",
      "Epoch 10: saving model to checkpoints\\weights.10.hdf5\n",
      "2/2 [==============================] - 0s 75ms/step - loss: -23.5531 - accuracy: 0.0000e+00\n",
      "Epoch 11/50\n",
      "2/2 [==============================] - 0s 13ms/step - loss: -31.8513 - accuracy: 0.0000e+00\n",
      "Epoch 12/50\n",
      "2/2 [==============================] - 0s 5ms/step - loss: -35.3243 - accuracy: 0.0000e+00\n",
      "Epoch 13/50\n",
      "2/2 [==============================] - 0s 7ms/step - loss: -40.3423 - accuracy: 0.0000e+00\n",
      "Epoch 14/50\n",
      "2/2 [==============================] - 0s 9ms/step - loss: -46.5937 - accuracy: 0.0000e+00\n",
      "Epoch 15/50\n",
      "1/2 [==============>...............] - ETA: 0s - loss: -49.0550 - accuracy: 0.0000e+00\n",
      "Epoch 15: saving model to checkpoints\\weights.15.hdf5\n",
      "2/2 [==============================] - 0s 66ms/step - loss: -54.0758 - accuracy: 0.0000e+00\n",
      "Epoch 16/50\n",
      "2/2 [==============================] - 0s 4ms/step - loss: -59.1780 - accuracy: 0.0000e+00\n",
      "Epoch 17/50\n",
      "2/2 [==============================] - 0s 9ms/step - loss: -63.2224 - accuracy: 0.0000e+00\n",
      "Epoch 18/50\n",
      "2/2 [==============================] - 0s 7ms/step - loss: -64.3783 - accuracy: 0.0000e+00\n",
      "Epoch 19/50\n",
      "2/2 [==============================] - 0s 13ms/step - loss: -64.3783 - accuracy: 0.0000e+00\n",
      "Epoch 20/50\n",
      "1/2 [==============>...............] - ETA: 0s - loss: -59.3767 - accuracy: 0.0000e+00\n",
      "Epoch 20: saving model to checkpoints\\weights.20.hdf5\n",
      "2/2 [==============================] - 0s 47ms/step - loss: -64.3783 - accuracy: 0.0000e+00\n",
      "Epoch 21/50\n",
      "2/2 [==============================] - 0s 6ms/step - loss: -64.3783 - accuracy: 0.0000e+00\n",
      "Epoch 22/50\n",
      "2/2 [==============================] - 0s 5ms/step - loss: -64.3783 - accuracy: 0.0000e+00\n",
      "Epoch 23/50\n",
      "2/2 [==============================] - 0s 6ms/step - loss: -64.3783 - accuracy: 0.0000e+00\n",
      "Epoch 24/50\n",
      "2/2 [==============================] - 0s 15ms/step - loss: -64.3783 - accuracy: 0.0000e+00\n",
      "Epoch 25/50\n",
      "1/2 [==============>...............] - ETA: 0s - loss: -64.8093 - accuracy: 0.0000e+00\n",
      "Epoch 25: saving model to checkpoints\\weights.25.hdf5\n",
      "2/2 [==============================] - 0s 60ms/step - loss: -64.3783 - accuracy: 0.0000e+00\n",
      "Epoch 26/50\n",
      "2/2 [==============================] - 0s 5ms/step - loss: -64.3783 - accuracy: 0.0000e+00\n",
      "Epoch 27/50\n",
      "2/2 [==============================] - 0s 7ms/step - loss: -64.3783 - accuracy: 0.0000e+00\n",
      "Epoch 28/50\n",
      "2/2 [==============================] - 0s 15ms/step - loss: -64.3783 - accuracy: 0.0000e+00\n",
      "Epoch 29/50\n",
      "2/2 [==============================] - 0s 11ms/step - loss: -64.3783 - accuracy: 0.0000e+00\n",
      "Epoch 30/50\n",
      "1/2 [==============>...............] - ETA: 0s - loss: -70.8613 - accuracy: 0.0000e+00\n",
      "Epoch 30: saving model to checkpoints\\weights.30.hdf5\n",
      "2/2 [==============================] - 0s 76ms/step - loss: -64.3783 - accuracy: 0.0000e+00\n",
      "Epoch 31/50\n",
      "2/2 [==============================] - 0s 8ms/step - loss: -64.3783 - accuracy: 0.0000e+00\n",
      "Epoch 32/50\n",
      "2/2 [==============================] - 0s 6ms/step - loss: -64.3783 - accuracy: 0.0000e+00\n",
      "Epoch 33/50\n",
      "2/2 [==============================] - 0s 9ms/step - loss: -64.3783 - accuracy: 0.0000e+00\n",
      "Epoch 34/50\n",
      "2/2 [==============================] - 0s 5ms/step - loss: -64.3783 - accuracy: 0.0000e+00\n",
      "Epoch 35/50\n",
      "1/2 [==============>...............] - ETA: 0s - loss: -59.7580 - accuracy: 0.0000e+00\n",
      "Epoch 35: saving model to checkpoints\\weights.35.hdf5\n",
      "2/2 [==============================] - 0s 82ms/step - loss: -64.3783 - accuracy: 0.0000e+00\n",
      "Epoch 36/50\n",
      "2/2 [==============================] - 0s 5ms/step - loss: -64.3783 - accuracy: 0.0000e+00\n",
      "Epoch 37/50\n",
      "2/2 [==============================] - 0s 7ms/step - loss: -64.3783 - accuracy: 0.0000e+00\n",
      "Epoch 38/50\n",
      "2/2 [==============================] - 0s 5ms/step - loss: -64.3783 - accuracy: 0.0000e+00\n",
      "Epoch 39/50\n",
      "2/2 [==============================] - 0s 4ms/step - loss: -64.3783 - accuracy: 0.0000e+00\n",
      "Epoch 40/50\n",
      "1/2 [==============>...............] - ETA: 0s - loss: -59.3767 - accuracy: 0.0000e+00\n",
      "Epoch 40: saving model to checkpoints\\weights.40.hdf5\n",
      "2/2 [==============================] - 0s 64ms/step - loss: -64.3783 - accuracy: 0.0000e+00\n",
      "Epoch 41/50\n",
      "2/2 [==============================] - 0s 7ms/step - loss: -64.3783 - accuracy: 0.0000e+00\n",
      "Epoch 42/50\n",
      "2/2 [==============================] - 0s 5ms/step - loss: -64.3783 - accuracy: 0.0000e+00\n",
      "Epoch 43/50\n",
      "2/2 [==============================] - 0s 7ms/step - loss: -64.3783 - accuracy: 0.0000e+00\n",
      "Epoch 44/50\n",
      "2/2 [==============================] - 0s 4ms/step - loss: -64.3783 - accuracy: 0.0000e+00\n",
      "Epoch 45/50\n",
      "1/2 [==============>...............] - ETA: 0s - loss: -62.7601 - accuracy: 0.0000e+00\n",
      "Epoch 45: saving model to checkpoints\\weights.45.hdf5\n",
      "2/2 [==============================] - 0s 74ms/step - loss: -64.3783 - accuracy: 0.0000e+00\n",
      "Epoch 46/50\n",
      "2/2 [==============================] - 0s 7ms/step - loss: -64.3783 - accuracy: 0.0000e+00\n",
      "Epoch 47/50\n",
      "2/2 [==============================] - 0s 9ms/step - loss: -64.3783 - accuracy: 0.0000e+00\n",
      "Epoch 48/50\n",
      "2/2 [==============================] - 0s 5ms/step - loss: -64.3783 - accuracy: 0.0000e+00\n",
      "Epoch 49/50\n",
      "2/2 [==============================] - 0s 4ms/step - loss: -64.3783 - accuracy: 0.0000e+00\n",
      "Epoch 50/50\n",
      "1/2 [==============>...............] - ETA: 0s - loss: -67.2396 - accuracy: 0.0000e+00\n",
      "Epoch 50: saving model to checkpoints\\weights.50.hdf5\n",
      "2/2 [==============================] - 0s 132ms/step - loss: -64.3783 - accuracy: 0.0000e+00\n"
     ]
    }
   ],
   "source": [
    "# Train the model\n",
    "fit_model_B = nn_B.fit(X_train_scaled,y_train,epochs=50,callbacks=[cp_callback])"
   ]
  },
  {
   "cell_type": "code",
   "execution_count": 19,
   "id": "9b552bc3",
   "metadata": {},
   "outputs": [
    {
     "name": "stdout",
     "output_type": "stream",
     "text": [
      "1/1 - 0s - loss: -5.3468e+01 - accuracy: 0.0000e+00 - 138ms/epoch - 138ms/step\n",
      "Loss: -53.4676399230957, Accuracy: 0.0\n"
     ]
    }
   ],
   "source": [
    "# Evaluate the model using the test data\n",
    "model_loss, model_accuracy = nn_B.evaluate(X_test_scaled,y_test,verbose=2)\n",
    "print(f\"Loss: {model_loss}, Accuracy: {model_accuracy}\")"
   ]
  },
  {
   "cell_type": "code",
   "execution_count": 20,
   "id": "a312e4c0",
   "metadata": {},
   "outputs": [
    {
     "data": {
      "text/plain": [
       "<AxesSubplot:>"
      ]
     },
     "execution_count": 20,
     "metadata": {},
     "output_type": "execute_result"
    },
    {
     "data": {
      "image/png": "[encoded data removed]",
      "text/plain": [
       "<Figure size 432x288 with 1 Axes>"
      ]
     },
     "metadata": {
      "needs_background": "light"
     },
     "output_type": "display_data"
    }
   ],
   "source": [
    "# Create a DataFrame containing training history\n",
    "history_df_B = pd.DataFrame(fit_model_B.history, index=range(1,len(fit_model_B.history[\"loss\"])+1))\n",
    "\n",
    "# Plot the loss\n",
    "history_df_B.plot(y=\"loss\")"
   ]
  },
  {
   "cell_type": "code",
   "execution_count": 21,
   "id": "f96892fb",
   "metadata": {},
   "outputs": [
    {
     "data": {
      "text/plain": [
       "<AxesSubplot:>"
      ]
     },
     "execution_count": 21,
     "metadata": {},
     "output_type": "execute_result"
    },
    {
     "data": {
      "image/png": "[encoded data removed]",
      "text/plain": [
       "<Figure size 432x288 with 1 Axes>"
      ]
     },
     "metadata": {
      "needs_background": "light"
     },
     "output_type": "display_data"
    }
   ],
   "source": [
    "# Plot the accuracy\n",
    "history_df_B.plot(y=\"accuracy\")"
   ]
  },
  {
   "cell_type": "markdown",
   "id": "802855be",
   "metadata": {},
   "source": [
    "### Now a third attempt without the Covid-19 data"
   ]
  },
  {
   "cell_type": "code",
   "execution_count": 22,
   "id": "d79f5016",
   "metadata": {},
   "outputs": [
    {
     "data": {
      "text/html": [
       "<div>\n",
       "<style scoped>\n",
       "    .dataframe tbody tr th:only-of-type {\n",
       "        vertical-align: middle;\n",
       "    }\n",
       "\n",
       "    .dataframe tbody tr th {\n",
       "        vertical-align: top;\n",
       "    }\n",
       "\n",
       "    .dataframe thead th {\n",
       "        text-align: right;\n",
       "    }\n",
       "</style>\n",
       "<table border=\"1\" class=\"dataframe\">\n",
       "  <thead>\n",
       "    <tr style=\"text-align: right;\">\n",
       "      <th></th>\n",
       "      <th>Date</th>\n",
       "      <th>S_P Close</th>\n",
       "      <th>S_P Volume</th>\n",
       "      <th>Median Sale Price</th>\n",
       "      <th>Homes Sold</th>\n",
       "      <th>INFLATION_EXPECTATION</th>\n",
       "      <th>SALES</th>\n",
       "      <th>UNEMPLOYMENT</th>\n",
       "      <th>NAS Value</th>\n",
       "      <th>NAS Volume</th>\n",
       "      <th>Covid_New_Cases</th>\n",
       "      <th>Covid_Death</th>\n",
       "    </tr>\n",
       "  </thead>\n",
       "  <tbody>\n",
       "    <tr>\n",
       "      <th>0</th>\n",
       "      <td>1/1/2017</td>\n",
       "      <td>2278.87</td>\n",
       "      <td>42691599000</td>\n",
       "      <td>246000</td>\n",
       "      <td>360977</td>\n",
       "      <td>2.6</td>\n",
       "      <td>368960</td>\n",
       "      <td>4.7</td>\n",
       "      <td>5614.786</td>\n",
       "      <td>8376144160</td>\n",
       "      <td>NaN</td>\n",
       "      <td>NaN</td>\n",
       "    </tr>\n",
       "    <tr>\n",
       "      <th>1</th>\n",
       "      <td>2/1/2017</td>\n",
       "      <td>2363.64</td>\n",
       "      <td>40740785000</td>\n",
       "      <td>247000</td>\n",
       "      <td>369081</td>\n",
       "      <td>2.7</td>\n",
       "      <td>365480</td>\n",
       "      <td>4.6</td>\n",
       "      <td>5825.438</td>\n",
       "      <td>8563523411</td>\n",
       "      <td>NaN</td>\n",
       "      <td>NaN</td>\n",
       "    </tr>\n",
       "    <tr>\n",
       "      <th>2</th>\n",
       "      <td>3/1/2017</td>\n",
       "      <td>2362.72</td>\n",
       "      <td>47262643000</td>\n",
       "      <td>257000</td>\n",
       "      <td>533610</td>\n",
       "      <td>2.5</td>\n",
       "      <td>422891</td>\n",
       "      <td>4.4</td>\n",
       "      <td>5911.738</td>\n",
       "      <td>10998962695</td>\n",
       "      <td>NaN</td>\n",
       "      <td>NaN</td>\n",
       "    </tr>\n",
       "    <tr>\n",
       "      <th>3</th>\n",
       "      <td>4/1/2017</td>\n",
       "      <td>2384.20</td>\n",
       "      <td>37735945000</td>\n",
       "      <td>262000</td>\n",
       "      <td>516823</td>\n",
       "      <td>2.5</td>\n",
       "      <td>407165</td>\n",
       "      <td>4.4</td>\n",
       "      <td>6047.606</td>\n",
       "      <td>8302492073</td>\n",
       "      <td>NaN</td>\n",
       "      <td>NaN</td>\n",
       "    </tr>\n",
       "    <tr>\n",
       "      <th>4</th>\n",
       "      <td>5/1/2017</td>\n",
       "      <td>2411.80</td>\n",
       "      <td>44654185000</td>\n",
       "      <td>269000</td>\n",
       "      <td>630788</td>\n",
       "      <td>2.6</td>\n",
       "      <td>434450</td>\n",
       "      <td>4.4</td>\n",
       "      <td>6198.517</td>\n",
       "      <td>10239273745</td>\n",
       "      <td>NaN</td>\n",
       "      <td>NaN</td>\n",
       "    </tr>\n",
       "  </tbody>\n",
       "</table>\n",
       "</div>"
      ],
      "text/plain": [
       "       Date  S_P Close   S_P Volume  Median Sale Price  Homes Sold  \\\n",
       "0  1/1/2017    2278.87  42691599000             246000      360977   \n",
       "1  2/1/2017    2363.64  40740785000             247000      369081   \n",
       "2  3/1/2017    2362.72  47262643000             257000      533610   \n",
       "3  4/1/2017    2384.20  37735945000             262000      516823   \n",
       "4  5/1/2017    2411.80  44654185000             269000      630788   \n",
       "\n",
       "   INFLATION_EXPECTATION   SALES  UNEMPLOYMENT  NAS Value   NAS Volume  \\\n",
       "0                    2.6  368960           4.7   5614.786   8376144160   \n",
       "1                    2.7  365480           4.6   5825.438   8563523411   \n",
       "2                    2.5  422891           4.4   5911.738  10998962695   \n",
       "3                    2.5  407165           4.4   6047.606   8302492073   \n",
       "4                    2.6  434450           4.4   6198.517  10239273745   \n",
       "\n",
       "   Covid_New_Cases  Covid_Death  \n",
       "0              NaN          NaN  \n",
       "1              NaN          NaN  \n",
       "2              NaN          NaN  \n",
       "3              NaN          NaN  \n",
       "4              NaN          NaN  "
      ]
     },
     "execution_count": 22,
     "metadata": {},
     "output_type": "execute_result"
    }
   ],
   "source": [
    "working_df = pd.read_csv(Path('Resources/CSV files/FINAL_DATABASE.csv'))\n",
    "working_df.head(5)"
   ]
  },
  {
   "cell_type": "code",
   "execution_count": 23,
   "id": "6f9c8927",
   "metadata": {},
   "outputs": [],
   "source": [
    "# Split our preprocessed data into our features and target arrays\n",
    "y = working_df.UNEMPLOYMENT\n",
    "X = working_df.drop(columns=[\"Date\",\"UNEMPLOYMENT\", \"Covid_New_Cases\", \"Covid_Death\"])"
   ]
  },
  {
   "cell_type": "code",
   "execution_count": 24,
   "id": "9c171251",
   "metadata": {},
   "outputs": [
    {
     "data": {
      "text/plain": [
       "16"
      ]
     },
     "execution_count": 24,
     "metadata": {},
     "output_type": "execute_result"
    }
   ],
   "source": [
    "X_train,X_test,y_train,y_test=train_test_split(X,y,random_state=42)\n",
    "len(X_test)\n"
   ]
  },
  {
   "cell_type": "code",
   "execution_count": 25,
   "id": "fc004044",
   "metadata": {},
   "outputs": [
    {
     "data": {
      "text/plain": [
       "16"
      ]
     },
     "execution_count": 25,
     "metadata": {},
     "output_type": "execute_result"
    }
   ],
   "source": [
    "len(y_test)"
   ]
  },
  {
   "cell_type": "code",
   "execution_count": 26,
   "id": "a086c477",
   "metadata": {},
   "outputs": [],
   "source": [
    "# Create a StandardScaler instances\n",
    "scaler = StandardScaler()\n",
    "\n",
    "# Fit the StandardScaler\n",
    "X_scaler = scaler.fit(X_train)\n",
    "\n",
    "# Scale the data\n",
    "X_train_scaled = X_scaler.transform(X_train)\n",
    "X_test_scaled = X_scaler.transform(X_test)"
   ]
  },
  {
   "cell_type": "code",
   "execution_count": 27,
   "id": "67f0fcc3",
   "metadata": {},
   "outputs": [
    {
     "name": "stdout",
     "output_type": "stream",
     "text": [
      "Model: \"sequential_2\"\n",
      "_________________________________________________________________\n",
      " Layer (type)                Output Shape              Param #   \n",
      "=================================================================\n",
      " dense_7 (Dense)             (None, 40)                360       \n",
      "                                                                 \n",
      " dense_8 (Dense)             (None, 20)                820       \n",
      "                                                                 \n",
      " dense_9 (Dense)             (None, 20)                420       \n",
      "                                                                 \n",
      " dense_10 (Dense)            (None, 1)                 21        \n",
      "                                                                 \n",
      "=================================================================\n",
      "Total params: 1,621\n",
      "Trainable params: 1,621\n",
      "Non-trainable params: 0\n",
      "_________________________________________________________________\n"
     ]
    }
   ],
   "source": [
    "# Define the model - deep neural net, i.e., the number of input features and hidden nodes for each layer.\n",
    "number_input_features = len(X_train_scaled[0])\n",
    "hidden_nodes_layer1 = 40\n",
    "hidden_nodes_layer2 = 20\n",
    "hidden_nodes_layer3 = 20\n",
    "\n",
    "nn_C = tf.keras.models.Sequential()\n",
    "\n",
    "# First hidden layer\n",
    "nn_C.add(tf.keras.layers.Dense(units=hidden_nodes_layer1, input_dim=number_input_features, activation=\"relu\"))\n",
    "\n",
    "# Second hidden layer\n",
    "nn_C.add(tf.keras.layers.Dense(units=hidden_nodes_layer2, activation=\"LeakyReLU\"))\n",
    "\n",
    "# Third hidden layer\n",
    "nn_C.add(tf.keras.layers.Dense(units=hidden_nodes_layer3, activation=\"sigmoid\"))\n",
    "\n",
    "# Output layer\n",
    "nn_C.add(tf.keras.layers.Dense(units=1, activation=\"relu\"))\n",
    "\n",
    "# Check the structure of the model\n",
    "nn_C.summary()"
   ]
  },
  {
   "cell_type": "code",
   "execution_count": 28,
   "id": "f20aaf96",
   "metadata": {},
   "outputs": [],
   "source": [
    "# Compile the model\n",
    "nn_C.compile(loss=\"binary_crossentropy\", optimizer=\"adam\", metrics=[\"accuracy\"])\n",
    "\n",
    "# Create a callback that saves the model's weights every epoch\n",
    "cp_callback = ModelCheckpoint(\n",
    "    filepath=checkpoint_path,\n",
    "    verbose=1,\n",
    "    save_weights_only=True,\n",
    "    save_freq=10)"
   ]
  },
  {
   "cell_type": "code",
   "execution_count": 29,
   "id": "8fa556b0",
   "metadata": {},
   "outputs": [
    {
     "name": "stdout",
     "output_type": "stream",
     "text": [
      "Epoch 1/50\n",
      "2/2 [==============================] - 1s 3ms/step - loss: -2.7146 - accuracy: 0.0000e+00\n",
      "Epoch 2/50\n",
      "2/2 [==============================] - 0s 8ms/step - loss: -4.3223 - accuracy: 0.0000e+00\n",
      "Epoch 3/50\n",
      "2/2 [==============================] - 0s 8ms/step - loss: -6.2964 - accuracy: 0.0000e+00\n",
      "Epoch 4/50\n",
      "2/2 [==============================] - 0s 8ms/step - loss: -7.4523 - accuracy: 0.0000e+00\n",
      "Epoch 5/50\n",
      "1/2 [==============>...............] - ETA: 0s - loss: -8.9664 - accuracy: 0.0000e+00\n",
      "Epoch 5: saving model to checkpoints\\weights.05.hdf5\n",
      "2/2 [==============================] - 0s 62ms/step - loss: -11.7823 - accuracy: 0.0000e+00\n",
      "Epoch 6/50\n",
      "2/2 [==============================] - 0s 9ms/step - loss: -14.4427 - accuracy: 0.0000e+00\n",
      "Epoch 7/50\n",
      "2/2 [==============================] - 0s 7ms/step - loss: -19.9026 - accuracy: 0.0000e+00\n",
      "Epoch 8/50\n",
      "2/2 [==============================] - 0s 10ms/step - loss: -25.1063 - accuracy: 0.0000e+00\n",
      "Epoch 9/50\n",
      "2/2 [==============================] - 0s 8ms/step - loss: -29.7857 - accuracy: 0.0000e+00\n",
      "Epoch 10/50\n",
      "1/2 [==============>...............] - ETA: 0s - loss: -32.1049 - accuracy: 0.0000e+00\n",
      "Epoch 10: saving model to checkpoints\\weights.10.hdf5\n",
      "2/2 [==============================] - 0s 63ms/step - loss: -32.5495 - accuracy: 0.0000e+00\n",
      "Epoch 11/50\n",
      "2/2 [==============================] - 0s 8ms/step - loss: -33.8956 - accuracy: 0.0000e+00\n",
      "Epoch 12/50\n",
      "2/2 [==============================] - 0s 7ms/step - loss: -35.3948 - accuracy: 0.0000e+00\n",
      "Epoch 13/50\n",
      "2/2 [==============================] - 0s 12ms/step - loss: -40.5047 - accuracy: 0.0000e+00\n",
      "Epoch 14/50\n",
      "2/2 [==============================] - 0s 9ms/step - loss: -45.1851 - accuracy: 0.0000e+00\n",
      "Epoch 15/50\n",
      "1/2 [==============>...............] - ETA: 0s - loss: -49.1018 - accuracy: 0.0000e+00\n",
      "Epoch 15: saving model to checkpoints\\weights.15.hdf5\n",
      "2/2 [==============================] - 0s 164ms/step - loss: -48.4348 - accuracy: 0.0000e+00\n",
      "Epoch 16/50\n",
      "2/2 [==============================] - 0s 9ms/step - loss: -51.0663 - accuracy: 0.0000e+00\n",
      "Epoch 17/50\n",
      "2/2 [==============================] - 0s 7ms/step - loss: -53.5059 - accuracy: 0.0000e+00\n",
      "Epoch 18/50\n",
      "2/2 [==============================] - 0s 5ms/step - loss: -57.1496 - accuracy: 0.0000e+00\n",
      "Epoch 19/50\n",
      "2/2 [==============================] - 0s 6ms/step - loss: -60.0773 - accuracy: 0.0000e+00\n",
      "Epoch 20/50\n",
      "1/2 [==============>...............] - ETA: 0s - loss: -61.2117 - accuracy: 0.0000e+00\n",
      "Epoch 20: saving model to checkpoints\\weights.20.hdf5\n",
      "2/2 [==============================] - 0s 66ms/step - loss: -62.1740 - accuracy: 0.0000e+00\n",
      "Epoch 21/50\n",
      "2/2 [==============================] - 0s 6ms/step - loss: -63.6296 - accuracy: 0.0000e+00\n",
      "Epoch 22/50\n",
      "2/2 [==============================] - 0s 5ms/step - loss: -63.6388 - accuracy: 0.0000e+00\n",
      "Epoch 23/50\n",
      "2/2 [==============================] - 0s 8ms/step - loss: -63.6586 - accuracy: 0.0000e+00\n",
      "Epoch 24/50\n",
      "2/2 [==============================] - 0s 9ms/step - loss: -63.6945 - accuracy: 0.0000e+00\n",
      "Epoch 25/50\n",
      "1/2 [==============>...............] - ETA: 0s - loss: -65.4686 - accuracy: 0.0000e+00\n",
      "Epoch 25: saving model to checkpoints\\weights.25.hdf5\n",
      "2/2 [==============================] - 0s 62ms/step - loss: -63.7098 - accuracy: 0.0000e+00\n",
      "Epoch 26/50\n",
      "2/2 [==============================] - 0s 5ms/step - loss: -63.7859 - accuracy: 0.0000e+00\n",
      "Epoch 27/50\n",
      "2/2 [==============================] - 0s 6ms/step - loss: -64.3783 - accuracy: 0.0000e+00\n",
      "Epoch 28/50\n",
      "2/2 [==============================] - 0s 8ms/step - loss: -64.3783 - accuracy: 0.0000e+00\n",
      "Epoch 29/50\n",
      "2/2 [==============================] - 0s 5ms/step - loss: -64.3783 - accuracy: 0.0000e+00\n",
      "Epoch 30/50\n",
      "1/2 [==============>...............] - ETA: 0s - loss: -59.4244 - accuracy: 0.0000e+00\n",
      "Epoch 30: saving model to checkpoints\\weights.30.hdf5\n",
      "2/2 [==============================] - 0s 68ms/step - loss: -64.3783 - accuracy: 0.0000e+00\n",
      "Epoch 31/50\n",
      "2/2 [==============================] - 0s 9ms/step - loss: -64.3783 - accuracy: 0.0000e+00\n",
      "Epoch 32/50\n",
      "2/2 [==============================] - 0s 6ms/step - loss: -64.3783 - accuracy: 0.0000e+00\n",
      "Epoch 33/50\n",
      "2/2 [==============================] - 0s 7ms/step - loss: -64.3783 - accuracy: 0.0000e+00\n",
      "Epoch 34/50\n",
      "2/2 [==============================] - 0s 5ms/step - loss: -64.3783 - accuracy: 0.0000e+00\n",
      "Epoch 35/50\n",
      "1/2 [==============>...............] - ETA: 0s - loss: -63.7609 - accuracy: 0.0000e+00\n",
      "Epoch 35: saving model to checkpoints\\weights.35.hdf5\n",
      "2/2 [==============================] - 0s 74ms/step - loss: -64.3783 - accuracy: 0.0000e+00\n",
      "Epoch 36/50\n",
      "2/2 [==============================] - 0s 11ms/step - loss: -64.3783 - accuracy: 0.0000e+00\n",
      "Epoch 37/50\n",
      "2/2 [==============================] - 0s 4ms/step - loss: -64.3783 - accuracy: 0.0000e+00\n",
      "Epoch 38/50\n",
      "2/2 [==============================] - 0s 7ms/step - loss: -64.3783 - accuracy: 0.0000e+00\n",
      "Epoch 39/50\n",
      "2/2 [==============================] - 0s 5ms/step - loss: -64.3783 - accuracy: 0.0000e+00\n",
      "Epoch 40/50\n",
      "1/2 [==============>...............] - ETA: 0s - loss: -65.5241 - accuracy: 0.0000e+00\n",
      "Epoch 40: saving model to checkpoints\\weights.40.hdf5\n",
      "2/2 [==============================] - 0s 61ms/step - loss: -64.3783 - accuracy: 0.0000e+00\n",
      "Epoch 41/50\n",
      "2/2 [==============================] - 0s 5ms/step - loss: -64.3783 - accuracy: 0.0000e+00\n",
      "Epoch 42/50\n",
      "2/2 [==============================] - 0s 6ms/step - loss: -64.3783 - accuracy: 0.0000e+00\n",
      "Epoch 43/50\n",
      "2/2 [==============================] - 0s 4ms/step - loss: -64.3783 - accuracy: 0.0000e+00\n",
      "Epoch 44/50\n",
      "2/2 [==============================] - 0s 4ms/step - loss: -64.3783 - accuracy: 0.0000e+00\n",
      "Epoch 45/50\n",
      "1/2 [==============>...............] - ETA: 0s - loss: -67.4779 - accuracy: 0.0000e+00\n",
      "Epoch 45: saving model to checkpoints\\weights.45.hdf5\n",
      "2/2 [==============================] - 0s 81ms/step - loss: -64.3783 - accuracy: 0.0000e+00\n",
      "Epoch 46/50\n",
      "2/2 [==============================] - 0s 8ms/step - loss: -64.3783 - accuracy: 0.0000e+00\n",
      "Epoch 47/50\n",
      "2/2 [==============================] - 0s 4ms/step - loss: -64.3783 - accuracy: 0.0000e+00\n",
      "Epoch 48/50\n",
      "2/2 [==============================] - 0s 5ms/step - loss: -64.3783 - accuracy: 0.0000e+00\n",
      "Epoch 49/50\n",
      "2/2 [==============================] - 0s 5ms/step - loss: -64.3783 - accuracy: 0.0000e+00\n",
      "Epoch 50/50\n",
      "1/2 [==============>...............] - ETA: 0s - loss: -65.4764 - accuracy: 0.0000e+00\n",
      "Epoch 50: saving model to checkpoints\\weights.50.hdf5\n",
      "2/2 [==============================] - 0s 82ms/step - loss: -64.3783 - accuracy: 0.0000e+00\n"
     ]
    }
   ],
   "source": [
    "# Train the model\n",
    "fit_model_C = nn_C.fit(X_train_scaled,y_train,epochs=50,callbacks=[cp_callback])"
   ]
  },
  {
   "cell_type": "code",
   "execution_count": 30,
   "id": "50d71df5",
   "metadata": {},
   "outputs": [
    {
     "name": "stdout",
     "output_type": "stream",
     "text": [
      "1/1 - 0s - loss: -5.3468e+01 - accuracy: 0.0000e+00 - 140ms/epoch - 140ms/step\n",
      "Loss: -53.4676399230957, Accuracy: 0.0\n"
     ]
    }
   ],
   "source": [
    "# Evaluate the model using the test data\n",
    "model_loss, model_accuracy = nn_C.evaluate(X_test_scaled,y_test,verbose=2)\n",
    "print(f\"Loss: {model_loss}, Accuracy: {model_accuracy}\")"
   ]
  },
  {
   "cell_type": "code",
   "execution_count": 31,
   "id": "7f2338a5",
   "metadata": {},
   "outputs": [
    {
     "data": {
      "text/plain": [
       "<AxesSubplot:>"
      ]
     },
     "execution_count": 31,
     "metadata": {},
     "output_type": "execute_result"
    },
    {
     "data": {
      "image/png": "[encoded data removed]",
      "text/plain": [
       "<Figure size 432x288 with 1 Axes>"
      ]
     },
     "metadata": {
      "needs_background": "light"
     },
     "output_type": "display_data"
    }
   ],
   "source": [
    "# Create a DataFrame containing training history\n",
    "history_df_C = pd.DataFrame(fit_model_C.history, index=range(1,len(fit_model_C.history[\"loss\"])+1))\n",
    "\n",
    "# Plot the loss\n",
    "history_df_C.plot(y=\"loss\")"
   ]
  },
  {
   "cell_type": "code",
   "execution_count": 32,
   "id": "774dec96",
   "metadata": {},
   "outputs": [
    {
     "data": {
      "text/plain": [
       "<AxesSubplot:>"
      ]
     },
     "execution_count": 32,
     "metadata": {},
     "output_type": "execute_result"
    },
    {
     "data": {
      "image/png": "[encoded data removed]",
      "text/plain": [
       "<Figure size 432x288 with 1 Axes>"
      ]
     },
     "metadata": {
      "needs_background": "light"
     },
     "output_type": "display_data"
    }
   ],
   "source": [
    "# Plot the accuracy\n",
    "history_df_C.plot(y=\"accuracy\")"
   ]
  }
 ],
 "metadata": {
  "kernelspec": {
   "display_name": "mlenv",
   "language": "python",
   "name": "mlenv"
  },
  "language_info": {
   "codemirror_mode": {
    "name": "ipython",
    "version": 3
   },
   "file_extension": ".py",
   "mimetype": "text/x-python",
   "name": "python",
   "nbconvert_exporter": "python",
   "pygments_lexer": "ipython3",
   "version": "3.7.11"
  }
 },
 "nbformat": 4,
 "nbformat_minor": 5
}

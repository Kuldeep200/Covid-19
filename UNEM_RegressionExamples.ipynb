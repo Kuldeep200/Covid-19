{
 "cells": [
  {
   "cell_type": "markdown",
   "id": "c9765eb4",
   "metadata": {},
   "source": [
    "## Linear regression as limiting case of Ridge regression"
   ]
  },
  {
   "cell_type": "markdown",
   "id": "ea8cd20a",
   "metadata": {},
   "source": [
    "#### Ridge regression shrinks the coefficients and it helps to reduce the model complexity and multi-collinearity. "
   ]
  },
  {
   "cell_type": "code",
   "execution_count": 1,
   "id": "bf1532f5",
   "metadata": {},
   "outputs": [],
   "source": [
    "import pandas as pd\n",
    "import numpy as np \n",
    "from pathlib import Path\n",
    "import matplotlib.pyplot as plt\n",
    "from sklearn.preprocessing import StandardScaler\n",
    "from sklearn.linear_model import LinearRegression\n",
    "from sklearn.model_selection import train_test_split\n",
    "from sklearn.linear_model import Ridge\n",
    "# importing the r2_score module\n",
    "from sklearn.metrics import r2_score\n",
    "from sklearn.metrics import mean_squared_error"
   ]
  },
  {
   "cell_type": "code",
   "execution_count": 2,
   "id": "cbaef9a1",
   "metadata": {},
   "outputs": [
    {
     "data": {
      "text/html": [
       "<div>\n",
       "<style scoped>\n",
       "    .dataframe tbody tr th:only-of-type {\n",
       "        vertical-align: middle;\n",
       "    }\n",
       "\n",
       "    .dataframe tbody tr th {\n",
       "        vertical-align: top;\n",
       "    }\n",
       "\n",
       "    .dataframe thead th {\n",
       "        text-align: right;\n",
       "    }\n",
       "</style>\n",
       "<table border=\"1\" class=\"dataframe\">\n",
       "  <thead>\n",
       "    <tr style=\"text-align: right;\">\n",
       "      <th></th>\n",
       "      <th>Date</th>\n",
       "      <th>S_P Close</th>\n",
       "      <th>S_P Volume</th>\n",
       "      <th>Median Sale Price</th>\n",
       "      <th>Homes Sold</th>\n",
       "      <th>INFLATION_EXPECTATION</th>\n",
       "      <th>SALES</th>\n",
       "      <th>UNEMPLOYMENT</th>\n",
       "      <th>NAS Value</th>\n",
       "      <th>NAS Volume</th>\n",
       "      <th>Covid_New_Cases</th>\n",
       "      <th>Covid_Death</th>\n",
       "    </tr>\n",
       "  </thead>\n",
       "  <tbody>\n",
       "    <tr>\n",
       "      <th>0</th>\n",
       "      <td>1/1/2017</td>\n",
       "      <td>2278.87</td>\n",
       "      <td>42691599000</td>\n",
       "      <td>246000</td>\n",
       "      <td>360977</td>\n",
       "      <td>2.6</td>\n",
       "      <td>368960</td>\n",
       "      <td>4.7</td>\n",
       "      <td>5614.786</td>\n",
       "      <td>8376144160</td>\n",
       "      <td>NaN</td>\n",
       "      <td>NaN</td>\n",
       "    </tr>\n",
       "    <tr>\n",
       "      <th>1</th>\n",
       "      <td>2/1/2017</td>\n",
       "      <td>2363.64</td>\n",
       "      <td>40740785000</td>\n",
       "      <td>247000</td>\n",
       "      <td>369081</td>\n",
       "      <td>2.7</td>\n",
       "      <td>365480</td>\n",
       "      <td>4.6</td>\n",
       "      <td>5825.438</td>\n",
       "      <td>8563523411</td>\n",
       "      <td>NaN</td>\n",
       "      <td>NaN</td>\n",
       "    </tr>\n",
       "    <tr>\n",
       "      <th>2</th>\n",
       "      <td>3/1/2017</td>\n",
       "      <td>2362.72</td>\n",
       "      <td>47262643000</td>\n",
       "      <td>257000</td>\n",
       "      <td>533610</td>\n",
       "      <td>2.5</td>\n",
       "      <td>422891</td>\n",
       "      <td>4.4</td>\n",
       "      <td>5911.738</td>\n",
       "      <td>10998962695</td>\n",
       "      <td>NaN</td>\n",
       "      <td>NaN</td>\n",
       "    </tr>\n",
       "    <tr>\n",
       "      <th>3</th>\n",
       "      <td>4/1/2017</td>\n",
       "      <td>2384.20</td>\n",
       "      <td>37735945000</td>\n",
       "      <td>262000</td>\n",
       "      <td>516823</td>\n",
       "      <td>2.5</td>\n",
       "      <td>407165</td>\n",
       "      <td>4.4</td>\n",
       "      <td>6047.606</td>\n",
       "      <td>8302492073</td>\n",
       "      <td>NaN</td>\n",
       "      <td>NaN</td>\n",
       "    </tr>\n",
       "    <tr>\n",
       "      <th>4</th>\n",
       "      <td>5/1/2017</td>\n",
       "      <td>2411.80</td>\n",
       "      <td>44654185000</td>\n",
       "      <td>269000</td>\n",
       "      <td>630788</td>\n",
       "      <td>2.6</td>\n",
       "      <td>434450</td>\n",
       "      <td>4.4</td>\n",
       "      <td>6198.517</td>\n",
       "      <td>10239273745</td>\n",
       "      <td>NaN</td>\n",
       "      <td>NaN</td>\n",
       "    </tr>\n",
       "  </tbody>\n",
       "</table>\n",
       "</div>"
      ],
      "text/plain": [
       "       Date  S_P Close   S_P Volume  Median Sale Price  Homes Sold  \\\n",
       "0  1/1/2017    2278.87  42691599000             246000      360977   \n",
       "1  2/1/2017    2363.64  40740785000             247000      369081   \n",
       "2  3/1/2017    2362.72  47262643000             257000      533610   \n",
       "3  4/1/2017    2384.20  37735945000             262000      516823   \n",
       "4  5/1/2017    2411.80  44654185000             269000      630788   \n",
       "\n",
       "   INFLATION_EXPECTATION   SALES  UNEMPLOYMENT  NAS Value   NAS Volume  \\\n",
       "0                    2.6  368960           4.7   5614.786   8376144160   \n",
       "1                    2.7  365480           4.6   5825.438   8563523411   \n",
       "2                    2.5  422891           4.4   5911.738  10998962695   \n",
       "3                    2.5  407165           4.4   6047.606   8302492073   \n",
       "4                    2.6  434450           4.4   6198.517  10239273745   \n",
       "\n",
       "   Covid_New_Cases  Covid_Death  \n",
       "0              NaN          NaN  \n",
       "1              NaN          NaN  \n",
       "2              NaN          NaN  \n",
       "3              NaN          NaN  \n",
       "4              NaN          NaN  "
      ]
     },
     "execution_count": 2,
     "metadata": {},
     "output_type": "execute_result"
    }
   ],
   "source": [
    "working_df = pd.read_csv(Path('Covid-19/FINAL_DATABASE.csv'))\n",
    "working_df.head(5)"
   ]
  },
  {
   "cell_type": "code",
   "execution_count": 3,
   "id": "39f7d967",
   "metadata": {},
   "outputs": [
    {
     "data": {
      "text/html": [
       "<div>\n",
       "<style scoped>\n",
       "    .dataframe tbody tr th:only-of-type {\n",
       "        vertical-align: middle;\n",
       "    }\n",
       "\n",
       "    .dataframe tbody tr th {\n",
       "        vertical-align: top;\n",
       "    }\n",
       "\n",
       "    .dataframe thead th {\n",
       "        text-align: right;\n",
       "    }\n",
       "</style>\n",
       "<table border=\"1\" class=\"dataframe\">\n",
       "  <thead>\n",
       "    <tr style=\"text-align: right;\">\n",
       "      <th></th>\n",
       "      <th>Date</th>\n",
       "      <th>S_P Close</th>\n",
       "      <th>S_P Volume</th>\n",
       "      <th>Median Sale Price</th>\n",
       "      <th>Homes Sold</th>\n",
       "      <th>INFLATION_EXPECTATION</th>\n",
       "      <th>SALES</th>\n",
       "      <th>UNEMPLOYMENT</th>\n",
       "      <th>NAS Value</th>\n",
       "      <th>NAS Volume</th>\n",
       "      <th>Covid_New_Cases</th>\n",
       "      <th>Covid_Death</th>\n",
       "    </tr>\n",
       "  </thead>\n",
       "  <tbody>\n",
       "    <tr>\n",
       "      <th>0</th>\n",
       "      <td>1/1/2017</td>\n",
       "      <td>2278.87</td>\n",
       "      <td>42691599000</td>\n",
       "      <td>246000</td>\n",
       "      <td>360977</td>\n",
       "      <td>2.6</td>\n",
       "      <td>368960</td>\n",
       "      <td>4.7</td>\n",
       "      <td>5614.786</td>\n",
       "      <td>8376144160</td>\n",
       "      <td>0.0</td>\n",
       "      <td>0.0</td>\n",
       "    </tr>\n",
       "    <tr>\n",
       "      <th>1</th>\n",
       "      <td>2/1/2017</td>\n",
       "      <td>2363.64</td>\n",
       "      <td>40740785000</td>\n",
       "      <td>247000</td>\n",
       "      <td>369081</td>\n",
       "      <td>2.7</td>\n",
       "      <td>365480</td>\n",
       "      <td>4.6</td>\n",
       "      <td>5825.438</td>\n",
       "      <td>8563523411</td>\n",
       "      <td>0.0</td>\n",
       "      <td>0.0</td>\n",
       "    </tr>\n",
       "    <tr>\n",
       "      <th>2</th>\n",
       "      <td>3/1/2017</td>\n",
       "      <td>2362.72</td>\n",
       "      <td>47262643000</td>\n",
       "      <td>257000</td>\n",
       "      <td>533610</td>\n",
       "      <td>2.5</td>\n",
       "      <td>422891</td>\n",
       "      <td>4.4</td>\n",
       "      <td>5911.738</td>\n",
       "      <td>10998962695</td>\n",
       "      <td>0.0</td>\n",
       "      <td>0.0</td>\n",
       "    </tr>\n",
       "    <tr>\n",
       "      <th>3</th>\n",
       "      <td>4/1/2017</td>\n",
       "      <td>2384.20</td>\n",
       "      <td>37735945000</td>\n",
       "      <td>262000</td>\n",
       "      <td>516823</td>\n",
       "      <td>2.5</td>\n",
       "      <td>407165</td>\n",
       "      <td>4.4</td>\n",
       "      <td>6047.606</td>\n",
       "      <td>8302492073</td>\n",
       "      <td>0.0</td>\n",
       "      <td>0.0</td>\n",
       "    </tr>\n",
       "    <tr>\n",
       "      <th>4</th>\n",
       "      <td>5/1/2017</td>\n",
       "      <td>2411.80</td>\n",
       "      <td>44654185000</td>\n",
       "      <td>269000</td>\n",
       "      <td>630788</td>\n",
       "      <td>2.6</td>\n",
       "      <td>434450</td>\n",
       "      <td>4.4</td>\n",
       "      <td>6198.517</td>\n",
       "      <td>10239273745</td>\n",
       "      <td>0.0</td>\n",
       "      <td>0.0</td>\n",
       "    </tr>\n",
       "  </tbody>\n",
       "</table>\n",
       "</div>"
      ],
      "text/plain": [
       "       Date  S_P Close   S_P Volume  Median Sale Price  Homes Sold  \\\n",
       "0  1/1/2017    2278.87  42691599000             246000      360977   \n",
       "1  2/1/2017    2363.64  40740785000             247000      369081   \n",
       "2  3/1/2017    2362.72  47262643000             257000      533610   \n",
       "3  4/1/2017    2384.20  37735945000             262000      516823   \n",
       "4  5/1/2017    2411.80  44654185000             269000      630788   \n",
       "\n",
       "   INFLATION_EXPECTATION   SALES  UNEMPLOYMENT  NAS Value   NAS Volume  \\\n",
       "0                    2.6  368960           4.7   5614.786   8376144160   \n",
       "1                    2.7  365480           4.6   5825.438   8563523411   \n",
       "2                    2.5  422891           4.4   5911.738  10998962695   \n",
       "3                    2.5  407165           4.4   6047.606   8302492073   \n",
       "4                    2.6  434450           4.4   6198.517  10239273745   \n",
       "\n",
       "   Covid_New_Cases  Covid_Death  \n",
       "0              0.0          0.0  \n",
       "1              0.0          0.0  \n",
       "2              0.0          0.0  \n",
       "3              0.0          0.0  \n",
       "4              0.0          0.0  "
      ]
     },
     "execution_count": 3,
     "metadata": {},
     "output_type": "execute_result"
    }
   ],
   "source": [
    "working_df['Covid_New_Cases'] = working_df['Covid_New_Cases'].replace(np.nan, 0)\n",
    "working_df['Covid_Death'] = working_df['Covid_Death'].replace(np.nan, 0)\n",
    "working_df.head()"
   ]
  },
  {
   "cell_type": "code",
   "execution_count": 4,
   "id": "182edb6f",
   "metadata": {},
   "outputs": [],
   "source": [
    "# Split our preprocessed data into our features and target arrays\n",
    "y = working_df.UNEMPLOYMENT\n",
    "X = working_df.drop(columns=[\"Date\",\"UNEMPLOYMENT\"])"
   ]
  },
  {
   "cell_type": "code",
   "execution_count": 5,
   "id": "cfbf1525",
   "metadata": {},
   "outputs": [
    {
     "data": {
      "text/plain": [
       "16"
      ]
     },
     "execution_count": 5,
     "metadata": {},
     "output_type": "execute_result"
    }
   ],
   "source": [
    "X_train,X_test,y_train,y_test=train_test_split(X,y,random_state=42)\n",
    "len(X_test)\n"
   ]
  },
  {
   "cell_type": "code",
   "execution_count": 6,
   "id": "3fd1720e",
   "metadata": {},
   "outputs": [
    {
     "data": {
      "text/plain": [
       "16"
      ]
     },
     "execution_count": 6,
     "metadata": {},
     "output_type": "execute_result"
    }
   ],
   "source": [
    "len(y_test)"
   ]
  },
  {
   "cell_type": "code",
   "execution_count": 7,
   "id": "f3284ddc",
   "metadata": {},
   "outputs": [],
   "source": [
    "# Create a StandardScaler instances\n",
    "scaler = StandardScaler()\n",
    "\n",
    "# Fit the StandardScaler\n",
    "X_scaler = scaler.fit(X_train)\n",
    "\n",
    "# Scale the data\n",
    "X_train_scaled = X_scaler.transform(X_train)\n",
    "X_test_scaled = X_scaler.transform(X_test)"
   ]
  },
  {
   "cell_type": "code",
   "execution_count": 8,
   "id": "35f90c28",
   "metadata": {},
   "outputs": [],
   "source": [
    "# plot_df = working_df.merge(X_train_scaled, )\n",
    "# main_df = unemployment_df.merge(stocks_df, on='Date', how='outer')\n",
    "# main_df.head(5)"
   ]
  },
  {
   "cell_type": "code",
   "execution_count": 9,
   "id": "59f4dabf",
   "metadata": {},
   "outputs": [
    {
     "data": {
      "text/plain": [
       "LinearRegression()"
      ]
     },
     "execution_count": 9,
     "metadata": {},
     "output_type": "execute_result"
    }
   ],
   "source": [
    "lr = LinearRegression()\n",
    "lr.fit(X_train_scaled, y_train)"
   ]
  },
  {
   "cell_type": "code",
   "execution_count": 10,
   "id": "dff25d32",
   "metadata": {},
   "outputs": [],
   "source": [
    "rr = Ridge(alpha=0.01) "
   ]
  },
  {
   "cell_type": "code",
   "execution_count": 11,
   "id": "8ae400cc",
   "metadata": {},
   "outputs": [],
   "source": [
    "# higher the alpha value, more restriction on the coefficients; low alpha > more generalization,\n",
    "# in this case linear and ridge regression resembles"
   ]
  },
  {
   "cell_type": "code",
   "execution_count": 12,
   "id": "25c4b407",
   "metadata": {},
   "outputs": [
    {
     "data": {
      "text/plain": [
       "Ridge(alpha=0.01)"
      ]
     },
     "execution_count": 12,
     "metadata": {},
     "output_type": "execute_result"
    }
   ],
   "source": [
    "rr.fit(X_train_scaled, y_train)"
   ]
  },
  {
   "cell_type": "code",
   "execution_count": 13,
   "id": "021e6f67",
   "metadata": {},
   "outputs": [
    {
     "data": {
      "text/plain": [
       "Ridge(alpha=100)"
      ]
     },
     "execution_count": 13,
     "metadata": {},
     "output_type": "execute_result"
    }
   ],
   "source": [
    "rr100 = Ridge(alpha=100) #  comparison with alpha value\n",
    "rr100.fit(X_train_scaled, y_train)"
   ]
  },
  {
   "cell_type": "code",
   "execution_count": 14,
   "id": "047a0ec8",
   "metadata": {},
   "outputs": [],
   "source": [
    "train_score=lr.score(X_train_scaled, y_train)\n",
    "test_score=lr.score(X_test_scaled, y_test)\n",
    "# score=r2_score(y_test,y_pred)"
   ]
  },
  {
   "cell_type": "code",
   "execution_count": 15,
   "id": "46c5cfcc",
   "metadata": {},
   "outputs": [
    {
     "name": "stdout",
     "output_type": "stream",
     "text": [
      "train score is 0.7179951292992881\n",
      "test score is -7.29995289807103\n"
     ]
    }
   ],
   "source": [
    "print('train score is', train_score)\n",
    "print('test score is', test_score)\n"
   ]
  },
  {
   "cell_type": "code",
   "execution_count": 16,
   "id": "bfd16a56",
   "metadata": {},
   "outputs": [],
   "source": [
    "Ridge_train_score = rr.score(X_train_scaled,y_train)\n",
    "Ridge_test_score = rr.score(X_test_scaled, y_test)"
   ]
  },
  {
   "cell_type": "code",
   "execution_count": 17,
   "id": "4878ca2a",
   "metadata": {},
   "outputs": [
    {
     "name": "stdout",
     "output_type": "stream",
     "text": [
      "Ridge train score is 0.7179615509985529\n",
      "Ridge test score is -7.32247881800931\n"
     ]
    }
   ],
   "source": [
    "print('Ridge train score is', Ridge_train_score)\n",
    "print('Ridge test score is', Ridge_test_score)\n"
   ]
  },
  {
   "cell_type": "code",
   "execution_count": 18,
   "id": "aef9789b",
   "metadata": {},
   "outputs": [],
   "source": [
    "Ridge_train_score100 = rr100.score(X_train_scaled,y_train)\n",
    "Ridge_test_score100 = rr100.score(X_test_scaled, y_test)"
   ]
  },
  {
   "cell_type": "code",
   "execution_count": 19,
   "id": "f4571f03",
   "metadata": {},
   "outputs": [
    {
     "name": "stdout",
     "output_type": "stream",
     "text": [
      "Ridge_train_score100 is 0.34219119752413274\n",
      "Ridge_test_score100 -0.0562530592601056\n"
     ]
    }
   ],
   "source": [
    "print('Ridge_train_score100 is', Ridge_train_score100)\n",
    "print('Ridge_test_score100', Ridge_test_score100)\n"
   ]
  },
  {
   "cell_type": "code",
   "execution_count": 20,
   "id": "86d845b6",
   "metadata": {},
   "outputs": [
    {
     "data": {
      "image/png": "[encoded data removed]",
      "text/plain": [
       "<Figure size 432x288 with 1 Axes>"
      ]
     },
     "metadata": {
      "needs_background": "light"
     },
     "output_type": "display_data"
    }
   ],
   "source": [
    "plt.plot(rr.coef_,alpha=0.7,linestyle='none',marker='*',markersize=5,color='red',label=r'Ridge; $\\alpha = 0.01$',zorder=7)\n",
    "plt.plot(rr100.coef_,alpha=0.5,linestyle='none',marker='d',markersize=6,color='blue',label=r'Ridge; $\\alpha = 100$') \n",
    "plt.plot(lr.coef_,alpha=0.4,linestyle='none',marker='o',markersize=7,color='green',label='Linear Regression')\n",
    "plt.xlabel('Coefficient Index',fontsize=16)\n",
    "plt.ylabel('Coefficient Magnitude',fontsize=16)\n",
    "plt.legend(fontsize=13,loc=4)\n",
    "plt.show()"
   ]
  },
  {
   "cell_type": "code",
   "execution_count": 21,
   "id": "4405c991",
   "metadata": {},
   "outputs": [],
   "source": [
    "# plt.plot(rr100.coef_,alpha=0.5,linestyle='none',marker='d',markersize=6,color='blue',label=r'Ridge; $\\alpha = 100$') "
   ]
  },
  {
   "cell_type": "code",
   "execution_count": 22,
   "id": "ee3dd8f3",
   "metadata": {},
   "outputs": [],
   "source": [
    "# plt.plot(lr.coef_,alpha=0.4,linestyle='none',marker='o',markersize=7,color='green',label='Linear Regression')"
   ]
  },
  {
   "cell_type": "code",
   "execution_count": 23,
   "id": "0079e80e",
   "metadata": {},
   "outputs": [],
   "source": [
    "# plt.xlabel('Coefficient Index',fontsize=16)\n",
    "# plt.ylabel('Coefficient Magnitude',fontsize=16)\n",
    "# plt.legend(fontsize=13,loc=4)\n",
    "# plt.show()"
   ]
  },
  {
   "cell_type": "markdown",
   "id": "d205d347",
   "metadata": {},
   "source": [
    "### Lasso"
   ]
  },
  {
   "cell_type": "code",
   "execution_count": 24,
   "id": "7bcb5d3b",
   "metadata": {},
   "outputs": [],
   "source": [
    "# difference of lasso and ridge regression is that some of the coefficients can be zero i.e. some of the features are \n",
    "# completely neglected"
   ]
  },
  {
   "cell_type": "code",
   "execution_count": 25,
   "id": "a8ab47cc",
   "metadata": {},
   "outputs": [],
   "source": [
    "from sklearn.linear_model import Lasso\n",
    "from sklearn.linear_model import LinearRegression\n",
    "from sklearn.model_selection import train_test_split"
   ]
  },
  {
   "cell_type": "code",
   "execution_count": 26,
   "id": "e2a69795",
   "metadata": {},
   "outputs": [
    {
     "data": {
      "text/html": [
       "<div>\n",
       "<style scoped>\n",
       "    .dataframe tbody tr th:only-of-type {\n",
       "        vertical-align: middle;\n",
       "    }\n",
       "\n",
       "    .dataframe tbody tr th {\n",
       "        vertical-align: top;\n",
       "    }\n",
       "\n",
       "    .dataframe thead th {\n",
       "        text-align: right;\n",
       "    }\n",
       "</style>\n",
       "<table border=\"1\" class=\"dataframe\">\n",
       "  <thead>\n",
       "    <tr style=\"text-align: right;\">\n",
       "      <th></th>\n",
       "      <th>Date</th>\n",
       "      <th>S_P Close</th>\n",
       "      <th>S_P Volume</th>\n",
       "      <th>Median Sale Price</th>\n",
       "      <th>Homes Sold</th>\n",
       "      <th>INFLATION_EXPECTATION</th>\n",
       "      <th>SALES</th>\n",
       "      <th>UNEMPLOYMENT</th>\n",
       "      <th>NAS Value</th>\n",
       "      <th>NAS Volume</th>\n",
       "      <th>Covid_New_Cases</th>\n",
       "      <th>Covid_Death</th>\n",
       "    </tr>\n",
       "  </thead>\n",
       "  <tbody>\n",
       "    <tr>\n",
       "      <th>0</th>\n",
       "      <td>1/1/2017</td>\n",
       "      <td>2278.87</td>\n",
       "      <td>42691599000</td>\n",
       "      <td>246000</td>\n",
       "      <td>360977</td>\n",
       "      <td>2.6</td>\n",
       "      <td>368960</td>\n",
       "      <td>4.7</td>\n",
       "      <td>5614.786</td>\n",
       "      <td>8376144160</td>\n",
       "      <td>NaN</td>\n",
       "      <td>NaN</td>\n",
       "    </tr>\n",
       "    <tr>\n",
       "      <th>1</th>\n",
       "      <td>2/1/2017</td>\n",
       "      <td>2363.64</td>\n",
       "      <td>40740785000</td>\n",
       "      <td>247000</td>\n",
       "      <td>369081</td>\n",
       "      <td>2.7</td>\n",
       "      <td>365480</td>\n",
       "      <td>4.6</td>\n",
       "      <td>5825.438</td>\n",
       "      <td>8563523411</td>\n",
       "      <td>NaN</td>\n",
       "      <td>NaN</td>\n",
       "    </tr>\n",
       "    <tr>\n",
       "      <th>2</th>\n",
       "      <td>3/1/2017</td>\n",
       "      <td>2362.72</td>\n",
       "      <td>47262643000</td>\n",
       "      <td>257000</td>\n",
       "      <td>533610</td>\n",
       "      <td>2.5</td>\n",
       "      <td>422891</td>\n",
       "      <td>4.4</td>\n",
       "      <td>5911.738</td>\n",
       "      <td>10998962695</td>\n",
       "      <td>NaN</td>\n",
       "      <td>NaN</td>\n",
       "    </tr>\n",
       "    <tr>\n",
       "      <th>3</th>\n",
       "      <td>4/1/2017</td>\n",
       "      <td>2384.20</td>\n",
       "      <td>37735945000</td>\n",
       "      <td>262000</td>\n",
       "      <td>516823</td>\n",
       "      <td>2.5</td>\n",
       "      <td>407165</td>\n",
       "      <td>4.4</td>\n",
       "      <td>6047.606</td>\n",
       "      <td>8302492073</td>\n",
       "      <td>NaN</td>\n",
       "      <td>NaN</td>\n",
       "    </tr>\n",
       "    <tr>\n",
       "      <th>4</th>\n",
       "      <td>5/1/2017</td>\n",
       "      <td>2411.80</td>\n",
       "      <td>44654185000</td>\n",
       "      <td>269000</td>\n",
       "      <td>630788</td>\n",
       "      <td>2.6</td>\n",
       "      <td>434450</td>\n",
       "      <td>4.4</td>\n",
       "      <td>6198.517</td>\n",
       "      <td>10239273745</td>\n",
       "      <td>NaN</td>\n",
       "      <td>NaN</td>\n",
       "    </tr>\n",
       "  </tbody>\n",
       "</table>\n",
       "</div>"
      ],
      "text/plain": [
       "       Date  S_P Close   S_P Volume  Median Sale Price  Homes Sold  \\\n",
       "0  1/1/2017    2278.87  42691599000             246000      360977   \n",
       "1  2/1/2017    2363.64  40740785000             247000      369081   \n",
       "2  3/1/2017    2362.72  47262643000             257000      533610   \n",
       "3  4/1/2017    2384.20  37735945000             262000      516823   \n",
       "4  5/1/2017    2411.80  44654185000             269000      630788   \n",
       "\n",
       "   INFLATION_EXPECTATION   SALES  UNEMPLOYMENT  NAS Value   NAS Volume  \\\n",
       "0                    2.6  368960           4.7   5614.786   8376144160   \n",
       "1                    2.7  365480           4.6   5825.438   8563523411   \n",
       "2                    2.5  422891           4.4   5911.738  10998962695   \n",
       "3                    2.5  407165           4.4   6047.606   8302492073   \n",
       "4                    2.6  434450           4.4   6198.517  10239273745   \n",
       "\n",
       "   Covid_New_Cases  Covid_Death  \n",
       "0              NaN          NaN  \n",
       "1              NaN          NaN  \n",
       "2              NaN          NaN  \n",
       "3              NaN          NaN  \n",
       "4              NaN          NaN  "
      ]
     },
     "execution_count": 26,
     "metadata": {},
     "output_type": "execute_result"
    }
   ],
   "source": [
    "working_df = pd.read_csv(Path('Covid-19/FINAL_DATABASE.csv'))\n",
    "working_df.head(5)"
   ]
  },
  {
   "cell_type": "code",
   "execution_count": 27,
   "id": "db634b5c",
   "metadata": {},
   "outputs": [
    {
     "data": {
      "text/html": [
       "<div>\n",
       "<style scoped>\n",
       "    .dataframe tbody tr th:only-of-type {\n",
       "        vertical-align: middle;\n",
       "    }\n",
       "\n",
       "    .dataframe tbody tr th {\n",
       "        vertical-align: top;\n",
       "    }\n",
       "\n",
       "    .dataframe thead th {\n",
       "        text-align: right;\n",
       "    }\n",
       "</style>\n",
       "<table border=\"1\" class=\"dataframe\">\n",
       "  <thead>\n",
       "    <tr style=\"text-align: right;\">\n",
       "      <th></th>\n",
       "      <th>Date</th>\n",
       "      <th>S_P Close</th>\n",
       "      <th>S_P Volume</th>\n",
       "      <th>Median Sale Price</th>\n",
       "      <th>Homes Sold</th>\n",
       "      <th>INFLATION_EXPECTATION</th>\n",
       "      <th>SALES</th>\n",
       "      <th>UNEMPLOYMENT</th>\n",
       "      <th>NAS Value</th>\n",
       "      <th>NAS Volume</th>\n",
       "      <th>Covid_New_Cases</th>\n",
       "      <th>Covid_Death</th>\n",
       "    </tr>\n",
       "  </thead>\n",
       "  <tbody>\n",
       "    <tr>\n",
       "      <th>0</th>\n",
       "      <td>1/1/2017</td>\n",
       "      <td>2278.87</td>\n",
       "      <td>42691599000</td>\n",
       "      <td>246000</td>\n",
       "      <td>360977</td>\n",
       "      <td>2.6</td>\n",
       "      <td>368960</td>\n",
       "      <td>4.7</td>\n",
       "      <td>5614.786</td>\n",
       "      <td>8376144160</td>\n",
       "      <td>0.0</td>\n",
       "      <td>0.0</td>\n",
       "    </tr>\n",
       "    <tr>\n",
       "      <th>1</th>\n",
       "      <td>2/1/2017</td>\n",
       "      <td>2363.64</td>\n",
       "      <td>40740785000</td>\n",
       "      <td>247000</td>\n",
       "      <td>369081</td>\n",
       "      <td>2.7</td>\n",
       "      <td>365480</td>\n",
       "      <td>4.6</td>\n",
       "      <td>5825.438</td>\n",
       "      <td>8563523411</td>\n",
       "      <td>0.0</td>\n",
       "      <td>0.0</td>\n",
       "    </tr>\n",
       "    <tr>\n",
       "      <th>2</th>\n",
       "      <td>3/1/2017</td>\n",
       "      <td>2362.72</td>\n",
       "      <td>47262643000</td>\n",
       "      <td>257000</td>\n",
       "      <td>533610</td>\n",
       "      <td>2.5</td>\n",
       "      <td>422891</td>\n",
       "      <td>4.4</td>\n",
       "      <td>5911.738</td>\n",
       "      <td>10998962695</td>\n",
       "      <td>0.0</td>\n",
       "      <td>0.0</td>\n",
       "    </tr>\n",
       "    <tr>\n",
       "      <th>3</th>\n",
       "      <td>4/1/2017</td>\n",
       "      <td>2384.20</td>\n",
       "      <td>37735945000</td>\n",
       "      <td>262000</td>\n",
       "      <td>516823</td>\n",
       "      <td>2.5</td>\n",
       "      <td>407165</td>\n",
       "      <td>4.4</td>\n",
       "      <td>6047.606</td>\n",
       "      <td>8302492073</td>\n",
       "      <td>0.0</td>\n",
       "      <td>0.0</td>\n",
       "    </tr>\n",
       "    <tr>\n",
       "      <th>4</th>\n",
       "      <td>5/1/2017</td>\n",
       "      <td>2411.80</td>\n",
       "      <td>44654185000</td>\n",
       "      <td>269000</td>\n",
       "      <td>630788</td>\n",
       "      <td>2.6</td>\n",
       "      <td>434450</td>\n",
       "      <td>4.4</td>\n",
       "      <td>6198.517</td>\n",
       "      <td>10239273745</td>\n",
       "      <td>0.0</td>\n",
       "      <td>0.0</td>\n",
       "    </tr>\n",
       "  </tbody>\n",
       "</table>\n",
       "</div>"
      ],
      "text/plain": [
       "       Date  S_P Close   S_P Volume  Median Sale Price  Homes Sold  \\\n",
       "0  1/1/2017    2278.87  42691599000             246000      360977   \n",
       "1  2/1/2017    2363.64  40740785000             247000      369081   \n",
       "2  3/1/2017    2362.72  47262643000             257000      533610   \n",
       "3  4/1/2017    2384.20  37735945000             262000      516823   \n",
       "4  5/1/2017    2411.80  44654185000             269000      630788   \n",
       "\n",
       "   INFLATION_EXPECTATION   SALES  UNEMPLOYMENT  NAS Value   NAS Volume  \\\n",
       "0                    2.6  368960           4.7   5614.786   8376144160   \n",
       "1                    2.7  365480           4.6   5825.438   8563523411   \n",
       "2                    2.5  422891           4.4   5911.738  10998962695   \n",
       "3                    2.5  407165           4.4   6047.606   8302492073   \n",
       "4                    2.6  434450           4.4   6198.517  10239273745   \n",
       "\n",
       "   Covid_New_Cases  Covid_Death  \n",
       "0              0.0          0.0  \n",
       "1              0.0          0.0  \n",
       "2              0.0          0.0  \n",
       "3              0.0          0.0  \n",
       "4              0.0          0.0  "
      ]
     },
     "execution_count": 27,
     "metadata": {},
     "output_type": "execute_result"
    }
   ],
   "source": [
    "working_df['Covid_New_Cases'] = working_df['Covid_New_Cases'].replace(np.nan, 0)\n",
    "working_df['Covid_Death'] = working_df['Covid_Death'].replace(np.nan, 0)\n",
    "working_df.head()"
   ]
  },
  {
   "cell_type": "code",
   "execution_count": 28,
   "id": "2687baa7",
   "metadata": {},
   "outputs": [],
   "source": [
    "# Split our preprocessed data into our features and target arrays\n",
    "y = working_df.UNEMPLOYMENT\n",
    "X = working_df.drop(columns=[\"Date\",\"UNEMPLOYMENT\"])"
   ]
  },
  {
   "cell_type": "code",
   "execution_count": 29,
   "id": "d01b7a6a",
   "metadata": {},
   "outputs": [],
   "source": [
    "X_train,X_test,y_train,y_test=train_test_split(X,y, random_state=42)"
   ]
  },
  {
   "cell_type": "code",
   "execution_count": 30,
   "id": "e22d803f",
   "metadata": {},
   "outputs": [],
   "source": [
    "# Create a StandardScaler instances\n",
    "scaler = StandardScaler()\n",
    "\n",
    "# Fit the StandardScaler\n",
    "X_scaler = scaler.fit(X_train)\n",
    "\n",
    "# Scale the data\n",
    "X_train_scaled = X_scaler.transform(X_train)\n",
    "X_test_scaled = X_scaler.transform(X_test)"
   ]
  },
  {
   "cell_type": "code",
   "execution_count": 31,
   "id": "85879f48",
   "metadata": {},
   "outputs": [],
   "source": [
    "lasso = Lasso()\n",
    "lasso.fit(X_train_scaled,y_train)\n",
    "train_score=lasso.score(X_train_scaled,y_train)\n",
    "test_score=lasso.score(X_test_scaled,y_test)\n",
    "coeff_used = np.sum(lasso.coef_!=0)"
   ]
  },
  {
   "cell_type": "code",
   "execution_count": 32,
   "id": "617c84a8",
   "metadata": {},
   "outputs": [
    {
     "name": "stdout",
     "output_type": "stream",
     "text": [
      "training score: 0.2070408665473248\n",
      "test score:  -0.14795721624342395\n",
      "number of features used:  2\n"
     ]
    }
   ],
   "source": [
    "print(\"training score:\", train_score) \n",
    "print(\"test score: \", test_score)\n",
    "print(\"number of features used: \", coeff_used)"
   ]
  },
  {
   "cell_type": "code",
   "execution_count": 33,
   "id": "6a99f868",
   "metadata": {},
   "outputs": [
    {
     "data": {
      "text/plain": [
       "Lasso(alpha=0.01, max_iter=1000000.0)"
      ]
     },
     "execution_count": 33,
     "metadata": {},
     "output_type": "execute_result"
    }
   ],
   "source": [
    "lasso001 = Lasso(alpha=0.01, max_iter=10e5)\n",
    "lasso001.fit(X_train_scaled,y_train)"
   ]
  },
  {
   "cell_type": "code",
   "execution_count": 34,
   "id": "5e6d488b",
   "metadata": {},
   "outputs": [],
   "source": [
    "train_score001=lasso001.score(X_train_scaled,y_train)\n",
    "test_score001=lasso001.score(X_test_scaled,y_test)\n",
    "coeff_used001 = np.sum(lasso001.coef_!=0)\n"
   ]
  },
  {
   "cell_type": "code",
   "execution_count": 35,
   "id": "a9a7d0f3",
   "metadata": {},
   "outputs": [
    {
     "name": "stdout",
     "output_type": "stream",
     "text": [
      "training score for alpha=0.01: 0.7110839779310338\n",
      "test score for alpha =0.01:  -7.378186738640887\n",
      "number of features used: for alpha =0.01: 9\n"
     ]
    }
   ],
   "source": [
    "print(\"training score for alpha=0.01:\", train_score001) \n",
    "print(\"test score for alpha =0.01: \", test_score001)\n",
    "print(\"number of features used: for alpha =0.01:\", coeff_used001)"
   ]
  },
  {
   "cell_type": "code",
   "execution_count": 36,
   "id": "7f96a5f1",
   "metadata": {},
   "outputs": [
    {
     "data": {
      "text/plain": [
       "Lasso(alpha=0.0001, max_iter=1000000.0)"
      ]
     },
     "execution_count": 36,
     "metadata": {},
     "output_type": "execute_result"
    }
   ],
   "source": [
    "lasso00001 = Lasso(alpha=0.0001, max_iter=10e5)\n",
    "lasso00001.fit(X_train_scaled,y_train)"
   ]
  },
  {
   "cell_type": "code",
   "execution_count": 37,
   "id": "c6f9bdf0",
   "metadata": {},
   "outputs": [],
   "source": [
    "train_score00001=lasso00001.score(X_train_scaled,y_train)\n",
    "test_score00001=lasso00001.score(X_test_scaled,y_test)\n",
    "coeff_used00001 = np.sum(lasso00001.coef_!=0)\n"
   ]
  },
  {
   "cell_type": "code",
   "execution_count": 38,
   "id": "ca62bcb2",
   "metadata": {},
   "outputs": [
    {
     "name": "stdout",
     "output_type": "stream",
     "text": [
      "training score for alpha=0.0001: 0.717994314369035\n",
      "test score for alpha =0.0001:  -7.301145407835907\n",
      "number of features used: for alpha =0.0001: 10\n"
     ]
    }
   ],
   "source": [
    "print(\"training score for alpha=0.0001:\", train_score00001) \n",
    "print(\"test score for alpha =0.0001: \", test_score00001)\n",
    "print(\"number of features used: for alpha =0.0001:\", coeff_used00001)"
   ]
  },
  {
   "cell_type": "code",
   "execution_count": 39,
   "id": "17e5fdfd",
   "metadata": {},
   "outputs": [],
   "source": [
    "lr = LinearRegression()\n",
    "lr.fit(X_train_scaled,y_train)\n",
    "lr_train_score=lr.score(X_train_scaled,y_train)\n",
    "lr_test_score=lr.score(X_test_scaled,y_test)"
   ]
  },
  {
   "cell_type": "code",
   "execution_count": 40,
   "id": "7d57cef7",
   "metadata": {},
   "outputs": [
    {
     "name": "stdout",
     "output_type": "stream",
     "text": [
      "LR training score: 0.7179951292992881\n",
      "LR test score:  -7.29995289807103\n"
     ]
    }
   ],
   "source": [
    "print(\"LR training score:\", lr_train_score) \n",
    "print(\"LR test score: \", lr_test_score)"
   ]
  },
  {
   "cell_type": "code",
   "execution_count": 41,
   "id": "197544c4",
   "metadata": {},
   "outputs": [
    {
     "ename": "NameError",
     "evalue": "name 'y_pred' is not defined",
     "output_type": "error",
     "traceback": [
      "\u001b[1;31m---------------------------------------------------------------------------\u001b[0m",
      "\u001b[1;31mNameError\u001b[0m                                 Traceback (most recent call last)",
      "\u001b[1;32m~\\AppData\\Local\\Temp/ipykernel_6688/2840006929.py\u001b[0m in \u001b[0;36m<module>\u001b[1;34m\u001b[0m\n\u001b[0;32m      3\u001b[0m \u001b[1;32mfrom\u001b[0m \u001b[0msklearn\u001b[0m\u001b[1;33m.\u001b[0m\u001b[0mmetrics\u001b[0m \u001b[1;32mimport\u001b[0m \u001b[0mmean_squared_error\u001b[0m\u001b[1;33m\u001b[0m\u001b[1;33m\u001b[0m\u001b[0m\n\u001b[0;32m      4\u001b[0m \u001b[1;31m# predicting the accuracy score\u001b[0m\u001b[1;33m\u001b[0m\u001b[1;33m\u001b[0m\u001b[1;33m\u001b[0m\u001b[0m\n\u001b[1;32m----> 5\u001b[1;33m \u001b[0mscore\u001b[0m\u001b[1;33m=\u001b[0m\u001b[0mr2_score\u001b[0m\u001b[1;33m(\u001b[0m\u001b[0my_test\u001b[0m\u001b[1;33m,\u001b[0m\u001b[0my_pred\u001b[0m\u001b[1;33m)\u001b[0m\u001b[1;33m\u001b[0m\u001b[1;33m\u001b[0m\u001b[0m\n\u001b[0m\u001b[0;32m      6\u001b[0m \u001b[0mprint\u001b[0m\u001b[1;33m(\u001b[0m\u001b[1;34m'r2 score is'\u001b[0m\u001b[1;33m,\u001b[0m \u001b[0mscore\u001b[0m\u001b[1;33m)\u001b[0m\u001b[1;33m\u001b[0m\u001b[1;33m\u001b[0m\u001b[0m\n\u001b[0;32m      7\u001b[0m \u001b[0mprint\u001b[0m\u001b[1;33m(\u001b[0m\u001b[1;34m\"mean_squared_error is ==\"\u001b[0m\u001b[1;33m,\u001b[0m\u001b[0mmean_squared_error\u001b[0m\u001b[1;33m(\u001b[0m\u001b[0my_test\u001b[0m\u001b[1;33m,\u001b[0m \u001b[0my_pred\u001b[0m\u001b[1;33m)\u001b[0m\u001b[1;33m)\u001b[0m\u001b[1;33m\u001b[0m\u001b[1;33m\u001b[0m\u001b[0m\n",
      "\u001b[1;31mNameError\u001b[0m: name 'y_pred' is not defined"
     ]
    }
   ],
   "source": [
    "# importing the r2_score module\n",
    "from sklearn.metrics import r2_score\n",
    "from sklearn.metrics import mean_squared_error\n",
    "# predicting the accuracy score\n",
    "score=r2_score(y_test,y_pred)\n",
    "print('r2 score is', score)\n",
    "print(\"mean_squared_error is ==\",mean_squared_error(y_test, y_pred))\n",
    "print(\"root_mean_squared error is ==\",np.sqrt(mean_squared_error(y_test, y_pred)))"
   ]
  },
  {
   "cell_type": "code",
   "execution_count": null,
   "id": "c246222a",
   "metadata": {},
   "outputs": [],
   "source": [
    "plt.subplot(1,2,1)\n",
    "plt.plot(lasso.coef_,alpha=0.7,linestyle='none',marker='*',markersize=5,color='red',label=r'Lasso; $\\alpha = 1$',zorder=7) # alpha here is for transparency\n",
    "plt.plot(lasso001.coef_,alpha=0.5,linestyle='none',marker='d',markersize=6,color='blue',label=r'Lasso; $\\alpha = 0.01$') # alpha here is for transparency\n",
    "plt.xlabel('Coefficient Index',fontsize=16)\n",
    "plt.ylabel('Coefficient Magnitude',fontsize=16)\n",
    "plt.legend(fontsize=13,loc=4)"
   ]
  },
  {
   "cell_type": "code",
   "execution_count": null,
   "id": "0be4c2eb",
   "metadata": {},
   "outputs": [],
   "source": [
    "plt.subplot(1,2,2)\n",
    "plt.plot(lasso.coef_,alpha=0.7,linestyle='none',marker='*',markersize=5,color='red',label=r'Lasso; $\\alpha = 1$',zorder=7) # alpha here is for transparency\n",
    "plt.plot(lasso001.coef_,alpha=0.5,linestyle='none',marker='d',markersize=6,color='blue',label=r'Lasso; $\\alpha = 0.01$') # alpha here is for transparency\n",
    "plt.plot(lasso00001.coef_,alpha=0.8,linestyle='none',marker='v',markersize=6,color='black',label=r'Lasso; $\\alpha = 0.00001$') # alpha here is for transparency\n",
    "plt.plot(lr.coef_,alpha=0.7,linestyle='none',marker='o',markersize=5,color='green',label='Linear Regression',zorder=2)\n",
    "plt.xlabel('Coefficient Index',fontsize=16)\n",
    "plt.ylabel('Coefficient Magnitude',fontsize=16)\n",
    "plt.legend(fontsize=13,loc=4)\n",
    "plt.tight_layout()\n",
    "plt.show()"
   ]
  },
  {
   "cell_type": "markdown",
   "id": "60e091a4",
   "metadata": {},
   "source": [
    "## Multiple linear regression"
   ]
  },
  {
   "cell_type": "code",
   "execution_count": 42,
   "id": "e5a6b69e",
   "metadata": {},
   "outputs": [
    {
     "data": {
      "text/html": [
       "<div>\n",
       "<style scoped>\n",
       "    .dataframe tbody tr th:only-of-type {\n",
       "        vertical-align: middle;\n",
       "    }\n",
       "\n",
       "    .dataframe tbody tr th {\n",
       "        vertical-align: top;\n",
       "    }\n",
       "\n",
       "    .dataframe thead th {\n",
       "        text-align: right;\n",
       "    }\n",
       "</style>\n",
       "<table border=\"1\" class=\"dataframe\">\n",
       "  <thead>\n",
       "    <tr style=\"text-align: right;\">\n",
       "      <th></th>\n",
       "      <th>Date</th>\n",
       "      <th>S_P Close</th>\n",
       "      <th>S_P Volume</th>\n",
       "      <th>Median Sale Price</th>\n",
       "      <th>Homes Sold</th>\n",
       "      <th>INFLATION_EXPECTATION</th>\n",
       "      <th>SALES</th>\n",
       "      <th>UNEMPLOYMENT</th>\n",
       "      <th>NAS Value</th>\n",
       "      <th>NAS Volume</th>\n",
       "      <th>Covid_New_Cases</th>\n",
       "      <th>Covid_Death</th>\n",
       "    </tr>\n",
       "  </thead>\n",
       "  <tbody>\n",
       "    <tr>\n",
       "      <th>0</th>\n",
       "      <td>1/1/2017</td>\n",
       "      <td>2278.87</td>\n",
       "      <td>42691599000</td>\n",
       "      <td>246000</td>\n",
       "      <td>360977</td>\n",
       "      <td>2.6</td>\n",
       "      <td>368960</td>\n",
       "      <td>4.7</td>\n",
       "      <td>5614.786</td>\n",
       "      <td>8376144160</td>\n",
       "      <td>NaN</td>\n",
       "      <td>NaN</td>\n",
       "    </tr>\n",
       "    <tr>\n",
       "      <th>1</th>\n",
       "      <td>2/1/2017</td>\n",
       "      <td>2363.64</td>\n",
       "      <td>40740785000</td>\n",
       "      <td>247000</td>\n",
       "      <td>369081</td>\n",
       "      <td>2.7</td>\n",
       "      <td>365480</td>\n",
       "      <td>4.6</td>\n",
       "      <td>5825.438</td>\n",
       "      <td>8563523411</td>\n",
       "      <td>NaN</td>\n",
       "      <td>NaN</td>\n",
       "    </tr>\n",
       "    <tr>\n",
       "      <th>2</th>\n",
       "      <td>3/1/2017</td>\n",
       "      <td>2362.72</td>\n",
       "      <td>47262643000</td>\n",
       "      <td>257000</td>\n",
       "      <td>533610</td>\n",
       "      <td>2.5</td>\n",
       "      <td>422891</td>\n",
       "      <td>4.4</td>\n",
       "      <td>5911.738</td>\n",
       "      <td>10998962695</td>\n",
       "      <td>NaN</td>\n",
       "      <td>NaN</td>\n",
       "    </tr>\n",
       "    <tr>\n",
       "      <th>3</th>\n",
       "      <td>4/1/2017</td>\n",
       "      <td>2384.20</td>\n",
       "      <td>37735945000</td>\n",
       "      <td>262000</td>\n",
       "      <td>516823</td>\n",
       "      <td>2.5</td>\n",
       "      <td>407165</td>\n",
       "      <td>4.4</td>\n",
       "      <td>6047.606</td>\n",
       "      <td>8302492073</td>\n",
       "      <td>NaN</td>\n",
       "      <td>NaN</td>\n",
       "    </tr>\n",
       "    <tr>\n",
       "      <th>4</th>\n",
       "      <td>5/1/2017</td>\n",
       "      <td>2411.80</td>\n",
       "      <td>44654185000</td>\n",
       "      <td>269000</td>\n",
       "      <td>630788</td>\n",
       "      <td>2.6</td>\n",
       "      <td>434450</td>\n",
       "      <td>4.4</td>\n",
       "      <td>6198.517</td>\n",
       "      <td>10239273745</td>\n",
       "      <td>NaN</td>\n",
       "      <td>NaN</td>\n",
       "    </tr>\n",
       "  </tbody>\n",
       "</table>\n",
       "</div>"
      ],
      "text/plain": [
       "       Date  S_P Close   S_P Volume  Median Sale Price  Homes Sold  \\\n",
       "0  1/1/2017    2278.87  42691599000             246000      360977   \n",
       "1  2/1/2017    2363.64  40740785000             247000      369081   \n",
       "2  3/1/2017    2362.72  47262643000             257000      533610   \n",
       "3  4/1/2017    2384.20  37735945000             262000      516823   \n",
       "4  5/1/2017    2411.80  44654185000             269000      630788   \n",
       "\n",
       "   INFLATION_EXPECTATION   SALES  UNEMPLOYMENT  NAS Value   NAS Volume  \\\n",
       "0                    2.6  368960           4.7   5614.786   8376144160   \n",
       "1                    2.7  365480           4.6   5825.438   8563523411   \n",
       "2                    2.5  422891           4.4   5911.738  10998962695   \n",
       "3                    2.5  407165           4.4   6047.606   8302492073   \n",
       "4                    2.6  434450           4.4   6198.517  10239273745   \n",
       "\n",
       "   Covid_New_Cases  Covid_Death  \n",
       "0              NaN          NaN  \n",
       "1              NaN          NaN  \n",
       "2              NaN          NaN  \n",
       "3              NaN          NaN  \n",
       "4              NaN          NaN  "
      ]
     },
     "execution_count": 42,
     "metadata": {},
     "output_type": "execute_result"
    }
   ],
   "source": [
    "working_df = pd.read_csv(Path('Covid-19/FINAL_DATABASE.csv'))\n",
    "working_df.head(5)"
   ]
  },
  {
   "cell_type": "code",
   "execution_count": 43,
   "id": "c7cf677a",
   "metadata": {},
   "outputs": [
    {
     "data": {
      "text/html": [
       "<div>\n",
       "<style scoped>\n",
       "    .dataframe tbody tr th:only-of-type {\n",
       "        vertical-align: middle;\n",
       "    }\n",
       "\n",
       "    .dataframe tbody tr th {\n",
       "        vertical-align: top;\n",
       "    }\n",
       "\n",
       "    .dataframe thead th {\n",
       "        text-align: right;\n",
       "    }\n",
       "</style>\n",
       "<table border=\"1\" class=\"dataframe\">\n",
       "  <thead>\n",
       "    <tr style=\"text-align: right;\">\n",
       "      <th></th>\n",
       "      <th>Date</th>\n",
       "      <th>S_P Close</th>\n",
       "      <th>S_P Volume</th>\n",
       "      <th>Median Sale Price</th>\n",
       "      <th>Homes Sold</th>\n",
       "      <th>INFLATION_EXPECTATION</th>\n",
       "      <th>SALES</th>\n",
       "      <th>UNEMPLOYMENT</th>\n",
       "      <th>NAS Value</th>\n",
       "      <th>NAS Volume</th>\n",
       "      <th>Covid_New_Cases</th>\n",
       "      <th>Covid_Death</th>\n",
       "    </tr>\n",
       "  </thead>\n",
       "  <tbody>\n",
       "    <tr>\n",
       "      <th>0</th>\n",
       "      <td>1/1/2017</td>\n",
       "      <td>2278.87</td>\n",
       "      <td>42691599000</td>\n",
       "      <td>246000</td>\n",
       "      <td>360977</td>\n",
       "      <td>2.6</td>\n",
       "      <td>368960</td>\n",
       "      <td>4.7</td>\n",
       "      <td>5614.786</td>\n",
       "      <td>8376144160</td>\n",
       "      <td>0.0</td>\n",
       "      <td>0.0</td>\n",
       "    </tr>\n",
       "    <tr>\n",
       "      <th>1</th>\n",
       "      <td>2/1/2017</td>\n",
       "      <td>2363.64</td>\n",
       "      <td>40740785000</td>\n",
       "      <td>247000</td>\n",
       "      <td>369081</td>\n",
       "      <td>2.7</td>\n",
       "      <td>365480</td>\n",
       "      <td>4.6</td>\n",
       "      <td>5825.438</td>\n",
       "      <td>8563523411</td>\n",
       "      <td>0.0</td>\n",
       "      <td>0.0</td>\n",
       "    </tr>\n",
       "    <tr>\n",
       "      <th>2</th>\n",
       "      <td>3/1/2017</td>\n",
       "      <td>2362.72</td>\n",
       "      <td>47262643000</td>\n",
       "      <td>257000</td>\n",
       "      <td>533610</td>\n",
       "      <td>2.5</td>\n",
       "      <td>422891</td>\n",
       "      <td>4.4</td>\n",
       "      <td>5911.738</td>\n",
       "      <td>10998962695</td>\n",
       "      <td>0.0</td>\n",
       "      <td>0.0</td>\n",
       "    </tr>\n",
       "    <tr>\n",
       "      <th>3</th>\n",
       "      <td>4/1/2017</td>\n",
       "      <td>2384.20</td>\n",
       "      <td>37735945000</td>\n",
       "      <td>262000</td>\n",
       "      <td>516823</td>\n",
       "      <td>2.5</td>\n",
       "      <td>407165</td>\n",
       "      <td>4.4</td>\n",
       "      <td>6047.606</td>\n",
       "      <td>8302492073</td>\n",
       "      <td>0.0</td>\n",
       "      <td>0.0</td>\n",
       "    </tr>\n",
       "    <tr>\n",
       "      <th>4</th>\n",
       "      <td>5/1/2017</td>\n",
       "      <td>2411.80</td>\n",
       "      <td>44654185000</td>\n",
       "      <td>269000</td>\n",
       "      <td>630788</td>\n",
       "      <td>2.6</td>\n",
       "      <td>434450</td>\n",
       "      <td>4.4</td>\n",
       "      <td>6198.517</td>\n",
       "      <td>10239273745</td>\n",
       "      <td>0.0</td>\n",
       "      <td>0.0</td>\n",
       "    </tr>\n",
       "  </tbody>\n",
       "</table>\n",
       "</div>"
      ],
      "text/plain": [
       "       Date  S_P Close   S_P Volume  Median Sale Price  Homes Sold  \\\n",
       "0  1/1/2017    2278.87  42691599000             246000      360977   \n",
       "1  2/1/2017    2363.64  40740785000             247000      369081   \n",
       "2  3/1/2017    2362.72  47262643000             257000      533610   \n",
       "3  4/1/2017    2384.20  37735945000             262000      516823   \n",
       "4  5/1/2017    2411.80  44654185000             269000      630788   \n",
       "\n",
       "   INFLATION_EXPECTATION   SALES  UNEMPLOYMENT  NAS Value   NAS Volume  \\\n",
       "0                    2.6  368960           4.7   5614.786   8376144160   \n",
       "1                    2.7  365480           4.6   5825.438   8563523411   \n",
       "2                    2.5  422891           4.4   5911.738  10998962695   \n",
       "3                    2.5  407165           4.4   6047.606   8302492073   \n",
       "4                    2.6  434450           4.4   6198.517  10239273745   \n",
       "\n",
       "   Covid_New_Cases  Covid_Death  \n",
       "0              0.0          0.0  \n",
       "1              0.0          0.0  \n",
       "2              0.0          0.0  \n",
       "3              0.0          0.0  \n",
       "4              0.0          0.0  "
      ]
     },
     "execution_count": 43,
     "metadata": {},
     "output_type": "execute_result"
    }
   ],
   "source": [
    "working_df['Covid_New_Cases'] = working_df['Covid_New_Cases'].replace(np.nan, 0)\n",
    "working_df['Covid_Death'] = working_df['Covid_Death'].replace(np.nan, 0)\n",
    "working_df.head()"
   ]
  },
  {
   "cell_type": "code",
   "execution_count": 44,
   "id": "ec14070b",
   "metadata": {},
   "outputs": [],
   "source": [
    "# Split our preprocessed data into our features and target arrays\n",
    "y = working_df.UNEMPLOYMENT\n",
    "X = working_df.drop(columns=[\"Date\",\"UNEMPLOYMENT\"])"
   ]
  },
  {
   "cell_type": "code",
   "execution_count": 45,
   "id": "9d452acd",
   "metadata": {},
   "outputs": [
    {
     "data": {
      "text/plain": [
       "(62, 10)"
      ]
     },
     "execution_count": 45,
     "metadata": {},
     "output_type": "execute_result"
    }
   ],
   "source": [
    "X.shape"
   ]
  },
  {
   "cell_type": "code",
   "execution_count": 46,
   "id": "c51b2823",
   "metadata": {},
   "outputs": [],
   "source": [
    "# Splitting the dataset into the Training set and Test set\n",
    "from sklearn.model_selection import train_test_split\n",
    "X_train, X_test, y_train, y_test = train_test_split(X, y, random_state = 42)\n"
   ]
  },
  {
   "cell_type": "code",
   "execution_count": 47,
   "id": "4d0c78ed",
   "metadata": {},
   "outputs": [],
   "source": [
    "# Create a StandardScaler instances\n",
    "scaler = StandardScaler()\n",
    "\n",
    "# Fit the StandardScaler\n",
    "X_scaler = scaler.fit(X_train)\n",
    "\n",
    "# Scale the data\n",
    "X_train_scaled = X_scaler.transform(X_train)\n",
    "X_test_scaled = X_scaler.transform(X_test)"
   ]
  },
  {
   "cell_type": "code",
   "execution_count": 48,
   "id": "402f7038",
   "metadata": {},
   "outputs": [
    {
     "data": {
      "text/plain": [
       "LinearRegression()"
      ]
     },
     "execution_count": 48,
     "metadata": {},
     "output_type": "execute_result"
    }
   ],
   "source": [
    "# Fitting Multiple Linear Regression to the Training set\n",
    "regressor = LinearRegression()\n",
    "regressor.fit(X_train_scaled, y_train)\n"
   ]
  },
  {
   "cell_type": "code",
   "execution_count": 49,
   "id": "44d63d28",
   "metadata": {},
   "outputs": [
    {
     "data": {
      "text/plain": [
       "array([ 7.47001995,  7.90333541,  3.84037407,  8.15426184,  4.82387318,\n",
       "       13.50302494,  4.82860708,  4.10677316,  2.98940406,  6.71223062,\n",
       "        3.60178448,  4.51039485, 12.81126559,  4.16142036,  3.61943084,\n",
       "        3.05337007])"
      ]
     },
     "execution_count": 49,
     "metadata": {},
     "output_type": "execute_result"
    }
   ],
   "source": [
    "# Predicting the Test set results\n",
    "y_pred = regressor.predict(X_test_scaled)\n",
    "y_pred"
   ]
  },
  {
   "cell_type": "code",
   "execution_count": 50,
   "id": "83a80ad7",
   "metadata": {},
   "outputs": [
    {
     "name": "stdout",
     "output_type": "stream",
     "text": [
      "r2 score is -7.29995289807103\n",
      "mean_squared_error is == 7.744569331102451\n",
      "root_mean_squared error is == 2.782906633558239\n"
     ]
    }
   ],
   "source": [
    "# importing the r2_score module\n",
    "from sklearn.metrics import r2_score\n",
    "from sklearn.metrics import mean_squared_error\n",
    "# predicting the accuracy score\n",
    "score=r2_score(y_test,y_pred)\n",
    "print('r2 score is', score)\n",
    "print(\"mean_squared_error is ==\",mean_squared_error(y_test, y_pred))\n",
    "print(\"root_mean_squared error is ==\",np.sqrt(mean_squared_error(y_test, y_pred)))"
   ]
  },
  {
   "cell_type": "code",
   "execution_count": null,
   "id": "eca9a08c",
   "metadata": {},
   "outputs": [],
   "source": [
    "# You can see that the accuracy score is greater than 0.8 it means we can use this model  \n",
    "# to solve multiple linear regression, and also mean squared error rate is also low. NOPE -ours is sky high."
   ]
  }
 ],
 "metadata": {
  "kernelspec": {
   "display_name": "mlenv",
   "language": "python",
   "name": "mlenv"
  },
  "language_info": {
   "codemirror_mode": {
    "name": "ipython",
    "version": 3
   },
   "file_extension": ".py",
   "mimetype": "text/x-python",
   "name": "python",
   "nbconvert_exporter": "python",
   "pygments_lexer": "ipython3",
   "version": "3.7.11"
  }
 },
 "nbformat": 4,
 "nbformat_minor": 5
}

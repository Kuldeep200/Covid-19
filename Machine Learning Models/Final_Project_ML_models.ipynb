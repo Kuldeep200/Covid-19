{
 "cells": [
  {
   "cell_type": "markdown",
   "id": "c9765eb4",
   "metadata": {},
   "source": [
    "## Linear regression as limiting case of Ridge regression"
   ]
  },
  {
   "cell_type": "markdown",
   "id": "ea8cd20a",
   "metadata": {},
   "source": [
    "#### Ridge regression shrinks the coefficients and it helps to reduce the model complexity and multi-collinearity. "
   ]
  },
  {
   "cell_type": "code",
   "execution_count": 1,
   "id": "bf1532f5",
   "metadata": {},
   "outputs": [],
   "source": [
    "import pandas as pd\n",
    "import numpy as np \n",
    "import tensorflow as tf\n",
    "from pathlib import Path\n",
    "import matplotlib.pyplot as plt\n",
    "import scipy.stats\n",
    "from sklearn.preprocessing import StandardScaler\n",
    "from sklearn.linear_model import LinearRegression\n",
    "from sklearn.model_selection import train_test_split\n",
    "from sklearn.linear_model import Ridge\n",
    "# importing the r2_score module\n",
    "from sklearn.metrics import r2_score\n",
    "from sklearn.metrics import mean_squared_error"
   ]
  },
  {
   "cell_type": "code",
   "execution_count": 2,
   "id": "cbaef9a1",
   "metadata": {},
   "outputs": [
    {
     "data": {
      "text/html": [
       "<div>\n",
       "<style scoped>\n",
       "    .dataframe tbody tr th:only-of-type {\n",
       "        vertical-align: middle;\n",
       "    }\n",
       "\n",
       "    .dataframe tbody tr th {\n",
       "        vertical-align: top;\n",
       "    }\n",
       "\n",
       "    .dataframe thead th {\n",
       "        text-align: right;\n",
       "    }\n",
       "</style>\n",
       "<table border=\"1\" class=\"dataframe\">\n",
       "  <thead>\n",
       "    <tr style=\"text-align: right;\">\n",
       "      <th></th>\n",
       "      <th>Date</th>\n",
       "      <th>S_P Close</th>\n",
       "      <th>S_P Volume</th>\n",
       "      <th>Median Sale Price</th>\n",
       "      <th>Homes Sold</th>\n",
       "      <th>INFLATION_EXPECTATION</th>\n",
       "      <th>SALES</th>\n",
       "      <th>UNEMPLOYMENT</th>\n",
       "      <th>NAS Value</th>\n",
       "      <th>NAS Volume</th>\n",
       "      <th>Covid_New_Cases</th>\n",
       "      <th>Covid_Death</th>\n",
       "    </tr>\n",
       "  </thead>\n",
       "  <tbody>\n",
       "    <tr>\n",
       "      <th>0</th>\n",
       "      <td>1/1/2017</td>\n",
       "      <td>2278.87</td>\n",
       "      <td>42691599000</td>\n",
       "      <td>246000</td>\n",
       "      <td>360977</td>\n",
       "      <td>2.6</td>\n",
       "      <td>368960</td>\n",
       "      <td>4.7</td>\n",
       "      <td>5614.786</td>\n",
       "      <td>8376144160</td>\n",
       "      <td>NaN</td>\n",
       "      <td>NaN</td>\n",
       "    </tr>\n",
       "    <tr>\n",
       "      <th>1</th>\n",
       "      <td>2/1/2017</td>\n",
       "      <td>2363.64</td>\n",
       "      <td>40740785000</td>\n",
       "      <td>247000</td>\n",
       "      <td>369081</td>\n",
       "      <td>2.7</td>\n",
       "      <td>365480</td>\n",
       "      <td>4.6</td>\n",
       "      <td>5825.438</td>\n",
       "      <td>8563523411</td>\n",
       "      <td>NaN</td>\n",
       "      <td>NaN</td>\n",
       "    </tr>\n",
       "    <tr>\n",
       "      <th>2</th>\n",
       "      <td>3/1/2017</td>\n",
       "      <td>2362.72</td>\n",
       "      <td>47262643000</td>\n",
       "      <td>257000</td>\n",
       "      <td>533610</td>\n",
       "      <td>2.5</td>\n",
       "      <td>422891</td>\n",
       "      <td>4.4</td>\n",
       "      <td>5911.738</td>\n",
       "      <td>10998962695</td>\n",
       "      <td>NaN</td>\n",
       "      <td>NaN</td>\n",
       "    </tr>\n",
       "    <tr>\n",
       "      <th>3</th>\n",
       "      <td>4/1/2017</td>\n",
       "      <td>2384.20</td>\n",
       "      <td>37735945000</td>\n",
       "      <td>262000</td>\n",
       "      <td>516823</td>\n",
       "      <td>2.5</td>\n",
       "      <td>407165</td>\n",
       "      <td>4.4</td>\n",
       "      <td>6047.606</td>\n",
       "      <td>8302492073</td>\n",
       "      <td>NaN</td>\n",
       "      <td>NaN</td>\n",
       "    </tr>\n",
       "    <tr>\n",
       "      <th>4</th>\n",
       "      <td>5/1/2017</td>\n",
       "      <td>2411.80</td>\n",
       "      <td>44654185000</td>\n",
       "      <td>269000</td>\n",
       "      <td>630788</td>\n",
       "      <td>2.6</td>\n",
       "      <td>434450</td>\n",
       "      <td>4.4</td>\n",
       "      <td>6198.517</td>\n",
       "      <td>10239273745</td>\n",
       "      <td>NaN</td>\n",
       "      <td>NaN</td>\n",
       "    </tr>\n",
       "  </tbody>\n",
       "</table>\n",
       "</div>"
      ],
      "text/plain": [
       "       Date  S_P Close   S_P Volume  Median Sale Price  Homes Sold  \\\n",
       "0  1/1/2017    2278.87  42691599000             246000      360977   \n",
       "1  2/1/2017    2363.64  40740785000             247000      369081   \n",
       "2  3/1/2017    2362.72  47262643000             257000      533610   \n",
       "3  4/1/2017    2384.20  37735945000             262000      516823   \n",
       "4  5/1/2017    2411.80  44654185000             269000      630788   \n",
       "\n",
       "   INFLATION_EXPECTATION   SALES  UNEMPLOYMENT  NAS Value   NAS Volume  \\\n",
       "0                    2.6  368960           4.7   5614.786   8376144160   \n",
       "1                    2.7  365480           4.6   5825.438   8563523411   \n",
       "2                    2.5  422891           4.4   5911.738  10998962695   \n",
       "3                    2.5  407165           4.4   6047.606   8302492073   \n",
       "4                    2.6  434450           4.4   6198.517  10239273745   \n",
       "\n",
       "   Covid_New_Cases  Covid_Death  \n",
       "0              NaN          NaN  \n",
       "1              NaN          NaN  \n",
       "2              NaN          NaN  \n",
       "3              NaN          NaN  \n",
       "4              NaN          NaN  "
      ]
     },
     "execution_count": 2,
     "metadata": {},
     "output_type": "execute_result"
    }
   ],
   "source": [
    "working_df = pd.read_csv(Path('Resources/CSV files/FINAL_DATABASE.csv'))\n",
    "working_df.head(5)"
   ]
  },
  {
   "cell_type": "code",
   "execution_count": 3,
   "id": "39f7d967",
   "metadata": {},
   "outputs": [
    {
     "data": {
      "text/html": [
       "<div>\n",
       "<style scoped>\n",
       "    .dataframe tbody tr th:only-of-type {\n",
       "        vertical-align: middle;\n",
       "    }\n",
       "\n",
       "    .dataframe tbody tr th {\n",
       "        vertical-align: top;\n",
       "    }\n",
       "\n",
       "    .dataframe thead th {\n",
       "        text-align: right;\n",
       "    }\n",
       "</style>\n",
       "<table border=\"1\" class=\"dataframe\">\n",
       "  <thead>\n",
       "    <tr style=\"text-align: right;\">\n",
       "      <th></th>\n",
       "      <th>Date</th>\n",
       "      <th>S_P Close</th>\n",
       "      <th>S_P Volume</th>\n",
       "      <th>Median Sale Price</th>\n",
       "      <th>Homes Sold</th>\n",
       "      <th>INFLATION_EXPECTATION</th>\n",
       "      <th>SALES</th>\n",
       "      <th>UNEMPLOYMENT</th>\n",
       "      <th>NAS Value</th>\n",
       "      <th>NAS Volume</th>\n",
       "      <th>Covid_New_Cases</th>\n",
       "      <th>Covid_Death</th>\n",
       "    </tr>\n",
       "  </thead>\n",
       "  <tbody>\n",
       "    <tr>\n",
       "      <th>0</th>\n",
       "      <td>1/1/2017</td>\n",
       "      <td>2278.87</td>\n",
       "      <td>42691599000</td>\n",
       "      <td>246000</td>\n",
       "      <td>360977</td>\n",
       "      <td>2.6</td>\n",
       "      <td>368960</td>\n",
       "      <td>4.7</td>\n",
       "      <td>5614.786</td>\n",
       "      <td>8376144160</td>\n",
       "      <td>0.0</td>\n",
       "      <td>0.0</td>\n",
       "    </tr>\n",
       "    <tr>\n",
       "      <th>1</th>\n",
       "      <td>2/1/2017</td>\n",
       "      <td>2363.64</td>\n",
       "      <td>40740785000</td>\n",
       "      <td>247000</td>\n",
       "      <td>369081</td>\n",
       "      <td>2.7</td>\n",
       "      <td>365480</td>\n",
       "      <td>4.6</td>\n",
       "      <td>5825.438</td>\n",
       "      <td>8563523411</td>\n",
       "      <td>0.0</td>\n",
       "      <td>0.0</td>\n",
       "    </tr>\n",
       "    <tr>\n",
       "      <th>2</th>\n",
       "      <td>3/1/2017</td>\n",
       "      <td>2362.72</td>\n",
       "      <td>47262643000</td>\n",
       "      <td>257000</td>\n",
       "      <td>533610</td>\n",
       "      <td>2.5</td>\n",
       "      <td>422891</td>\n",
       "      <td>4.4</td>\n",
       "      <td>5911.738</td>\n",
       "      <td>10998962695</td>\n",
       "      <td>0.0</td>\n",
       "      <td>0.0</td>\n",
       "    </tr>\n",
       "    <tr>\n",
       "      <th>3</th>\n",
       "      <td>4/1/2017</td>\n",
       "      <td>2384.20</td>\n",
       "      <td>37735945000</td>\n",
       "      <td>262000</td>\n",
       "      <td>516823</td>\n",
       "      <td>2.5</td>\n",
       "      <td>407165</td>\n",
       "      <td>4.4</td>\n",
       "      <td>6047.606</td>\n",
       "      <td>8302492073</td>\n",
       "      <td>0.0</td>\n",
       "      <td>0.0</td>\n",
       "    </tr>\n",
       "    <tr>\n",
       "      <th>4</th>\n",
       "      <td>5/1/2017</td>\n",
       "      <td>2411.80</td>\n",
       "      <td>44654185000</td>\n",
       "      <td>269000</td>\n",
       "      <td>630788</td>\n",
       "      <td>2.6</td>\n",
       "      <td>434450</td>\n",
       "      <td>4.4</td>\n",
       "      <td>6198.517</td>\n",
       "      <td>10239273745</td>\n",
       "      <td>0.0</td>\n",
       "      <td>0.0</td>\n",
       "    </tr>\n",
       "  </tbody>\n",
       "</table>\n",
       "</div>"
      ],
      "text/plain": [
       "       Date  S_P Close   S_P Volume  Median Sale Price  Homes Sold  \\\n",
       "0  1/1/2017    2278.87  42691599000             246000      360977   \n",
       "1  2/1/2017    2363.64  40740785000             247000      369081   \n",
       "2  3/1/2017    2362.72  47262643000             257000      533610   \n",
       "3  4/1/2017    2384.20  37735945000             262000      516823   \n",
       "4  5/1/2017    2411.80  44654185000             269000      630788   \n",
       "\n",
       "   INFLATION_EXPECTATION   SALES  UNEMPLOYMENT  NAS Value   NAS Volume  \\\n",
       "0                    2.6  368960           4.7   5614.786   8376144160   \n",
       "1                    2.7  365480           4.6   5825.438   8563523411   \n",
       "2                    2.5  422891           4.4   5911.738  10998962695   \n",
       "3                    2.5  407165           4.4   6047.606   8302492073   \n",
       "4                    2.6  434450           4.4   6198.517  10239273745   \n",
       "\n",
       "   Covid_New_Cases  Covid_Death  \n",
       "0              0.0          0.0  \n",
       "1              0.0          0.0  \n",
       "2              0.0          0.0  \n",
       "3              0.0          0.0  \n",
       "4              0.0          0.0  "
      ]
     },
     "execution_count": 3,
     "metadata": {},
     "output_type": "execute_result"
    }
   ],
   "source": [
    "working_df['Covid_New_Cases'] = working_df['Covid_New_Cases'].replace(np.nan, 0)\n",
    "working_df['Covid_Death'] = working_df['Covid_Death'].replace(np.nan, 0)\n",
    "working_df.head()"
   ]
  },
  {
   "cell_type": "markdown",
   "id": "3915bc3d",
   "metadata": {},
   "source": [
    "### Correlation matrix for each feature"
   ]
  },
  {
   "cell_type": "code",
   "execution_count": 4,
   "id": "7c428788",
   "metadata": {},
   "outputs": [
    {
     "data": {
      "text/html": [
       "<div>\n",
       "<style scoped>\n",
       "    .dataframe tbody tr th:only-of-type {\n",
       "        vertical-align: middle;\n",
       "    }\n",
       "\n",
       "    .dataframe tbody tr th {\n",
       "        vertical-align: top;\n",
       "    }\n",
       "\n",
       "    .dataframe thead th {\n",
       "        text-align: right;\n",
       "    }\n",
       "</style>\n",
       "<table border=\"1\" class=\"dataframe\">\n",
       "  <thead>\n",
       "    <tr style=\"text-align: right;\">\n",
       "      <th></th>\n",
       "      <th>S_P Close</th>\n",
       "      <th>S_P Volume</th>\n",
       "      <th>Median Sale Price</th>\n",
       "      <th>Homes Sold</th>\n",
       "      <th>INFLATION_EXPECTATION</th>\n",
       "      <th>SALES</th>\n",
       "      <th>UNEMPLOYMENT</th>\n",
       "      <th>NAS Value</th>\n",
       "      <th>NAS Volume</th>\n",
       "      <th>Covid_New_Cases</th>\n",
       "      <th>Covid_Death</th>\n",
       "    </tr>\n",
       "  </thead>\n",
       "  <tbody>\n",
       "    <tr>\n",
       "      <th>S_P Close</th>\n",
       "      <td>1.000000</td>\n",
       "      <td>0.029320</td>\n",
       "      <td>0.968992</td>\n",
       "      <td>0.281105</td>\n",
       "      <td>0.856495</td>\n",
       "      <td>0.844706</td>\n",
       "      <td>0.151783</td>\n",
       "      <td>0.986184</td>\n",
       "      <td>0.703428</td>\n",
       "      <td>0.605910</td>\n",
       "      <td>0.672633</td>\n",
       "    </tr>\n",
       "    <tr>\n",
       "      <th>S_P Volume</th>\n",
       "      <td>0.029320</td>\n",
       "      <td>1.000000</td>\n",
       "      <td>0.136782</td>\n",
       "      <td>-0.085583</td>\n",
       "      <td>-0.054061</td>\n",
       "      <td>0.026123</td>\n",
       "      <td>0.521131</td>\n",
       "      <td>0.111533</td>\n",
       "      <td>0.592586</td>\n",
       "      <td>0.160069</td>\n",
       "      <td>0.299465</td>\n",
       "    </tr>\n",
       "    <tr>\n",
       "      <th>Median Sale Price</th>\n",
       "      <td>0.968992</td>\n",
       "      <td>0.136782</td>\n",
       "      <td>1.000000</td>\n",
       "      <td>0.406611</td>\n",
       "      <td>0.841674</td>\n",
       "      <td>0.855680</td>\n",
       "      <td>0.217361</td>\n",
       "      <td>0.971922</td>\n",
       "      <td>0.747119</td>\n",
       "      <td>0.567067</td>\n",
       "      <td>0.656645</td>\n",
       "    </tr>\n",
       "    <tr>\n",
       "      <th>Homes Sold</th>\n",
       "      <td>0.281105</td>\n",
       "      <td>-0.085583</td>\n",
       "      <td>0.406611</td>\n",
       "      <td>1.000000</td>\n",
       "      <td>0.241420</td>\n",
       "      <td>0.538810</td>\n",
       "      <td>0.108287</td>\n",
       "      <td>0.315432</td>\n",
       "      <td>0.212076</td>\n",
       "      <td>-0.036085</td>\n",
       "      <td>0.009618</td>\n",
       "    </tr>\n",
       "    <tr>\n",
       "      <th>INFLATION_EXPECTATION</th>\n",
       "      <td>0.856495</td>\n",
       "      <td>-0.054061</td>\n",
       "      <td>0.841674</td>\n",
       "      <td>0.241420</td>\n",
       "      <td>1.000000</td>\n",
       "      <td>0.727047</td>\n",
       "      <td>-0.004432</td>\n",
       "      <td>0.811962</td>\n",
       "      <td>0.470486</td>\n",
       "      <td>0.548722</td>\n",
       "      <td>0.481307</td>\n",
       "    </tr>\n",
       "    <tr>\n",
       "      <th>SALES</th>\n",
       "      <td>0.844706</td>\n",
       "      <td>0.026123</td>\n",
       "      <td>0.855680</td>\n",
       "      <td>0.538810</td>\n",
       "      <td>0.727047</td>\n",
       "      <td>1.000000</td>\n",
       "      <td>0.083690</td>\n",
       "      <td>0.834314</td>\n",
       "      <td>0.612879</td>\n",
       "      <td>0.435129</td>\n",
       "      <td>0.460519</td>\n",
       "    </tr>\n",
       "    <tr>\n",
       "      <th>UNEMPLOYMENT</th>\n",
       "      <td>0.151783</td>\n",
       "      <td>0.521131</td>\n",
       "      <td>0.217361</td>\n",
       "      <td>0.108287</td>\n",
       "      <td>-0.004432</td>\n",
       "      <td>0.083690</td>\n",
       "      <td>1.000000</td>\n",
       "      <td>0.260097</td>\n",
       "      <td>0.500840</td>\n",
       "      <td>0.093783</td>\n",
       "      <td>0.494995</td>\n",
       "    </tr>\n",
       "    <tr>\n",
       "      <th>NAS Value</th>\n",
       "      <td>0.986184</td>\n",
       "      <td>0.111533</td>\n",
       "      <td>0.971922</td>\n",
       "      <td>0.315432</td>\n",
       "      <td>0.811962</td>\n",
       "      <td>0.834314</td>\n",
       "      <td>0.260097</td>\n",
       "      <td>1.000000</td>\n",
       "      <td>0.781757</td>\n",
       "      <td>0.592637</td>\n",
       "      <td>0.733128</td>\n",
       "    </tr>\n",
       "    <tr>\n",
       "      <th>NAS Volume</th>\n",
       "      <td>0.703428</td>\n",
       "      <td>0.592586</td>\n",
       "      <td>0.747119</td>\n",
       "      <td>0.212076</td>\n",
       "      <td>0.470486</td>\n",
       "      <td>0.612879</td>\n",
       "      <td>0.500840</td>\n",
       "      <td>0.781757</td>\n",
       "      <td>1.000000</td>\n",
       "      <td>0.484848</td>\n",
       "      <td>0.763211</td>\n",
       "    </tr>\n",
       "    <tr>\n",
       "      <th>Covid_New_Cases</th>\n",
       "      <td>0.605910</td>\n",
       "      <td>0.160069</td>\n",
       "      <td>0.567067</td>\n",
       "      <td>-0.036085</td>\n",
       "      <td>0.548722</td>\n",
       "      <td>0.435129</td>\n",
       "      <td>0.093783</td>\n",
       "      <td>0.592637</td>\n",
       "      <td>0.484848</td>\n",
       "      <td>1.000000</td>\n",
       "      <td>0.693726</td>\n",
       "    </tr>\n",
       "    <tr>\n",
       "      <th>Covid_Death</th>\n",
       "      <td>0.672633</td>\n",
       "      <td>0.299465</td>\n",
       "      <td>0.656645</td>\n",
       "      <td>0.009618</td>\n",
       "      <td>0.481307</td>\n",
       "      <td>0.460519</td>\n",
       "      <td>0.494995</td>\n",
       "      <td>0.733128</td>\n",
       "      <td>0.763211</td>\n",
       "      <td>0.693726</td>\n",
       "      <td>1.000000</td>\n",
       "    </tr>\n",
       "  </tbody>\n",
       "</table>\n",
       "</div>"
      ],
      "text/plain": [
       "                       S_P Close  S_P Volume  Median Sale Price  Homes Sold  \\\n",
       "S_P Close               1.000000    0.029320           0.968992    0.281105   \n",
       "S_P Volume              0.029320    1.000000           0.136782   -0.085583   \n",
       "Median Sale Price       0.968992    0.136782           1.000000    0.406611   \n",
       "Homes Sold              0.281105   -0.085583           0.406611    1.000000   \n",
       "INFLATION_EXPECTATION   0.856495   -0.054061           0.841674    0.241420   \n",
       "SALES                   0.844706    0.026123           0.855680    0.538810   \n",
       "UNEMPLOYMENT            0.151783    0.521131           0.217361    0.108287   \n",
       "NAS Value               0.986184    0.111533           0.971922    0.315432   \n",
       "NAS Volume              0.703428    0.592586           0.747119    0.212076   \n",
       "Covid_New_Cases         0.605910    0.160069           0.567067   -0.036085   \n",
       "Covid_Death             0.672633    0.299465           0.656645    0.009618   \n",
       "\n",
       "                       INFLATION_EXPECTATION     SALES  UNEMPLOYMENT  \\\n",
       "S_P Close                           0.856495  0.844706      0.151783   \n",
       "S_P Volume                         -0.054061  0.026123      0.521131   \n",
       "Median Sale Price                   0.841674  0.855680      0.217361   \n",
       "Homes Sold                          0.241420  0.538810      0.108287   \n",
       "INFLATION_EXPECTATION               1.000000  0.727047     -0.004432   \n",
       "SALES                               0.727047  1.000000      0.083690   \n",
       "UNEMPLOYMENT                       -0.004432  0.083690      1.000000   \n",
       "NAS Value                           0.811962  0.834314      0.260097   \n",
       "NAS Volume                          0.470486  0.612879      0.500840   \n",
       "Covid_New_Cases                     0.548722  0.435129      0.093783   \n",
       "Covid_Death                         0.481307  0.460519      0.494995   \n",
       "\n",
       "                       NAS Value  NAS Volume  Covid_New_Cases  Covid_Death  \n",
       "S_P Close               0.986184    0.703428         0.605910     0.672633  \n",
       "S_P Volume              0.111533    0.592586         0.160069     0.299465  \n",
       "Median Sale Price       0.971922    0.747119         0.567067     0.656645  \n",
       "Homes Sold              0.315432    0.212076        -0.036085     0.009618  \n",
       "INFLATION_EXPECTATION   0.811962    0.470486         0.548722     0.481307  \n",
       "SALES                   0.834314    0.612879         0.435129     0.460519  \n",
       "UNEMPLOYMENT            0.260097    0.500840         0.093783     0.494995  \n",
       "NAS Value               1.000000    0.781757         0.592637     0.733128  \n",
       "NAS Volume              0.781757    1.000000         0.484848     0.763211  \n",
       "Covid_New_Cases         0.592637    0.484848         1.000000     0.693726  \n",
       "Covid_Death             0.733128    0.763211         0.693726     1.000000  "
      ]
     },
     "execution_count": 4,
     "metadata": {},
     "output_type": "execute_result"
    }
   ],
   "source": [
    "corr_matrix = working_df.corr()\n",
    "corr_matrix"
   ]
  },
  {
   "cell_type": "markdown",
   "id": "283138a4",
   "metadata": {},
   "source": [
    "## Split, scale, train & test"
   ]
  },
  {
   "cell_type": "code",
   "execution_count": 5,
   "id": "182edb6f",
   "metadata": {},
   "outputs": [],
   "source": [
    "# Split our preprocessed data into our features and target arrays\n",
    "y = working_df.UNEMPLOYMENT\n",
    "X = working_df.drop(columns=[\"Date\",\"UNEMPLOYMENT\"])"
   ]
  },
  {
   "cell_type": "code",
   "execution_count": 6,
   "id": "cfbf1525",
   "metadata": {},
   "outputs": [
    {
     "data": {
      "text/plain": [
       "16"
      ]
     },
     "execution_count": 6,
     "metadata": {},
     "output_type": "execute_result"
    }
   ],
   "source": [
    "X_train,X_test,y_train,y_test=train_test_split(X,y,random_state=42)\n",
    "len(X_test)\n"
   ]
  },
  {
   "cell_type": "code",
   "execution_count": 7,
   "id": "3fd1720e",
   "metadata": {},
   "outputs": [
    {
     "data": {
      "text/plain": [
       "16"
      ]
     },
     "execution_count": 7,
     "metadata": {},
     "output_type": "execute_result"
    }
   ],
   "source": [
    "lr_test = y_test\n",
    "len(y_test)"
   ]
  },
  {
   "cell_type": "code",
   "execution_count": 8,
   "id": "f3284ddc",
   "metadata": {},
   "outputs": [],
   "source": [
    "# Create a StandardScaler instances\n",
    "scaler = StandardScaler()\n",
    "\n",
    "# Fit the StandardScaler\n",
    "X_scaler = scaler.fit(X_train)\n",
    "\n",
    "# Scale the data\n",
    "X_train_scaled = X_scaler.transform(X_train)\n",
    "X_test_scaled = X_scaler.transform(X_test)"
   ]
  },
  {
   "cell_type": "code",
   "execution_count": 9,
   "id": "59f4dabf",
   "metadata": {},
   "outputs": [
    {
     "data": {
      "text/plain": [
       "LinearRegression()"
      ]
     },
     "execution_count": 9,
     "metadata": {},
     "output_type": "execute_result"
    }
   ],
   "source": [
    "lr = LinearRegression()\n",
    "lr.fit(X_train_scaled, y_train)"
   ]
  },
  {
   "cell_type": "code",
   "execution_count": 10,
   "id": "8b0f085b",
   "metadata": {},
   "outputs": [
    {
     "data": {
      "text/plain": [
       "array([ 7.47001995,  7.90333541,  3.84037407,  8.15426184,  4.82387318,\n",
       "       13.50302494,  4.82860708,  4.10677316,  2.98940406,  6.71223062,\n",
       "        3.60178448,  4.51039485, 12.81126559,  4.16142036,  3.61943084,\n",
       "        3.05337007])"
      ]
     },
     "execution_count": 10,
     "metadata": {},
     "output_type": "execute_result"
    }
   ],
   "source": [
    "# Predicting the linear regression test set results\n",
    "y_pred = lr.predict(X_test_scaled)\n",
    "lr_pred = y_pred\n",
    "lr_pred"
   ]
  },
  {
   "cell_type": "code",
   "execution_count": 11,
   "id": "c9eccb9d",
   "metadata": {},
   "outputs": [
    {
     "name": "stdout",
     "output_type": "stream",
     "text": [
      "linear regression r2 score is -7.29995289807103\n",
      "mean_squared_error is == 7.744569331102451\n",
      "root_mean_squared error is == 2.782906633558239\n"
     ]
    }
   ],
   "source": [
    "# predicting the accuracy score\n",
    "lr_score=r2_score(y_test,y_pred)\n",
    "print('linear regression r2 score is', lr_score)\n",
    "print(\"mean_squared_error is ==\",mean_squared_error(y_test, y_pred))\n",
    "print(\"root_mean_squared error is ==\",np.sqrt(mean_squared_error(y_test, y_pred)))"
   ]
  },
  {
   "cell_type": "code",
   "execution_count": 12,
   "id": "dff25d32",
   "metadata": {},
   "outputs": [],
   "source": [
    "rr = Ridge(alpha=1) "
   ]
  },
  {
   "cell_type": "code",
   "execution_count": 13,
   "id": "8ae400cc",
   "metadata": {},
   "outputs": [],
   "source": [
    "# higher the alpha value, more restriction on the coefficients; low alpha > more generalization,\n",
    "# in this case linear and ridge regression resembles"
   ]
  },
  {
   "cell_type": "code",
   "execution_count": 14,
   "id": "25c4b407",
   "metadata": {},
   "outputs": [
    {
     "data": {
      "text/plain": [
       "Ridge(alpha=1)"
      ]
     },
     "execution_count": 14,
     "metadata": {},
     "output_type": "execute_result"
    }
   ],
   "source": [
    "rr.fit(X_train_scaled, y_train)"
   ]
  },
  {
   "cell_type": "code",
   "execution_count": 15,
   "id": "3dabd407",
   "metadata": {},
   "outputs": [
    {
     "data": {
      "text/plain": [
       "array([ 8.06017574,  7.79568551,  3.34895464,  7.4838792 ,  5.32522244,\n",
       "       13.01326706,  4.73406148,  3.64526014,  2.95042823,  6.54270333,\n",
       "        4.14861641,  4.36967829, 12.28405319,  3.7278541 ,  3.95988029,\n",
       "        3.31498742])"
      ]
     },
     "execution_count": 15,
     "metadata": {},
     "output_type": "execute_result"
    }
   ],
   "source": [
    "# Predicting the ridge regression test set results\n",
    "y_pred = rr.predict(X_test_scaled)\n",
    "rr_pred = y_pred\n",
    "rr_pred"
   ]
  },
  {
   "cell_type": "code",
   "execution_count": 16,
   "id": "e4691c3e",
   "metadata": {},
   "outputs": [
    {
     "name": "stdout",
     "output_type": "stream",
     "text": [
      "Ridge r2 score is -6.315842645319964\n",
      "mean_squared_error is == 6.82630989331086\n",
      "root_mean_squared error is == 2.612720783648888\n"
     ]
    }
   ],
   "source": [
    "# predicting the accuracy score\n",
    "rr_score=r2_score(y_test,y_pred)\n",
    "print('Ridge r2 score is', rr_score)\n",
    "print(\"mean_squared_error is ==\",mean_squared_error(y_test, y_pred))\n",
    "print(\"root_mean_squared error is ==\",np.sqrt(mean_squared_error(y_test, y_pred)))"
   ]
  },
  {
   "cell_type": "code",
   "execution_count": 17,
   "id": "021e6f67",
   "metadata": {},
   "outputs": [
    {
     "data": {
      "text/plain": [
       "Ridge(alpha=100)"
      ]
     },
     "execution_count": 17,
     "metadata": {},
     "output_type": "execute_result"
    }
   ],
   "source": [
    "rr100 = Ridge(alpha=100) #  comparison with alpha value\n",
    "rr100.fit(X_train_scaled, y_train)"
   ]
  },
  {
   "cell_type": "code",
   "execution_count": 18,
   "id": "00910a66",
   "metadata": {},
   "outputs": [
    {
     "data": {
      "text/plain": [
       "array([6.84696335, 6.10165793, 4.30510391, 5.85620432, 5.00549285,\n",
       "       7.51052807, 4.71424963, 4.58273269, 4.47455054, 6.05640593,\n",
       "       4.64311088, 4.58589431, 7.05528012, 4.70187858, 4.65130709,\n",
       "       4.44236899])"
      ]
     },
     "execution_count": 18,
     "metadata": {},
     "output_type": "execute_result"
    }
   ],
   "source": [
    "# Predicting the ridge 100 test set results\n",
    "y_pred = rr100.predict(X_test_scaled)\n",
    "rr100_pred = y_pred\n",
    "rr100_pred"
   ]
  },
  {
   "cell_type": "code",
   "execution_count": 19,
   "id": "3c31fa86",
   "metadata": {},
   "outputs": [
    {
     "name": "stdout",
     "output_type": "stream",
     "text": [
      "Ridge100 r2 score is -0.0562530592601056\n",
      "mean_squared_error is == 0.9855748760369589\n",
      "root_mean_squared error is == 0.9927612381821517\n"
     ]
    }
   ],
   "source": [
    "# predicting the accuracy score\n",
    "rr100_score=r2_score(y_test,y_pred)\n",
    "print('Ridge100 r2 score is', rr100_score)\n",
    "print(\"mean_squared_error is ==\",mean_squared_error(y_test, y_pred))\n",
    "print(\"root_mean_squared error is ==\",np.sqrt(mean_squared_error(y_test, y_pred)))"
   ]
  },
  {
   "cell_type": "code",
   "execution_count": 20,
   "id": "047a0ec8",
   "metadata": {},
   "outputs": [],
   "source": [
    "train_score=lr.score(X_train_scaled, y_train)\n",
    "test_score=lr.score(X_test_scaled, y_test)\n",
    "# score=r2_score(y_test,y_pred)"
   ]
  },
  {
   "cell_type": "code",
   "execution_count": 21,
   "id": "46c5cfcc",
   "metadata": {},
   "outputs": [
    {
     "name": "stdout",
     "output_type": "stream",
     "text": [
      "train score is 0.7179951292992881\n",
      "test score is -7.29995289807103\n"
     ]
    }
   ],
   "source": [
    "print('train score is', train_score)\n",
    "print('test score is', test_score)\n"
   ]
  },
  {
   "cell_type": "code",
   "execution_count": 22,
   "id": "bfd16a56",
   "metadata": {},
   "outputs": [],
   "source": [
    "Ridge_train_score = rr.score(X_train_scaled,y_train)\n",
    "Ridge_test_score = rr.score(X_test_scaled, y_test)"
   ]
  },
  {
   "cell_type": "code",
   "execution_count": 23,
   "id": "4878ca2a",
   "metadata": {},
   "outputs": [
    {
     "name": "stdout",
     "output_type": "stream",
     "text": [
      "Ridge train score is 0.695596605498382\n",
      "Ridge test score is -6.315842645319964\n"
     ]
    }
   ],
   "source": [
    "print('Ridge train score is', Ridge_train_score)\n",
    "print('Ridge test score is', Ridge_test_score)\n"
   ]
  },
  {
   "cell_type": "code",
   "execution_count": 24,
   "id": "aef9789b",
   "metadata": {},
   "outputs": [],
   "source": [
    "Ridge_train_score100 = rr100.score(X_train_scaled,y_train)\n",
    "Ridge_test_score100 = rr100.score(X_test_scaled, y_test)"
   ]
  },
  {
   "cell_type": "code",
   "execution_count": 25,
   "id": "f4571f03",
   "metadata": {},
   "outputs": [
    {
     "name": "stdout",
     "output_type": "stream",
     "text": [
      "Ridge_train_score100 is 0.34219119752413274\n",
      "Ridge_test_score100 -0.0562530592601056\n"
     ]
    }
   ],
   "source": [
    "print('Ridge_train_score100 is', Ridge_train_score100)\n",
    "print('Ridge_test_score100', Ridge_test_score100)\n"
   ]
  },
  {
   "cell_type": "code",
   "execution_count": 26,
   "id": "86d845b6",
   "metadata": {},
   "outputs": [
    {
     "data": {
      "image/png": "[encoded data removed]",
      "text/plain": [
       "<Figure size 432x288 with 1 Axes>"
      ]
     },
     "metadata": {
      "needs_background": "light"
     },
     "output_type": "display_data"
    }
   ],
   "source": [
    "plt.plot(rr.coef_,alpha=0.7,linestyle='none',marker='*',markersize=5,color='red',label=r'Ridge; $\\alpha = 0.01$',zorder=7)\n",
    "plt.plot(rr100.coef_,alpha=0.5,linestyle='none',marker='d',markersize=6,color='blue',label=r'Ridge; $\\alpha = 100$') \n",
    "plt.plot(lr.coef_,alpha=0.4,linestyle='none',marker='o',markersize=7,color='green',label='Linear Regression')\n",
    "plt.xlabel('Coefficient Index',fontsize=16)\n",
    "plt.ylabel('Coefficient Magnitude',fontsize=16)\n",
    "plt.legend(fontsize=13,loc=4)\n",
    "plt.show()"
   ]
  },
  {
   "cell_type": "code",
   "execution_count": 27,
   "id": "4405c991",
   "metadata": {},
   "outputs": [
    {
     "data": {
      "image/png": "[encoded data removed]",
      "text/plain": [
       "<Figure size 432x288 with 1 Axes>"
      ]
     },
     "metadata": {
      "needs_background": "light"
     },
     "output_type": "display_data"
    }
   ],
   "source": [
    "plt.plot(rr100.coef_,alpha=0.5,linestyle='none',marker='d',markersize=6,color='blue',label=r'Ridge; $\\alpha = 100$') \n",
    "plt.plot(lr.coef_,alpha=0.4,linestyle='none',marker='o',markersize=7,color='green',label='Linear Regression')\n",
    "plt.xlabel('Coefficient Index',fontsize=16)\n",
    "plt.ylabel('Coefficient Magnitude',fontsize=16)\n",
    "plt.legend(fontsize=13,loc=4)\n",
    "plt.show()"
   ]
  },
  {
   "cell_type": "markdown",
   "id": "d205d347",
   "metadata": {},
   "source": [
    "### Lasso"
   ]
  },
  {
   "cell_type": "code",
   "execution_count": 28,
   "id": "7bcb5d3b",
   "metadata": {},
   "outputs": [],
   "source": [
    "# difference of lasso and ridge regression is that some of the coefficients can be zero i.e. some of the features are \n",
    "# completely neglected"
   ]
  },
  {
   "cell_type": "code",
   "execution_count": 29,
   "id": "a8ab47cc",
   "metadata": {},
   "outputs": [],
   "source": [
    "from sklearn.linear_model import Lasso\n",
    "from sklearn.linear_model import LinearRegression\n",
    "from sklearn.model_selection import train_test_split"
   ]
  },
  {
   "cell_type": "code",
   "execution_count": 30,
   "id": "e2a69795",
   "metadata": {},
   "outputs": [
    {
     "data": {
      "text/html": [
       "<div>\n",
       "<style scoped>\n",
       "    .dataframe tbody tr th:only-of-type {\n",
       "        vertical-align: middle;\n",
       "    }\n",
       "\n",
       "    .dataframe tbody tr th {\n",
       "        vertical-align: top;\n",
       "    }\n",
       "\n",
       "    .dataframe thead th {\n",
       "        text-align: right;\n",
       "    }\n",
       "</style>\n",
       "<table border=\"1\" class=\"dataframe\">\n",
       "  <thead>\n",
       "    <tr style=\"text-align: right;\">\n",
       "      <th></th>\n",
       "      <th>Date</th>\n",
       "      <th>S_P Close</th>\n",
       "      <th>S_P Volume</th>\n",
       "      <th>Median Sale Price</th>\n",
       "      <th>Homes Sold</th>\n",
       "      <th>INFLATION_EXPECTATION</th>\n",
       "      <th>SALES</th>\n",
       "      <th>UNEMPLOYMENT</th>\n",
       "      <th>NAS Value</th>\n",
       "      <th>NAS Volume</th>\n",
       "      <th>Covid_New_Cases</th>\n",
       "      <th>Covid_Death</th>\n",
       "    </tr>\n",
       "  </thead>\n",
       "  <tbody>\n",
       "    <tr>\n",
       "      <th>0</th>\n",
       "      <td>1/1/2017</td>\n",
       "      <td>2278.87</td>\n",
       "      <td>42691599000</td>\n",
       "      <td>246000</td>\n",
       "      <td>360977</td>\n",
       "      <td>2.6</td>\n",
       "      <td>368960</td>\n",
       "      <td>4.7</td>\n",
       "      <td>5614.786</td>\n",
       "      <td>8376144160</td>\n",
       "      <td>NaN</td>\n",
       "      <td>NaN</td>\n",
       "    </tr>\n",
       "    <tr>\n",
       "      <th>1</th>\n",
       "      <td>2/1/2017</td>\n",
       "      <td>2363.64</td>\n",
       "      <td>40740785000</td>\n",
       "      <td>247000</td>\n",
       "      <td>369081</td>\n",
       "      <td>2.7</td>\n",
       "      <td>365480</td>\n",
       "      <td>4.6</td>\n",
       "      <td>5825.438</td>\n",
       "      <td>8563523411</td>\n",
       "      <td>NaN</td>\n",
       "      <td>NaN</td>\n",
       "    </tr>\n",
       "    <tr>\n",
       "      <th>2</th>\n",
       "      <td>3/1/2017</td>\n",
       "      <td>2362.72</td>\n",
       "      <td>47262643000</td>\n",
       "      <td>257000</td>\n",
       "      <td>533610</td>\n",
       "      <td>2.5</td>\n",
       "      <td>422891</td>\n",
       "      <td>4.4</td>\n",
       "      <td>5911.738</td>\n",
       "      <td>10998962695</td>\n",
       "      <td>NaN</td>\n",
       "      <td>NaN</td>\n",
       "    </tr>\n",
       "    <tr>\n",
       "      <th>3</th>\n",
       "      <td>4/1/2017</td>\n",
       "      <td>2384.20</td>\n",
       "      <td>37735945000</td>\n",
       "      <td>262000</td>\n",
       "      <td>516823</td>\n",
       "      <td>2.5</td>\n",
       "      <td>407165</td>\n",
       "      <td>4.4</td>\n",
       "      <td>6047.606</td>\n",
       "      <td>8302492073</td>\n",
       "      <td>NaN</td>\n",
       "      <td>NaN</td>\n",
       "    </tr>\n",
       "    <tr>\n",
       "      <th>4</th>\n",
       "      <td>5/1/2017</td>\n",
       "      <td>2411.80</td>\n",
       "      <td>44654185000</td>\n",
       "      <td>269000</td>\n",
       "      <td>630788</td>\n",
       "      <td>2.6</td>\n",
       "      <td>434450</td>\n",
       "      <td>4.4</td>\n",
       "      <td>6198.517</td>\n",
       "      <td>10239273745</td>\n",
       "      <td>NaN</td>\n",
       "      <td>NaN</td>\n",
       "    </tr>\n",
       "  </tbody>\n",
       "</table>\n",
       "</div>"
      ],
      "text/plain": [
       "       Date  S_P Close   S_P Volume  Median Sale Price  Homes Sold  \\\n",
       "0  1/1/2017    2278.87  42691599000             246000      360977   \n",
       "1  2/1/2017    2363.64  40740785000             247000      369081   \n",
       "2  3/1/2017    2362.72  47262643000             257000      533610   \n",
       "3  4/1/2017    2384.20  37735945000             262000      516823   \n",
       "4  5/1/2017    2411.80  44654185000             269000      630788   \n",
       "\n",
       "   INFLATION_EXPECTATION   SALES  UNEMPLOYMENT  NAS Value   NAS Volume  \\\n",
       "0                    2.6  368960           4.7   5614.786   8376144160   \n",
       "1                    2.7  365480           4.6   5825.438   8563523411   \n",
       "2                    2.5  422891           4.4   5911.738  10998962695   \n",
       "3                    2.5  407165           4.4   6047.606   8302492073   \n",
       "4                    2.6  434450           4.4   6198.517  10239273745   \n",
       "\n",
       "   Covid_New_Cases  Covid_Death  \n",
       "0              NaN          NaN  \n",
       "1              NaN          NaN  \n",
       "2              NaN          NaN  \n",
       "3              NaN          NaN  \n",
       "4              NaN          NaN  "
      ]
     },
     "execution_count": 30,
     "metadata": {},
     "output_type": "execute_result"
    }
   ],
   "source": [
    "working_df = pd.read_csv(Path('Resources/CSV files/FINAL_DATABASE.csv'))\n",
    "working_df.head(5)"
   ]
  },
  {
   "cell_type": "code",
   "execution_count": 31,
   "id": "db634b5c",
   "metadata": {},
   "outputs": [
    {
     "data": {
      "text/html": [
       "<div>\n",
       "<style scoped>\n",
       "    .dataframe tbody tr th:only-of-type {\n",
       "        vertical-align: middle;\n",
       "    }\n",
       "\n",
       "    .dataframe tbody tr th {\n",
       "        vertical-align: top;\n",
       "    }\n",
       "\n",
       "    .dataframe thead th {\n",
       "        text-align: right;\n",
       "    }\n",
       "</style>\n",
       "<table border=\"1\" class=\"dataframe\">\n",
       "  <thead>\n",
       "    <tr style=\"text-align: right;\">\n",
       "      <th></th>\n",
       "      <th>Date</th>\n",
       "      <th>S_P Close</th>\n",
       "      <th>S_P Volume</th>\n",
       "      <th>Median Sale Price</th>\n",
       "      <th>Homes Sold</th>\n",
       "      <th>INFLATION_EXPECTATION</th>\n",
       "      <th>SALES</th>\n",
       "      <th>UNEMPLOYMENT</th>\n",
       "      <th>NAS Value</th>\n",
       "      <th>NAS Volume</th>\n",
       "      <th>Covid_New_Cases</th>\n",
       "      <th>Covid_Death</th>\n",
       "    </tr>\n",
       "  </thead>\n",
       "  <tbody>\n",
       "    <tr>\n",
       "      <th>0</th>\n",
       "      <td>1/1/2017</td>\n",
       "      <td>2278.87</td>\n",
       "      <td>42691599000</td>\n",
       "      <td>246000</td>\n",
       "      <td>360977</td>\n",
       "      <td>2.6</td>\n",
       "      <td>368960</td>\n",
       "      <td>4.7</td>\n",
       "      <td>5614.786</td>\n",
       "      <td>8376144160</td>\n",
       "      <td>0.0</td>\n",
       "      <td>0.0</td>\n",
       "    </tr>\n",
       "    <tr>\n",
       "      <th>1</th>\n",
       "      <td>2/1/2017</td>\n",
       "      <td>2363.64</td>\n",
       "      <td>40740785000</td>\n",
       "      <td>247000</td>\n",
       "      <td>369081</td>\n",
       "      <td>2.7</td>\n",
       "      <td>365480</td>\n",
       "      <td>4.6</td>\n",
       "      <td>5825.438</td>\n",
       "      <td>8563523411</td>\n",
       "      <td>0.0</td>\n",
       "      <td>0.0</td>\n",
       "    </tr>\n",
       "    <tr>\n",
       "      <th>2</th>\n",
       "      <td>3/1/2017</td>\n",
       "      <td>2362.72</td>\n",
       "      <td>47262643000</td>\n",
       "      <td>257000</td>\n",
       "      <td>533610</td>\n",
       "      <td>2.5</td>\n",
       "      <td>422891</td>\n",
       "      <td>4.4</td>\n",
       "      <td>5911.738</td>\n",
       "      <td>10998962695</td>\n",
       "      <td>0.0</td>\n",
       "      <td>0.0</td>\n",
       "    </tr>\n",
       "    <tr>\n",
       "      <th>3</th>\n",
       "      <td>4/1/2017</td>\n",
       "      <td>2384.20</td>\n",
       "      <td>37735945000</td>\n",
       "      <td>262000</td>\n",
       "      <td>516823</td>\n",
       "      <td>2.5</td>\n",
       "      <td>407165</td>\n",
       "      <td>4.4</td>\n",
       "      <td>6047.606</td>\n",
       "      <td>8302492073</td>\n",
       "      <td>0.0</td>\n",
       "      <td>0.0</td>\n",
       "    </tr>\n",
       "    <tr>\n",
       "      <th>4</th>\n",
       "      <td>5/1/2017</td>\n",
       "      <td>2411.80</td>\n",
       "      <td>44654185000</td>\n",
       "      <td>269000</td>\n",
       "      <td>630788</td>\n",
       "      <td>2.6</td>\n",
       "      <td>434450</td>\n",
       "      <td>4.4</td>\n",
       "      <td>6198.517</td>\n",
       "      <td>10239273745</td>\n",
       "      <td>0.0</td>\n",
       "      <td>0.0</td>\n",
       "    </tr>\n",
       "  </tbody>\n",
       "</table>\n",
       "</div>"
      ],
      "text/plain": [
       "       Date  S_P Close   S_P Volume  Median Sale Price  Homes Sold  \\\n",
       "0  1/1/2017    2278.87  42691599000             246000      360977   \n",
       "1  2/1/2017    2363.64  40740785000             247000      369081   \n",
       "2  3/1/2017    2362.72  47262643000             257000      533610   \n",
       "3  4/1/2017    2384.20  37735945000             262000      516823   \n",
       "4  5/1/2017    2411.80  44654185000             269000      630788   \n",
       "\n",
       "   INFLATION_EXPECTATION   SALES  UNEMPLOYMENT  NAS Value   NAS Volume  \\\n",
       "0                    2.6  368960           4.7   5614.786   8376144160   \n",
       "1                    2.7  365480           4.6   5825.438   8563523411   \n",
       "2                    2.5  422891           4.4   5911.738  10998962695   \n",
       "3                    2.5  407165           4.4   6047.606   8302492073   \n",
       "4                    2.6  434450           4.4   6198.517  10239273745   \n",
       "\n",
       "   Covid_New_Cases  Covid_Death  \n",
       "0              0.0          0.0  \n",
       "1              0.0          0.0  \n",
       "2              0.0          0.0  \n",
       "3              0.0          0.0  \n",
       "4              0.0          0.0  "
      ]
     },
     "execution_count": 31,
     "metadata": {},
     "output_type": "execute_result"
    }
   ],
   "source": [
    "working_df['Covid_New_Cases'] = working_df['Covid_New_Cases'].replace(np.nan, 0)\n",
    "working_df['Covid_Death'] = working_df['Covid_Death'].replace(np.nan, 0)\n",
    "working_df.head()"
   ]
  },
  {
   "cell_type": "code",
   "execution_count": 32,
   "id": "2687baa7",
   "metadata": {},
   "outputs": [],
   "source": [
    "# Split our preprocessed data into our features and target arrays\n",
    "y = working_df.UNEMPLOYMENT\n",
    "X = working_df.drop(columns=[\"Date\",\"UNEMPLOYMENT\"])"
   ]
  },
  {
   "cell_type": "code",
   "execution_count": 33,
   "id": "d01b7a6a",
   "metadata": {},
   "outputs": [],
   "source": [
    "X_train,X_test,y_train,y_test=train_test_split(X,y, random_state=42)"
   ]
  },
  {
   "cell_type": "code",
   "execution_count": 34,
   "id": "e22d803f",
   "metadata": {},
   "outputs": [],
   "source": [
    "# Create a StandardScaler instances\n",
    "scaler = StandardScaler()\n",
    "\n",
    "# Fit the StandardScaler\n",
    "X_scaler = scaler.fit(X_train)\n",
    "\n",
    "# Scale the data\n",
    "X_train_scaled = X_scaler.transform(X_train)\n",
    "X_test_scaled = X_scaler.transform(X_test)"
   ]
  },
  {
   "cell_type": "code",
   "execution_count": 35,
   "id": "85879f48",
   "metadata": {},
   "outputs": [],
   "source": [
    "lasso = Lasso()\n",
    "lasso.fit(X_train_scaled,y_train)\n",
    "train_score=lasso.score(X_train_scaled,y_train)\n",
    "test_score=lasso.score(X_test_scaled,y_test)\n",
    "coeff_used = np.sum(lasso.coef_!=0)"
   ]
  },
  {
   "cell_type": "code",
   "execution_count": 36,
   "id": "617c84a8",
   "metadata": {},
   "outputs": [
    {
     "name": "stdout",
     "output_type": "stream",
     "text": [
      "training score: 0.2070408665473248\n",
      "test score:  -0.14795721624342395\n",
      "number of features used:  2\n"
     ]
    }
   ],
   "source": [
    "print(\"training score:\", train_score) \n",
    "print(\"test score: \", test_score)\n",
    "print(\"number of features used: \", coeff_used)"
   ]
  },
  {
   "cell_type": "code",
   "execution_count": 37,
   "id": "e4932575",
   "metadata": {},
   "outputs": [],
   "source": [
    "# The coefficient of determination R2 is defined as (1-u/v), where  is the residual sum of squares ((y_true - y_pred)** 2).sum() and  \n",
    "# is the total sum of squares ((y_true - y_true.mean()) ** 2).sum()\n",
    "# The best possible score is 1.0 and it can be negative (because the model can be arbitrarily worse). \n",
    "# A constant model that always predicts the expected value of y, disregarding the input features, would get a  score of 0.0."
   ]
  },
  {
   "cell_type": "code",
   "execution_count": 38,
   "id": "6a99f868",
   "metadata": {},
   "outputs": [
    {
     "data": {
      "text/plain": [
       "Lasso(alpha=0.01, max_iter=1000000.0)"
      ]
     },
     "execution_count": 38,
     "metadata": {},
     "output_type": "execute_result"
    }
   ],
   "source": [
    "lasso001 = Lasso(alpha=0.01, max_iter=10e5)\n",
    "lasso001.fit(X_train_scaled,y_train)"
   ]
  },
  {
   "cell_type": "code",
   "execution_count": 39,
   "id": "5e6d488b",
   "metadata": {},
   "outputs": [],
   "source": [
    "train_score001=lasso001.score(X_train_scaled,y_train)\n",
    "test_score001=lasso001.score(X_test_scaled,y_test)\n",
    "coeff_used001 = np.sum(lasso001.coef_!=0)\n"
   ]
  },
  {
   "cell_type": "code",
   "execution_count": 40,
   "id": "a9a7d0f3",
   "metadata": {},
   "outputs": [
    {
     "name": "stdout",
     "output_type": "stream",
     "text": [
      "training score for alpha=0.01: 0.7110839779310338\n",
      "test score for alpha =0.01:  -7.378186738640887\n",
      "number of features used: for alpha =0.01: 9\n"
     ]
    }
   ],
   "source": [
    "print(\"training score for alpha=0.01:\", train_score001) \n",
    "print(\"test score for alpha =0.01: \", test_score001)\n",
    "print(\"number of features used: for alpha =0.01:\", coeff_used001)"
   ]
  },
  {
   "cell_type": "code",
   "execution_count": 41,
   "id": "7f96a5f1",
   "metadata": {},
   "outputs": [
    {
     "data": {
      "text/plain": [
       "Lasso(alpha=0.0001, max_iter=1000000.0)"
      ]
     },
     "execution_count": 41,
     "metadata": {},
     "output_type": "execute_result"
    }
   ],
   "source": [
    "lasso00001 = Lasso(alpha=0.0001, max_iter=10e5)\n",
    "lasso00001.fit(X_train_scaled,y_train)"
   ]
  },
  {
   "cell_type": "code",
   "execution_count": 42,
   "id": "c6f9bdf0",
   "metadata": {},
   "outputs": [],
   "source": [
    "train_score00001=lasso00001.score(X_train_scaled,y_train)\n",
    "test_score00001=lasso00001.score(X_test_scaled,y_test)\n",
    "coeff_used00001 = np.sum(lasso00001.coef_!=0)\n"
   ]
  },
  {
   "cell_type": "code",
   "execution_count": 43,
   "id": "ca62bcb2",
   "metadata": {},
   "outputs": [
    {
     "name": "stdout",
     "output_type": "stream",
     "text": [
      "training score for alpha=0.0001: 0.717994314369035\n",
      "test score for alpha =0.0001:  -7.301145407835907\n",
      "number of features used: for alpha =0.0001: 10\n"
     ]
    }
   ],
   "source": [
    "print(\"training score for alpha=0.0001:\", train_score00001) \n",
    "print(\"test score for alpha =0.0001: \", test_score00001)\n",
    "print(\"number of features used: for alpha =0.0001:\", coeff_used00001)"
   ]
  },
  {
   "cell_type": "code",
   "execution_count": 44,
   "id": "17e5fdfd",
   "metadata": {},
   "outputs": [],
   "source": [
    "lr = LinearRegression()\n",
    "lr.fit(X_train_scaled,y_train)\n",
    "lr_train_score=lr.score(X_train_scaled,y_train)\n",
    "lr_test_score=lr.score(X_test_scaled,y_test)"
   ]
  },
  {
   "cell_type": "code",
   "execution_count": 45,
   "id": "35f5873c",
   "metadata": {},
   "outputs": [
    {
     "data": {
      "text/plain": [
       "array([ 7.47001995,  7.90333541,  3.84037407,  8.15426184,  4.82387318,\n",
       "       13.50302494,  4.82860708,  4.10677316,  2.98940406,  6.71223062,\n",
       "        3.60178448,  4.51039485, 12.81126559,  4.16142036,  3.61943084,\n",
       "        3.05337007])"
      ]
     },
     "execution_count": 45,
     "metadata": {},
     "output_type": "execute_result"
    }
   ],
   "source": [
    "# Predicting the Test set results\n",
    "y_pred = lr.predict(X_test_scaled)\n",
    "lasso_pred = y_pred\n",
    "lasso_pred"
   ]
  },
  {
   "cell_type": "code",
   "execution_count": 46,
   "id": "7d57cef7",
   "metadata": {},
   "outputs": [
    {
     "name": "stdout",
     "output_type": "stream",
     "text": [
      "LR training score: 0.7179951292992881\n",
      "LR test score:  -7.29995289807103\n"
     ]
    }
   ],
   "source": [
    "print(\"LR training score:\", lr_train_score) \n",
    "print(\"LR test score: \", lr_test_score)"
   ]
  },
  {
   "cell_type": "code",
   "execution_count": 47,
   "id": "197544c4",
   "metadata": {},
   "outputs": [
    {
     "name": "stdout",
     "output_type": "stream",
     "text": [
      "r2 score is -7.29995289807103\n",
      "mean_squared_error is == 7.744569331102451\n",
      "root_mean_squared error is == 2.782906633558239\n"
     ]
    }
   ],
   "source": [
    "# importing the r2_score module\n",
    "from sklearn.metrics import r2_score\n",
    "from sklearn.metrics import mean_squared_error\n",
    "# predicting the accuracy score\n",
    "score=r2_score(y_test,y_pred)\n",
    "print('r2 score is', score)\n",
    "print(\"mean_squared_error is ==\",mean_squared_error(y_test, y_pred))\n",
    "print(\"root_mean_squared error is ==\",np.sqrt(mean_squared_error(y_test, y_pred)))"
   ]
  },
  {
   "cell_type": "code",
   "execution_count": 48,
   "id": "c246222a",
   "metadata": {},
   "outputs": [
    {
     "data": {
      "text/plain": [
       "<matplotlib.legend.Legend at 0x1e23ef06f48>"
      ]
     },
     "execution_count": 48,
     "metadata": {},
     "output_type": "execute_result"
    },
    {
     "data": {
      "image/png": "[encoded data removed]",
      "text/plain": [
       "<Figure size 432x288 with 1 Axes>"
      ]
     },
     "metadata": {
      "needs_background": "light"
     },
     "output_type": "display_data"
    }
   ],
   "source": [
    "plt.subplot(1,2,1)\n",
    "plt.plot(lasso.coef_,alpha=0.7,linestyle='none',marker='*',markersize=5,color='red',label=r'Lasso; $\\alpha = 1$',zorder=7) # alpha here is for transparency\n",
    "plt.plot(lasso001.coef_,alpha=0.5,linestyle='none',marker='d',markersize=6,color='blue',label=r'Lasso; $\\alpha = 0.01$') # alpha here is for transparency\n",
    "plt.xlabel('Coefficient Index',fontsize=16)\n",
    "plt.ylabel('Coefficient Magnitude',fontsize=16)\n",
    "plt.legend(fontsize=13,loc=4)"
   ]
  },
  {
   "cell_type": "code",
   "execution_count": 49,
   "id": "0be4c2eb",
   "metadata": {},
   "outputs": [
    {
     "data": {
      "image/png": "[encoded data removed]",
      "text/plain": [
       "<Figure size 432x288 with 1 Axes>"
      ]
     },
     "metadata": {
      "needs_background": "light"
     },
     "output_type": "display_data"
    }
   ],
   "source": [
    "plt.subplot(1,2,2)\n",
    "plt.plot(lasso.coef_,alpha=0.7,linestyle='none',marker='*',markersize=5,color='red',label=r'Lasso; $\\alpha = 1$',zorder=7) # alpha here is for transparency\n",
    "plt.plot(lasso001.coef_,alpha=0.5,linestyle='none',marker='d',markersize=6,color='blue',label=r'Lasso; $\\alpha = 0.01$') # alpha here is for transparency\n",
    "plt.plot(lasso00001.coef_,alpha=0.8,linestyle='none',marker='v',markersize=6,color='black',label=r'Lasso; $\\alpha = 0.00001$') # alpha here is for transparency\n",
    "plt.plot(lr.coef_,alpha=0.7,linestyle='none',marker='o',markersize=5,color='green',label='Linear Regression',zorder=2)\n",
    "plt.xlabel('Coefficient Index',fontsize=16)\n",
    "plt.ylabel('Coefficient Magnitude',fontsize=16)\n",
    "plt.legend(fontsize=13,loc=4)\n",
    "plt.tight_layout()\n",
    "plt.show()"
   ]
  },
  {
   "cell_type": "markdown",
   "id": "60e091a4",
   "metadata": {},
   "source": [
    "## Multiple linear regression"
   ]
  },
  {
   "cell_type": "code",
   "execution_count": 50,
   "id": "e5a6b69e",
   "metadata": {},
   "outputs": [
    {
     "data": {
      "text/html": [
       "<div>\n",
       "<style scoped>\n",
       "    .dataframe tbody tr th:only-of-type {\n",
       "        vertical-align: middle;\n",
       "    }\n",
       "\n",
       "    .dataframe tbody tr th {\n",
       "        vertical-align: top;\n",
       "    }\n",
       "\n",
       "    .dataframe thead th {\n",
       "        text-align: right;\n",
       "    }\n",
       "</style>\n",
       "<table border=\"1\" class=\"dataframe\">\n",
       "  <thead>\n",
       "    <tr style=\"text-align: right;\">\n",
       "      <th></th>\n",
       "      <th>Date</th>\n",
       "      <th>S_P Close</th>\n",
       "      <th>S_P Volume</th>\n",
       "      <th>Median Sale Price</th>\n",
       "      <th>Homes Sold</th>\n",
       "      <th>INFLATION_EXPECTATION</th>\n",
       "      <th>SALES</th>\n",
       "      <th>UNEMPLOYMENT</th>\n",
       "      <th>NAS Value</th>\n",
       "      <th>NAS Volume</th>\n",
       "      <th>Covid_New_Cases</th>\n",
       "      <th>Covid_Death</th>\n",
       "    </tr>\n",
       "  </thead>\n",
       "  <tbody>\n",
       "    <tr>\n",
       "      <th>0</th>\n",
       "      <td>1/1/2017</td>\n",
       "      <td>2278.87</td>\n",
       "      <td>42691599000</td>\n",
       "      <td>246000</td>\n",
       "      <td>360977</td>\n",
       "      <td>2.6</td>\n",
       "      <td>368960</td>\n",
       "      <td>4.7</td>\n",
       "      <td>5614.786</td>\n",
       "      <td>8376144160</td>\n",
       "      <td>NaN</td>\n",
       "      <td>NaN</td>\n",
       "    </tr>\n",
       "    <tr>\n",
       "      <th>1</th>\n",
       "      <td>2/1/2017</td>\n",
       "      <td>2363.64</td>\n",
       "      <td>40740785000</td>\n",
       "      <td>247000</td>\n",
       "      <td>369081</td>\n",
       "      <td>2.7</td>\n",
       "      <td>365480</td>\n",
       "      <td>4.6</td>\n",
       "      <td>5825.438</td>\n",
       "      <td>8563523411</td>\n",
       "      <td>NaN</td>\n",
       "      <td>NaN</td>\n",
       "    </tr>\n",
       "    <tr>\n",
       "      <th>2</th>\n",
       "      <td>3/1/2017</td>\n",
       "      <td>2362.72</td>\n",
       "      <td>47262643000</td>\n",
       "      <td>257000</td>\n",
       "      <td>533610</td>\n",
       "      <td>2.5</td>\n",
       "      <td>422891</td>\n",
       "      <td>4.4</td>\n",
       "      <td>5911.738</td>\n",
       "      <td>10998962695</td>\n",
       "      <td>NaN</td>\n",
       "      <td>NaN</td>\n",
       "    </tr>\n",
       "    <tr>\n",
       "      <th>3</th>\n",
       "      <td>4/1/2017</td>\n",
       "      <td>2384.20</td>\n",
       "      <td>37735945000</td>\n",
       "      <td>262000</td>\n",
       "      <td>516823</td>\n",
       "      <td>2.5</td>\n",
       "      <td>407165</td>\n",
       "      <td>4.4</td>\n",
       "      <td>6047.606</td>\n",
       "      <td>8302492073</td>\n",
       "      <td>NaN</td>\n",
       "      <td>NaN</td>\n",
       "    </tr>\n",
       "    <tr>\n",
       "      <th>4</th>\n",
       "      <td>5/1/2017</td>\n",
       "      <td>2411.80</td>\n",
       "      <td>44654185000</td>\n",
       "      <td>269000</td>\n",
       "      <td>630788</td>\n",
       "      <td>2.6</td>\n",
       "      <td>434450</td>\n",
       "      <td>4.4</td>\n",
       "      <td>6198.517</td>\n",
       "      <td>10239273745</td>\n",
       "      <td>NaN</td>\n",
       "      <td>NaN</td>\n",
       "    </tr>\n",
       "  </tbody>\n",
       "</table>\n",
       "</div>"
      ],
      "text/plain": [
       "       Date  S_P Close   S_P Volume  Median Sale Price  Homes Sold  \\\n",
       "0  1/1/2017    2278.87  42691599000             246000      360977   \n",
       "1  2/1/2017    2363.64  40740785000             247000      369081   \n",
       "2  3/1/2017    2362.72  47262643000             257000      533610   \n",
       "3  4/1/2017    2384.20  37735945000             262000      516823   \n",
       "4  5/1/2017    2411.80  44654185000             269000      630788   \n",
       "\n",
       "   INFLATION_EXPECTATION   SALES  UNEMPLOYMENT  NAS Value   NAS Volume  \\\n",
       "0                    2.6  368960           4.7   5614.786   8376144160   \n",
       "1                    2.7  365480           4.6   5825.438   8563523411   \n",
       "2                    2.5  422891           4.4   5911.738  10998962695   \n",
       "3                    2.5  407165           4.4   6047.606   8302492073   \n",
       "4                    2.6  434450           4.4   6198.517  10239273745   \n",
       "\n",
       "   Covid_New_Cases  Covid_Death  \n",
       "0              NaN          NaN  \n",
       "1              NaN          NaN  \n",
       "2              NaN          NaN  \n",
       "3              NaN          NaN  \n",
       "4              NaN          NaN  "
      ]
     },
     "execution_count": 50,
     "metadata": {},
     "output_type": "execute_result"
    }
   ],
   "source": [
    "working_df = pd.read_csv(Path('Resources/CSV files/FINAL_DATABASE.csv'))\n",
    "working_df.head(5)"
   ]
  },
  {
   "cell_type": "code",
   "execution_count": 51,
   "id": "c7cf677a",
   "metadata": {},
   "outputs": [
    {
     "data": {
      "text/html": [
       "<div>\n",
       "<style scoped>\n",
       "    .dataframe tbody tr th:only-of-type {\n",
       "        vertical-align: middle;\n",
       "    }\n",
       "\n",
       "    .dataframe tbody tr th {\n",
       "        vertical-align: top;\n",
       "    }\n",
       "\n",
       "    .dataframe thead th {\n",
       "        text-align: right;\n",
       "    }\n",
       "</style>\n",
       "<table border=\"1\" class=\"dataframe\">\n",
       "  <thead>\n",
       "    <tr style=\"text-align: right;\">\n",
       "      <th></th>\n",
       "      <th>Date</th>\n",
       "      <th>S_P Close</th>\n",
       "      <th>S_P Volume</th>\n",
       "      <th>Median Sale Price</th>\n",
       "      <th>Homes Sold</th>\n",
       "      <th>INFLATION_EXPECTATION</th>\n",
       "      <th>SALES</th>\n",
       "      <th>UNEMPLOYMENT</th>\n",
       "      <th>NAS Value</th>\n",
       "      <th>NAS Volume</th>\n",
       "      <th>Covid_New_Cases</th>\n",
       "      <th>Covid_Death</th>\n",
       "    </tr>\n",
       "  </thead>\n",
       "  <tbody>\n",
       "    <tr>\n",
       "      <th>0</th>\n",
       "      <td>1/1/2017</td>\n",
       "      <td>2278.87</td>\n",
       "      <td>42691599000</td>\n",
       "      <td>246000</td>\n",
       "      <td>360977</td>\n",
       "      <td>2.6</td>\n",
       "      <td>368960</td>\n",
       "      <td>4.7</td>\n",
       "      <td>5614.786</td>\n",
       "      <td>8376144160</td>\n",
       "      <td>0.0</td>\n",
       "      <td>0.0</td>\n",
       "    </tr>\n",
       "    <tr>\n",
       "      <th>1</th>\n",
       "      <td>2/1/2017</td>\n",
       "      <td>2363.64</td>\n",
       "      <td>40740785000</td>\n",
       "      <td>247000</td>\n",
       "      <td>369081</td>\n",
       "      <td>2.7</td>\n",
       "      <td>365480</td>\n",
       "      <td>4.6</td>\n",
       "      <td>5825.438</td>\n",
       "      <td>8563523411</td>\n",
       "      <td>0.0</td>\n",
       "      <td>0.0</td>\n",
       "    </tr>\n",
       "    <tr>\n",
       "      <th>2</th>\n",
       "      <td>3/1/2017</td>\n",
       "      <td>2362.72</td>\n",
       "      <td>47262643000</td>\n",
       "      <td>257000</td>\n",
       "      <td>533610</td>\n",
       "      <td>2.5</td>\n",
       "      <td>422891</td>\n",
       "      <td>4.4</td>\n",
       "      <td>5911.738</td>\n",
       "      <td>10998962695</td>\n",
       "      <td>0.0</td>\n",
       "      <td>0.0</td>\n",
       "    </tr>\n",
       "    <tr>\n",
       "      <th>3</th>\n",
       "      <td>4/1/2017</td>\n",
       "      <td>2384.20</td>\n",
       "      <td>37735945000</td>\n",
       "      <td>262000</td>\n",
       "      <td>516823</td>\n",
       "      <td>2.5</td>\n",
       "      <td>407165</td>\n",
       "      <td>4.4</td>\n",
       "      <td>6047.606</td>\n",
       "      <td>8302492073</td>\n",
       "      <td>0.0</td>\n",
       "      <td>0.0</td>\n",
       "    </tr>\n",
       "    <tr>\n",
       "      <th>4</th>\n",
       "      <td>5/1/2017</td>\n",
       "      <td>2411.80</td>\n",
       "      <td>44654185000</td>\n",
       "      <td>269000</td>\n",
       "      <td>630788</td>\n",
       "      <td>2.6</td>\n",
       "      <td>434450</td>\n",
       "      <td>4.4</td>\n",
       "      <td>6198.517</td>\n",
       "      <td>10239273745</td>\n",
       "      <td>0.0</td>\n",
       "      <td>0.0</td>\n",
       "    </tr>\n",
       "  </tbody>\n",
       "</table>\n",
       "</div>"
      ],
      "text/plain": [
       "       Date  S_P Close   S_P Volume  Median Sale Price  Homes Sold  \\\n",
       "0  1/1/2017    2278.87  42691599000             246000      360977   \n",
       "1  2/1/2017    2363.64  40740785000             247000      369081   \n",
       "2  3/1/2017    2362.72  47262643000             257000      533610   \n",
       "3  4/1/2017    2384.20  37735945000             262000      516823   \n",
       "4  5/1/2017    2411.80  44654185000             269000      630788   \n",
       "\n",
       "   INFLATION_EXPECTATION   SALES  UNEMPLOYMENT  NAS Value   NAS Volume  \\\n",
       "0                    2.6  368960           4.7   5614.786   8376144160   \n",
       "1                    2.7  365480           4.6   5825.438   8563523411   \n",
       "2                    2.5  422891           4.4   5911.738  10998962695   \n",
       "3                    2.5  407165           4.4   6047.606   8302492073   \n",
       "4                    2.6  434450           4.4   6198.517  10239273745   \n",
       "\n",
       "   Covid_New_Cases  Covid_Death  \n",
       "0              0.0          0.0  \n",
       "1              0.0          0.0  \n",
       "2              0.0          0.0  \n",
       "3              0.0          0.0  \n",
       "4              0.0          0.0  "
      ]
     },
     "execution_count": 51,
     "metadata": {},
     "output_type": "execute_result"
    }
   ],
   "source": [
    "working_df['Covid_New_Cases'] = working_df['Covid_New_Cases'].replace(np.nan, 0)\n",
    "working_df['Covid_Death'] = working_df['Covid_Death'].replace(np.nan, 0)\n",
    "working_df.head()"
   ]
  },
  {
   "cell_type": "code",
   "execution_count": 52,
   "id": "ec14070b",
   "metadata": {},
   "outputs": [],
   "source": [
    "# Split our preprocessed data into our features and target arrays\n",
    "y = working_df.UNEMPLOYMENT\n",
    "X = working_df.drop(columns=[\"Date\",\"UNEMPLOYMENT\"])"
   ]
  },
  {
   "cell_type": "code",
   "execution_count": 53,
   "id": "9d452acd",
   "metadata": {},
   "outputs": [
    {
     "data": {
      "text/plain": [
       "(62, 10)"
      ]
     },
     "execution_count": 53,
     "metadata": {},
     "output_type": "execute_result"
    }
   ],
   "source": [
    "X.shape"
   ]
  },
  {
   "cell_type": "code",
   "execution_count": 54,
   "id": "c51b2823",
   "metadata": {},
   "outputs": [],
   "source": [
    "# Splitting the dataset into the Training set and Test set\n",
    "from sklearn.model_selection import train_test_split\n",
    "X_train, X_test, y_train, y_test = train_test_split(X, y, random_state = 42)\n"
   ]
  },
  {
   "cell_type": "code",
   "execution_count": 55,
   "id": "4d0c78ed",
   "metadata": {},
   "outputs": [],
   "source": [
    "# Create a StandardScaler instances\n",
    "scaler = StandardScaler()\n",
    "\n",
    "# Fit the StandardScaler\n",
    "X_scaler = scaler.fit(X_train)\n",
    "\n",
    "# Scale the data\n",
    "X_train_scaled = X_scaler.transform(X_train)\n",
    "X_test_scaled = X_scaler.transform(X_test)"
   ]
  },
  {
   "cell_type": "code",
   "execution_count": 56,
   "id": "402f7038",
   "metadata": {},
   "outputs": [
    {
     "data": {
      "text/plain": [
       "LinearRegression()"
      ]
     },
     "execution_count": 56,
     "metadata": {},
     "output_type": "execute_result"
    }
   ],
   "source": [
    "# Fitting Multiple Linear Regression to the Training set\n",
    "regressor = LinearRegression()\n",
    "regressor.fit(X_train_scaled, y_train)\n"
   ]
  },
  {
   "cell_type": "code",
   "execution_count": 57,
   "id": "44d63d28",
   "metadata": {},
   "outputs": [
    {
     "data": {
      "text/plain": [
       "array([ 7.47001995,  7.90333541,  3.84037407,  8.15426184,  4.82387318,\n",
       "       13.50302494,  4.82860708,  4.10677316,  2.98940406,  6.71223062,\n",
       "        3.60178448,  4.51039485, 12.81126559,  4.16142036,  3.61943084,\n",
       "        3.05337007])"
      ]
     },
     "execution_count": 57,
     "metadata": {},
     "output_type": "execute_result"
    }
   ],
   "source": [
    "# Predicting the multiple regression test set results\n",
    "y_pred = regressor.predict(X_test_scaled)\n",
    "mult_pred = y_pred\n",
    "mult_pred"
   ]
  },
  {
   "cell_type": "code",
   "execution_count": 58,
   "id": "83a80ad7",
   "metadata": {},
   "outputs": [
    {
     "name": "stdout",
     "output_type": "stream",
     "text": [
      "r2 score is -7.29995289807103\n",
      "mean_squared_error is == 7.744569331102451\n",
      "root_mean_squared error is == 2.782906633558239\n"
     ]
    }
   ],
   "source": [
    "# predicting the accuracy score\n",
    "score=r2_score(y_test,y_pred)\n",
    "print('r2 score is', score)\n",
    "print(\"mean_squared_error is ==\",mean_squared_error(y_test, y_pred))\n",
    "print(\"root_mean_squared error is ==\",np.sqrt(mean_squared_error(y_test, y_pred)))"
   ]
  },
  {
   "cell_type": "code",
   "execution_count": 59,
   "id": "1fbcdbca",
   "metadata": {},
   "outputs": [
    {
     "data": {
      "text/html": [
       "<div>\n",
       "<style scoped>\n",
       "    .dataframe tbody tr th:only-of-type {\n",
       "        vertical-align: middle;\n",
       "    }\n",
       "\n",
       "    .dataframe tbody tr th {\n",
       "        vertical-align: top;\n",
       "    }\n",
       "\n",
       "    .dataframe thead th {\n",
       "        text-align: right;\n",
       "    }\n",
       "</style>\n",
       "<table border=\"1\" class=\"dataframe\">\n",
       "  <thead>\n",
       "    <tr style=\"text-align: right;\">\n",
       "      <th></th>\n",
       "      <th>Y_test</th>\n",
       "      <th>linear_regression</th>\n",
       "      <th>multiple_regression</th>\n",
       "      <th>lasso</th>\n",
       "      <th>ridge</th>\n",
       "      <th>ridge100</th>\n",
       "    </tr>\n",
       "  </thead>\n",
       "  <tbody>\n",
       "    <tr>\n",
       "      <th>0</th>\n",
       "      <td>6.0</td>\n",
       "      <td>7.470020</td>\n",
       "      <td>7.470020</td>\n",
       "      <td>7.470020</td>\n",
       "      <td>8.060176</td>\n",
       "      <td>6.846963</td>\n",
       "    </tr>\n",
       "    <tr>\n",
       "      <th>1</th>\n",
       "      <td>4.7</td>\n",
       "      <td>7.903335</td>\n",
       "      <td>7.903335</td>\n",
       "      <td>7.903335</td>\n",
       "      <td>7.795686</td>\n",
       "      <td>6.101658</td>\n",
       "    </tr>\n",
       "    <tr>\n",
       "      <th>2</th>\n",
       "      <td>4.7</td>\n",
       "      <td>3.840374</td>\n",
       "      <td>3.840374</td>\n",
       "      <td>3.840374</td>\n",
       "      <td>3.348955</td>\n",
       "      <td>4.305104</td>\n",
       "    </tr>\n",
       "    <tr>\n",
       "      <th>3</th>\n",
       "      <td>4.6</td>\n",
       "      <td>8.154262</td>\n",
       "      <td>8.154262</td>\n",
       "      <td>8.154262</td>\n",
       "      <td>7.483879</td>\n",
       "      <td>5.856204</td>\n",
       "    </tr>\n",
       "    <tr>\n",
       "      <th>4</th>\n",
       "      <td>4.3</td>\n",
       "      <td>4.823873</td>\n",
       "      <td>4.823873</td>\n",
       "      <td>4.823873</td>\n",
       "      <td>5.325222</td>\n",
       "      <td>5.005493</td>\n",
       "    </tr>\n",
       "  </tbody>\n",
       "</table>\n",
       "</div>"
      ],
      "text/plain": [
       "   Y_test  linear_regression  multiple_regression     lasso     ridge  \\\n",
       "0     6.0           7.470020             7.470020  7.470020  8.060176   \n",
       "1     4.7           7.903335             7.903335  7.903335  7.795686   \n",
       "2     4.7           3.840374             3.840374  3.840374  3.348955   \n",
       "3     4.6           8.154262             8.154262  8.154262  7.483879   \n",
       "4     4.3           4.823873             4.823873  4.823873  5.325222   \n",
       "\n",
       "   ridge100  \n",
       "0  6.846963  \n",
       "1  6.101658  \n",
       "2  4.305104  \n",
       "3  5.856204  \n",
       "4  5.005493  "
      ]
     },
     "execution_count": 59,
     "metadata": {},
     "output_type": "execute_result"
    }
   ],
   "source": [
    "predictions_df = pd.DataFrame()\n",
    "predictions_df['Y_test'] = lr_test.tolist()\n",
    "predictions_df['linear_regression'] = lr_pred.tolist()\n",
    "predictions_df['multiple_regression'] = mult_pred.tolist()\n",
    "predictions_df['lasso'] = lasso_pred.tolist()\n",
    "predictions_df['ridge'] = rr_pred.tolist()\n",
    "predictions_df['ridge100'] = rr100_pred.tolist()\n",
    "predictions_df.head()"
   ]
  },
  {
   "cell_type": "code",
   "execution_count": 60,
   "id": "6b01266b",
   "metadata": {},
   "outputs": [],
   "source": [
    "predictions_df.to_csv('Resources/CSV files/predictions.csv')"
   ]
  },
  {
   "cell_type": "markdown",
   "id": "9327d3f5",
   "metadata": {},
   "source": [
    "### Neural Network model"
   ]
  },
  {
   "cell_type": "code",
   "execution_count": 61,
   "id": "48b44fb1",
   "metadata": {},
   "outputs": [],
   "source": [
    "# A good rule of thumb for a basic neural network is to have two to \n",
    "# three times the amount of neurons in the hidden layer as the number of inputs.\n",
    "# Our FINAL_DATAFRAME has 10 input features (columns) of data."
   ]
  },
  {
   "cell_type": "code",
   "execution_count": 62,
   "id": "995b4af0",
   "metadata": {},
   "outputs": [
    {
     "data": {
      "text/html": [
       "<div>\n",
       "<style scoped>\n",
       "    .dataframe tbody tr th:only-of-type {\n",
       "        vertical-align: middle;\n",
       "    }\n",
       "\n",
       "    .dataframe tbody tr th {\n",
       "        vertical-align: top;\n",
       "    }\n",
       "\n",
       "    .dataframe thead th {\n",
       "        text-align: right;\n",
       "    }\n",
       "</style>\n",
       "<table border=\"1\" class=\"dataframe\">\n",
       "  <thead>\n",
       "    <tr style=\"text-align: right;\">\n",
       "      <th></th>\n",
       "      <th>Date</th>\n",
       "      <th>S_P Close</th>\n",
       "      <th>S_P Volume</th>\n",
       "      <th>Median Sale Price</th>\n",
       "      <th>Homes Sold</th>\n",
       "      <th>INFLATION_EXPECTATION</th>\n",
       "      <th>SALES</th>\n",
       "      <th>UNEMPLOYMENT</th>\n",
       "      <th>NAS Value</th>\n",
       "      <th>NAS Volume</th>\n",
       "      <th>Covid_New_Cases</th>\n",
       "      <th>Covid_Death</th>\n",
       "    </tr>\n",
       "  </thead>\n",
       "  <tbody>\n",
       "    <tr>\n",
       "      <th>0</th>\n",
       "      <td>1/1/2017</td>\n",
       "      <td>2278.87</td>\n",
       "      <td>42691599000</td>\n",
       "      <td>246000</td>\n",
       "      <td>360977</td>\n",
       "      <td>2.6</td>\n",
       "      <td>368960</td>\n",
       "      <td>4.7</td>\n",
       "      <td>5614.786</td>\n",
       "      <td>8376144160</td>\n",
       "      <td>NaN</td>\n",
       "      <td>NaN</td>\n",
       "    </tr>\n",
       "    <tr>\n",
       "      <th>1</th>\n",
       "      <td>2/1/2017</td>\n",
       "      <td>2363.64</td>\n",
       "      <td>40740785000</td>\n",
       "      <td>247000</td>\n",
       "      <td>369081</td>\n",
       "      <td>2.7</td>\n",
       "      <td>365480</td>\n",
       "      <td>4.6</td>\n",
       "      <td>5825.438</td>\n",
       "      <td>8563523411</td>\n",
       "      <td>NaN</td>\n",
       "      <td>NaN</td>\n",
       "    </tr>\n",
       "    <tr>\n",
       "      <th>2</th>\n",
       "      <td>3/1/2017</td>\n",
       "      <td>2362.72</td>\n",
       "      <td>47262643000</td>\n",
       "      <td>257000</td>\n",
       "      <td>533610</td>\n",
       "      <td>2.5</td>\n",
       "      <td>422891</td>\n",
       "      <td>4.4</td>\n",
       "      <td>5911.738</td>\n",
       "      <td>10998962695</td>\n",
       "      <td>NaN</td>\n",
       "      <td>NaN</td>\n",
       "    </tr>\n",
       "    <tr>\n",
       "      <th>3</th>\n",
       "      <td>4/1/2017</td>\n",
       "      <td>2384.20</td>\n",
       "      <td>37735945000</td>\n",
       "      <td>262000</td>\n",
       "      <td>516823</td>\n",
       "      <td>2.5</td>\n",
       "      <td>407165</td>\n",
       "      <td>4.4</td>\n",
       "      <td>6047.606</td>\n",
       "      <td>8302492073</td>\n",
       "      <td>NaN</td>\n",
       "      <td>NaN</td>\n",
       "    </tr>\n",
       "    <tr>\n",
       "      <th>4</th>\n",
       "      <td>5/1/2017</td>\n",
       "      <td>2411.80</td>\n",
       "      <td>44654185000</td>\n",
       "      <td>269000</td>\n",
       "      <td>630788</td>\n",
       "      <td>2.6</td>\n",
       "      <td>434450</td>\n",
       "      <td>4.4</td>\n",
       "      <td>6198.517</td>\n",
       "      <td>10239273745</td>\n",
       "      <td>NaN</td>\n",
       "      <td>NaN</td>\n",
       "    </tr>\n",
       "  </tbody>\n",
       "</table>\n",
       "</div>"
      ],
      "text/plain": [
       "       Date  S_P Close   S_P Volume  Median Sale Price  Homes Sold  \\\n",
       "0  1/1/2017    2278.87  42691599000             246000      360977   \n",
       "1  2/1/2017    2363.64  40740785000             247000      369081   \n",
       "2  3/1/2017    2362.72  47262643000             257000      533610   \n",
       "3  4/1/2017    2384.20  37735945000             262000      516823   \n",
       "4  5/1/2017    2411.80  44654185000             269000      630788   \n",
       "\n",
       "   INFLATION_EXPECTATION   SALES  UNEMPLOYMENT  NAS Value   NAS Volume  \\\n",
       "0                    2.6  368960           4.7   5614.786   8376144160   \n",
       "1                    2.7  365480           4.6   5825.438   8563523411   \n",
       "2                    2.5  422891           4.4   5911.738  10998962695   \n",
       "3                    2.5  407165           4.4   6047.606   8302492073   \n",
       "4                    2.6  434450           4.4   6198.517  10239273745   \n",
       "\n",
       "   Covid_New_Cases  Covid_Death  \n",
       "0              NaN          NaN  \n",
       "1              NaN          NaN  \n",
       "2              NaN          NaN  \n",
       "3              NaN          NaN  \n",
       "4              NaN          NaN  "
      ]
     },
     "execution_count": 62,
     "metadata": {},
     "output_type": "execute_result"
    }
   ],
   "source": [
    "working_df = pd.read_csv(Path('Resources/CSV files/FINAL_DATABASE.csv'))\n",
    "working_df.head(5)"
   ]
  },
  {
   "cell_type": "code",
   "execution_count": 63,
   "id": "76d9c183",
   "metadata": {},
   "outputs": [
    {
     "data": {
      "text/html": [
       "<div>\n",
       "<style scoped>\n",
       "    .dataframe tbody tr th:only-of-type {\n",
       "        vertical-align: middle;\n",
       "    }\n",
       "\n",
       "    .dataframe tbody tr th {\n",
       "        vertical-align: top;\n",
       "    }\n",
       "\n",
       "    .dataframe thead th {\n",
       "        text-align: right;\n",
       "    }\n",
       "</style>\n",
       "<table border=\"1\" class=\"dataframe\">\n",
       "  <thead>\n",
       "    <tr style=\"text-align: right;\">\n",
       "      <th></th>\n",
       "      <th>Date</th>\n",
       "      <th>S_P Close</th>\n",
       "      <th>S_P Volume</th>\n",
       "      <th>Median Sale Price</th>\n",
       "      <th>Homes Sold</th>\n",
       "      <th>INFLATION_EXPECTATION</th>\n",
       "      <th>SALES</th>\n",
       "      <th>UNEMPLOYMENT</th>\n",
       "      <th>NAS Value</th>\n",
       "      <th>NAS Volume</th>\n",
       "      <th>Covid_New_Cases</th>\n",
       "      <th>Covid_Death</th>\n",
       "    </tr>\n",
       "  </thead>\n",
       "  <tbody>\n",
       "    <tr>\n",
       "      <th>0</th>\n",
       "      <td>1/1/2017</td>\n",
       "      <td>2278.87</td>\n",
       "      <td>42691599000</td>\n",
       "      <td>246000</td>\n",
       "      <td>360977</td>\n",
       "      <td>2.6</td>\n",
       "      <td>368960</td>\n",
       "      <td>4.7</td>\n",
       "      <td>5614.786</td>\n",
       "      <td>8376144160</td>\n",
       "      <td>0.0</td>\n",
       "      <td>0.0</td>\n",
       "    </tr>\n",
       "    <tr>\n",
       "      <th>1</th>\n",
       "      <td>2/1/2017</td>\n",
       "      <td>2363.64</td>\n",
       "      <td>40740785000</td>\n",
       "      <td>247000</td>\n",
       "      <td>369081</td>\n",
       "      <td>2.7</td>\n",
       "      <td>365480</td>\n",
       "      <td>4.6</td>\n",
       "      <td>5825.438</td>\n",
       "      <td>8563523411</td>\n",
       "      <td>0.0</td>\n",
       "      <td>0.0</td>\n",
       "    </tr>\n",
       "    <tr>\n",
       "      <th>2</th>\n",
       "      <td>3/1/2017</td>\n",
       "      <td>2362.72</td>\n",
       "      <td>47262643000</td>\n",
       "      <td>257000</td>\n",
       "      <td>533610</td>\n",
       "      <td>2.5</td>\n",
       "      <td>422891</td>\n",
       "      <td>4.4</td>\n",
       "      <td>5911.738</td>\n",
       "      <td>10998962695</td>\n",
       "      <td>0.0</td>\n",
       "      <td>0.0</td>\n",
       "    </tr>\n",
       "    <tr>\n",
       "      <th>3</th>\n",
       "      <td>4/1/2017</td>\n",
       "      <td>2384.20</td>\n",
       "      <td>37735945000</td>\n",
       "      <td>262000</td>\n",
       "      <td>516823</td>\n",
       "      <td>2.5</td>\n",
       "      <td>407165</td>\n",
       "      <td>4.4</td>\n",
       "      <td>6047.606</td>\n",
       "      <td>8302492073</td>\n",
       "      <td>0.0</td>\n",
       "      <td>0.0</td>\n",
       "    </tr>\n",
       "    <tr>\n",
       "      <th>4</th>\n",
       "      <td>5/1/2017</td>\n",
       "      <td>2411.80</td>\n",
       "      <td>44654185000</td>\n",
       "      <td>269000</td>\n",
       "      <td>630788</td>\n",
       "      <td>2.6</td>\n",
       "      <td>434450</td>\n",
       "      <td>4.4</td>\n",
       "      <td>6198.517</td>\n",
       "      <td>10239273745</td>\n",
       "      <td>0.0</td>\n",
       "      <td>0.0</td>\n",
       "    </tr>\n",
       "  </tbody>\n",
       "</table>\n",
       "</div>"
      ],
      "text/plain": [
       "       Date  S_P Close   S_P Volume  Median Sale Price  Homes Sold  \\\n",
       "0  1/1/2017    2278.87  42691599000             246000      360977   \n",
       "1  2/1/2017    2363.64  40740785000             247000      369081   \n",
       "2  3/1/2017    2362.72  47262643000             257000      533610   \n",
       "3  4/1/2017    2384.20  37735945000             262000      516823   \n",
       "4  5/1/2017    2411.80  44654185000             269000      630788   \n",
       "\n",
       "   INFLATION_EXPECTATION   SALES  UNEMPLOYMENT  NAS Value   NAS Volume  \\\n",
       "0                    2.6  368960           4.7   5614.786   8376144160   \n",
       "1                    2.7  365480           4.6   5825.438   8563523411   \n",
       "2                    2.5  422891           4.4   5911.738  10998962695   \n",
       "3                    2.5  407165           4.4   6047.606   8302492073   \n",
       "4                    2.6  434450           4.4   6198.517  10239273745   \n",
       "\n",
       "   Covid_New_Cases  Covid_Death  \n",
       "0              0.0          0.0  \n",
       "1              0.0          0.0  \n",
       "2              0.0          0.0  \n",
       "3              0.0          0.0  \n",
       "4              0.0          0.0  "
      ]
     },
     "execution_count": 63,
     "metadata": {},
     "output_type": "execute_result"
    }
   ],
   "source": [
    "working_df['Covid_New_Cases'] = working_df['Covid_New_Cases'].replace(np.nan, 0)\n",
    "working_df['Covid_Death'] = working_df['Covid_Death'].replace(np.nan, 0)\n",
    "working_df.head()"
   ]
  },
  {
   "cell_type": "code",
   "execution_count": 64,
   "id": "7b5001cf",
   "metadata": {},
   "outputs": [],
   "source": [
    "# Split our preprocessed data into our features and target arrays\n",
    "y = working_df.UNEMPLOYMENT\n",
    "X = working_df.drop(columns=[\"Date\",\"UNEMPLOYMENT\"])"
   ]
  },
  {
   "cell_type": "code",
   "execution_count": 65,
   "id": "5b07e6e7",
   "metadata": {},
   "outputs": [
    {
     "data": {
      "text/plain": [
       "16"
      ]
     },
     "execution_count": 65,
     "metadata": {},
     "output_type": "execute_result"
    }
   ],
   "source": [
    "X_train,X_test,y_train,y_test=train_test_split(X,y,random_state=42)\n",
    "len(X_test)"
   ]
  },
  {
   "cell_type": "code",
   "execution_count": 66,
   "id": "0c35478d",
   "metadata": {},
   "outputs": [
    {
     "data": {
      "text/plain": [
       "16"
      ]
     },
     "execution_count": 66,
     "metadata": {},
     "output_type": "execute_result"
    }
   ],
   "source": [
    "len(y_test)"
   ]
  },
  {
   "cell_type": "code",
   "execution_count": 67,
   "id": "170ebf39",
   "metadata": {},
   "outputs": [],
   "source": [
    "# Create a StandardScaler instances\n",
    "scaler = StandardScaler()\n",
    "\n",
    "# Fit the StandardScaler\n",
    "X_scaler = scaler.fit(X_train)\n",
    "\n",
    "# Scale the data\n",
    "X_train_scaled = X_scaler.transform(X_train)\n",
    "X_test_scaled = X_scaler.transform(X_test)"
   ]
  },
  {
   "cell_type": "code",
   "execution_count": 68,
   "id": "529a7afa",
   "metadata": {},
   "outputs": [
    {
     "name": "stdout",
     "output_type": "stream",
     "text": [
      "Model: \"sequential\"\n",
      "_________________________________________________________________\n",
      " Layer (type)                Output Shape              Param #   \n",
      "=================================================================\n",
      " dense (Dense)               (None, 30)                330       \n",
      "                                                                 \n",
      " dense_1 (Dense)             (None, 20)                620       \n",
      "                                                                 \n",
      " dense_2 (Dense)             (None, 1)                 21        \n",
      "                                                                 \n",
      "=================================================================\n",
      "Total params: 971\n",
      "Trainable params: 971\n",
      "Non-trainable params: 0\n",
      "_________________________________________________________________\n"
     ]
    }
   ],
   "source": [
    "# Define the model - deep neural net, i.e., the number of input features and hidden nodes for each layer.\n",
    "number_input_features = len(X_train_scaled[0])\n",
    "hidden_nodes_layer1 = 30\n",
    "hidden_nodes_layer2 = 20\n",
    "\n",
    "nn_A = tf.keras.models.Sequential()\n",
    "\n",
    "# First hidden layer\n",
    "nn_A.add(tf.keras.layers.Dense(units=hidden_nodes_layer1, input_dim=number_input_features, activation=\"LeakyReLU\"))\n",
    "\n",
    "# Second hidden layer\n",
    "nn_A.add(tf.keras.layers.Dense(units=hidden_nodes_layer2, activation=\"LeakyReLU\"))\n",
    "\n",
    "# Output layer\n",
    "nn_A.add(tf.keras.layers.Dense(units=1, activation=\"relu\"))\n",
    "\n",
    "# Check the structure of the model\n",
    "nn_A.summary()"
   ]
  },
  {
   "cell_type": "code",
   "execution_count": 69,
   "id": "9b219b65",
   "metadata": {},
   "outputs": [],
   "source": [
    "# Import checkpoint dependencies\n",
    "import os\n",
    "from tensorflow.keras.callbacks import ModelCheckpoint\n",
    "\n",
    "# Define the checkpoint path and filenames\n",
    "os.makedirs(\"checkpoints/\",exist_ok=True)\n",
    "checkpoint_path = \"checkpoints/weights.{epoch:02d}.hdf5\""
   ]
  },
  {
   "cell_type": "code",
   "execution_count": 70,
   "id": "7dcfd226",
   "metadata": {},
   "outputs": [],
   "source": [
    "# Compile the model\n",
    "nn_A.compile(loss=\"binary_crossentropy\", optimizer=\"adam\", metrics=[\"accuracy\"])\n",
    "\n",
    "# Create a callback that saves the model's weights every epoch\n",
    "cp_callback = ModelCheckpoint(\n",
    "    filepath=checkpoint_path,\n",
    "    verbose=1,\n",
    "    save_weights_only=True,\n",
    "    save_freq=10)"
   ]
  },
  {
   "cell_type": "code",
   "execution_count": 71,
   "id": "f523ef68",
   "metadata": {},
   "outputs": [
    {
     "name": "stdout",
     "output_type": "stream",
     "text": [
      "Epoch 1/15\n",
      "2/2 [==============================] - 1s 4ms/step - loss: 54.4318 - accuracy: 0.0000e+00\n",
      "Epoch 2/15\n",
      "2/2 [==============================] - 0s 8ms/step - loss: 53.3160 - accuracy: 0.0000e+00\n",
      "Epoch 3/15\n",
      "2/2 [==============================] - 0s 6ms/step - loss: 50.3962 - accuracy: 0.0000e+00\n",
      "Epoch 4/15\n",
      "2/2 [==============================] - 0s 7ms/step - loss: 48.4631 - accuracy: 0.0000e+00\n",
      "Epoch 5/15\n",
      "1/2 [==============>...............] - ETA: 0s - loss: 46.0568 - accuracy: 0.0000e+00\n",
      "Epoch 5: saving model to checkpoints\\weights.05.hdf5\n",
      "2/2 [==============================] - 0s 50ms/step - loss: 41.7364 - accuracy: 0.0000e+00\n",
      "Epoch 6/15\n",
      "2/2 [==============================] - 0s 8ms/step - loss: 37.6119 - accuracy: 0.0000e+00\n",
      "Epoch 7/15\n",
      "2/2 [==============================] - 0s 6ms/step - loss: 32.4177 - accuracy: 0.0000e+00\n",
      "Epoch 8/15\n",
      "2/2 [==============================] - 0s 16ms/step - loss: 29.2393 - accuracy: 0.0000e+00\n",
      "Epoch 9/15\n",
      "2/2 [==============================] - 0s 6ms/step - loss: 28.1554 - accuracy: 0.0000e+00\n",
      "Epoch 10/15\n",
      "1/2 [==============>...............] - ETA: 0s - loss: 21.6216 - accuracy: 0.0000e+00\n",
      "Epoch 10: saving model to checkpoints\\weights.10.hdf5\n",
      "2/2 [==============================] - 0s 55ms/step - loss: 25.2520 - accuracy: 0.0000e+00\n",
      "Epoch 11/15\n",
      "2/2 [==============================] - 0s 9ms/step - loss: 22.2272 - accuracy: 0.0000e+00\n",
      "Epoch 12/15\n",
      "2/2 [==============================] - 0s 6ms/step - loss: 18.8260 - accuracy: 0.0000e+00\n",
      "Epoch 13/15\n",
      "2/2 [==============================] - 0s 6ms/step - loss: 13.2487 - accuracy: 0.0000e+00\n",
      "Epoch 14/15\n",
      "2/2 [==============================] - 0s 4ms/step - loss: 10.1390 - accuracy: 0.0000e+00\n",
      "Epoch 15/15\n",
      "1/2 [==============>...............] - ETA: 0s - loss: 11.9405 - accuracy: 0.0000e+00\n",
      "Epoch 15: saving model to checkpoints\\weights.15.hdf5\n",
      "2/2 [==============================] - 0s 53ms/step - loss: 6.1955 - accuracy: 0.0000e+00\n"
     ]
    }
   ],
   "source": [
    "# Train the model\n",
    "fit_model = nn_A.fit(X_train_scaled,y_train,epochs=15,callbacks=[cp_callback])"
   ]
  },
  {
   "cell_type": "code",
   "execution_count": 72,
   "id": "4f5af601",
   "metadata": {},
   "outputs": [
    {
     "name": "stdout",
     "output_type": "stream",
     "text": [
      "1/1 - 0s - loss: 0.6765 - accuracy: 0.0000e+00 - 256ms/epoch - 256ms/step\n",
      "Loss: 0.676466703414917, Accuracy: 0.0\n"
     ]
    }
   ],
   "source": [
    "# Evaluate the model using the test data\n",
    "model_loss, model_accuracy = nn_A.evaluate(X_test_scaled,y_test,verbose=2)\n",
    "print(f\"Loss: {model_loss}, Accuracy: {model_accuracy}\")"
   ]
  },
  {
   "cell_type": "code",
   "execution_count": 73,
   "id": "ec1e23ce",
   "metadata": {},
   "outputs": [
    {
     "data": {
      "text/plain": [
       "<AxesSubplot:>"
      ]
     },
     "execution_count": 73,
     "metadata": {},
     "output_type": "execute_result"
    },
    {
     "data": {
      "image/png": "[encoded data removed]",
      "text/plain": [
       "<Figure size 432x288 with 1 Axes>"
      ]
     },
     "metadata": {
      "needs_background": "light"
     },
     "output_type": "display_data"
    }
   ],
   "source": [
    "# Create a DataFrame containing training history\n",
    "history_df = pd.DataFrame(fit_model.history, index=range(1,len(fit_model.history[\"loss\"])+1))\n",
    "\n",
    "# Plot the loss\n",
    "history_df.plot(y=\"loss\")"
   ]
  },
  {
   "cell_type": "code",
   "execution_count": 74,
   "id": "eb89fc14",
   "metadata": {},
   "outputs": [
    {
     "data": {
      "text/plain": [
       "<AxesSubplot:>"
      ]
     },
     "execution_count": 74,
     "metadata": {},
     "output_type": "execute_result"
    },
    {
     "data": {
      "image/png": "[encoded data removed]",
      "text/plain": [
       "<Figure size 432x288 with 1 Axes>"
      ]
     },
     "metadata": {
      "needs_background": "light"
     },
     "output_type": "display_data"
    }
   ],
   "source": [
    "# Plot the accuracy\n",
    "history_df.plot(y=\"accuracy\")"
   ]
  },
  {
   "cell_type": "markdown",
   "id": "1477b4b7",
   "metadata": {},
   "source": [
    "### Second attempt - adding a third hidden layer, adding more epochs, more nodes"
   ]
  },
  {
   "cell_type": "code",
   "execution_count": 75,
   "id": "e7b98821",
   "metadata": {},
   "outputs": [
    {
     "name": "stdout",
     "output_type": "stream",
     "text": [
      "Model: \"sequential_1\"\n",
      "_________________________________________________________________\n",
      " Layer (type)                Output Shape              Param #   \n",
      "=================================================================\n",
      " dense_3 (Dense)             (None, 40)                440       \n",
      "                                                                 \n",
      " dense_4 (Dense)             (None, 20)                820       \n",
      "                                                                 \n",
      " dense_5 (Dense)             (None, 20)                420       \n",
      "                                                                 \n",
      " dense_6 (Dense)             (None, 1)                 21        \n",
      "                                                                 \n",
      "=================================================================\n",
      "Total params: 1,701\n",
      "Trainable params: 1,701\n",
      "Non-trainable params: 0\n",
      "_________________________________________________________________\n"
     ]
    }
   ],
   "source": [
    "# Define the model - deep neural net, i.e., the number of input features and hidden nodes for each layer.\n",
    "number_input_features = len(X_train_scaled[0])\n",
    "hidden_nodes_layer1 = 40\n",
    "hidden_nodes_layer2 = 20\n",
    "hidden_nodes_layer3 = 20\n",
    "\n",
    "nn_B = tf.keras.models.Sequential()\n",
    "\n",
    "# First hidden layer\n",
    "nn_B.add(tf.keras.layers.Dense(units=hidden_nodes_layer1, input_dim=number_input_features, activation=\"relu\"))\n",
    "\n",
    "# Second hidden layer\n",
    "nn_B.add(tf.keras.layers.Dense(units=hidden_nodes_layer2, activation=\"LeakyReLU\"))\n",
    "\n",
    "# Third hidden layer\n",
    "nn_B.add(tf.keras.layers.Dense(units=hidden_nodes_layer3, activation=\"tanh\"))\n",
    "\n",
    "# Output layer\n",
    "nn_B.add(tf.keras.layers.Dense(units=1, activation=\"relu\"))\n",
    "\n",
    "# Check the structure of the model\n",
    "nn_B.summary()"
   ]
  },
  {
   "cell_type": "code",
   "execution_count": 76,
   "id": "4da1d2e4",
   "metadata": {},
   "outputs": [],
   "source": [
    "# Compile the model\n",
    "nn_B.compile(loss=\"binary_crossentropy\", optimizer=\"adam\", metrics=[\"accuracy\"])\n",
    "\n",
    "# Create a callback that saves the model's weights every epoch\n",
    "cp_callback = ModelCheckpoint(\n",
    "    filepath=checkpoint_path,\n",
    "    verbose=1,\n",
    "    save_weights_only=True,\n",
    "    save_freq=10)"
   ]
  },
  {
   "cell_type": "code",
   "execution_count": 77,
   "id": "6e473972",
   "metadata": {},
   "outputs": [
    {
     "name": "stdout",
     "output_type": "stream",
     "text": [
      "Epoch 1/50\n",
      "2/2 [==============================] - 1s 5ms/step - loss: 3.3672 - accuracy: 0.0000e+00\n",
      "Epoch 2/50\n",
      "2/2 [==============================] - 0s 5ms/step - loss: -6.1609 - accuracy: 0.0000e+00\n",
      "Epoch 3/50\n",
      "2/2 [==============================] - 0s 8ms/step - loss: -15.0693 - accuracy: 0.0000e+00\n",
      "Epoch 4/50\n",
      "2/2 [==============================] - 0s 5ms/step - loss: -18.9732 - accuracy: 0.0000e+00\n",
      "Epoch 5/50\n",
      "1/2 [==============>...............] - ETA: 0s - loss: -29.9508 - accuracy: 0.0000e+00\n",
      "Epoch 5: saving model to checkpoints\\weights.05.hdf5\n",
      "2/2 [==============================] - 0s 84ms/step - loss: -25.4821 - accuracy: 0.0000e+00\n",
      "Epoch 6/50\n",
      "2/2 [==============================] - 0s 8ms/step - loss: -35.1150 - accuracy: 0.0000e+00\n",
      "Epoch 7/50\n",
      "2/2 [==============================] - 0s 9ms/step - loss: -45.5946 - accuracy: 0.0000e+00\n",
      "Epoch 8/50\n",
      "2/2 [==============================] - 0s 4ms/step - loss: -47.9350 - accuracy: 0.0000e+00\n",
      "Epoch 9/50\n",
      "2/2 [==============================] - 0s 6ms/step - loss: -49.5048 - accuracy: 0.0000e+00\n",
      "Epoch 10/50\n",
      "1/2 [==============>...............] - ETA: 0s - loss: -58.4864 - accuracy: 0.0000e+00\n",
      "Epoch 10: saving model to checkpoints\\weights.10.hdf5\n",
      "2/2 [==============================] - 0s 124ms/step - loss: -54.8566 - accuracy: 0.0000e+00\n",
      "Epoch 11/50\n",
      "2/2 [==============================] - 0s 6ms/step - loss: -57.6340 - accuracy: 0.0000e+00\n",
      "Epoch 12/50\n",
      "2/2 [==============================] - 0s 6ms/step - loss: -58.7335 - accuracy: 0.0000e+00\n",
      "Epoch 13/50\n",
      "2/2 [==============================] - 0s 8ms/step - loss: -60.7101 - accuracy: 0.0000e+00\n",
      "Epoch 14/50\n",
      "2/2 [==============================] - 0s 8ms/step - loss: -61.0302 - accuracy: 0.0000e+00\n",
      "Epoch 15/50\n",
      "1/2 [==============>...............] - ETA: 0s - loss: -67.8376 - accuracy: 0.0000e+00\n",
      "Epoch 15: saving model to checkpoints\\weights.15.hdf5\n",
      "2/2 [==============================] - 0s 72ms/step - loss: -63.1368 - accuracy: 0.0000e+00\n",
      "Epoch 16/50\n",
      "2/2 [==============================] - 0s 5ms/step - loss: -64.3783 - accuracy: 0.0000e+00\n",
      "Epoch 17/50\n",
      "2/2 [==============================] - 0s 8ms/step - loss: -64.3783 - accuracy: 0.0000e+00\n",
      "Epoch 18/50\n",
      "2/2 [==============================] - 0s 5ms/step - loss: -64.3783 - accuracy: 0.0000e+00\n",
      "Epoch 19/50\n",
      "2/2 [==============================] - 0s 6ms/step - loss: -64.3783 - accuracy: 0.0000e+00\n",
      "Epoch 20/50\n",
      "1/2 [==============>...............] - ETA: 0s - loss: -67.8591 - accuracy: 0.0000e+00\n",
      "Epoch 20: saving model to checkpoints\\weights.20.hdf5\n",
      "2/2 [==============================] - 0s 56ms/step - loss: -64.3783 - accuracy: 0.0000e+00\n",
      "Epoch 21/50\n",
      "2/2 [==============================] - 0s 6ms/step - loss: -64.3783 - accuracy: 0.0000e+00\n",
      "Epoch 22/50\n",
      "2/2 [==============================] - 0s 5ms/step - loss: -64.3783 - accuracy: 0.0000e+00\n",
      "Epoch 23/50\n",
      "2/2 [==============================] - 0s 5ms/step - loss: -64.3783 - accuracy: 0.0000e+00\n",
      "Epoch 24/50\n",
      "2/2 [==============================] - 0s 8ms/step - loss: -64.3783 - accuracy: 0.0000e+00\n",
      "Epoch 25/50\n",
      "1/2 [==============>...............] - ETA: 0s - loss: -69.3840 - accuracy: 0.0000e+00\n",
      "Epoch 25: saving model to checkpoints\\weights.25.hdf5\n",
      "2/2 [==============================] - 0s 63ms/step - loss: -64.3783 - accuracy: 0.0000e+00\n",
      "Epoch 26/50\n",
      "2/2 [==============================] - 0s 10ms/step - loss: -64.3783 - accuracy: 0.0000e+00\n",
      "Epoch 27/50\n",
      "2/2 [==============================] - 0s 5ms/step - loss: -64.3783 - accuracy: 0.0000e+00\n",
      "Epoch 28/50\n",
      "2/2 [==============================] - 0s 8ms/step - loss: -64.3783 - accuracy: 0.0000e+00\n",
      "Epoch 29/50\n",
      "2/2 [==============================] - 0s 8ms/step - loss: -64.3783 - accuracy: 0.0000e+00\n",
      "Epoch 30/50\n",
      "1/2 [==============>...............] - ETA: 0s - loss: -65.1428 - accuracy: 0.0000e+00\n",
      "Epoch 30: saving model to checkpoints\\weights.30.hdf5\n",
      "2/2 [==============================] - 0s 65ms/step - loss: -64.3783 - accuracy: 0.0000e+00\n",
      "Epoch 31/50\n",
      "2/2 [==============================] - 0s 7ms/step - loss: -64.3783 - accuracy: 0.0000e+00\n",
      "Epoch 32/50\n",
      "2/2 [==============================] - 0s 4ms/step - loss: -64.3783 - accuracy: 0.0000e+00\n",
      "Epoch 33/50\n",
      "2/2 [==============================] - 0s 7ms/step - loss: -64.3783 - accuracy: 0.0000e+00\n",
      "Epoch 34/50\n",
      "2/2 [==============================] - 0s 6ms/step - loss: -64.3783 - accuracy: 0.0000e+00\n",
      "Epoch 35/50\n",
      "1/2 [==============>...............] - ETA: 0s - loss: -63.9515 - accuracy: 0.0000e+00\n",
      "Epoch 35: saving model to checkpoints\\weights.35.hdf5\n",
      "2/2 [==============================] - 0s 72ms/step - loss: -64.3783 - accuracy: 0.0000e+00\n",
      "Epoch 36/50\n",
      "2/2 [==============================] - 0s 11ms/step - loss: -64.3783 - accuracy: 0.0000e+00\n",
      "Epoch 37/50\n",
      "2/2 [==============================] - 0s 9ms/step - loss: -64.3783 - accuracy: 0.0000e+00\n",
      "Epoch 38/50\n",
      "2/2 [==============================] - 0s 9ms/step - loss: -64.3783 - accuracy: 0.0000e+00\n",
      "Epoch 39/50\n",
      "2/2 [==============================] - 0s 5ms/step - loss: -64.3783 - accuracy: 0.0000e+00\n",
      "Epoch 40/50\n",
      "1/2 [==============>...............] - ETA: 0s - loss: -63.0461 - accuracy: 0.0000e+00\n",
      "Epoch 40: saving model to checkpoints\\weights.40.hdf5\n",
      "2/2 [==============================] - 0s 66ms/step - loss: -64.3783 - accuracy: 0.0000e+00\n",
      "Epoch 41/50\n",
      "2/2 [==============================] - 0s 5ms/step - loss: -64.3783 - accuracy: 0.0000e+00\n",
      "Epoch 42/50\n",
      "2/2 [==============================] - 0s 8ms/step - loss: -64.3783 - accuracy: 0.0000e+00\n",
      "Epoch 43/50\n",
      "2/2 [==============================] - 0s 5ms/step - loss: -64.3783 - accuracy: 0.0000e+00\n",
      "Epoch 44/50\n",
      "2/2 [==============================] - 0s 7ms/step - loss: -64.3783 - accuracy: 0.0000e+00\n",
      "Epoch 45/50\n",
      "1/2 [==============>...............] - ETA: 0s - loss: -65.3335 - accuracy: 0.0000e+00\n",
      "Epoch 45: saving model to checkpoints\\weights.45.hdf5\n",
      "2/2 [==============================] - 0s 78ms/step - loss: -64.3783 - accuracy: 0.0000e+00\n",
      "Epoch 46/50\n",
      "2/2 [==============================] - 0s 7ms/step - loss: -64.3783 - accuracy: 0.0000e+00\n",
      "Epoch 47/50\n",
      "2/2 [==============================] - 0s 7ms/step - loss: -64.3783 - accuracy: 0.0000e+00\n",
      "Epoch 48/50\n",
      "2/2 [==============================] - 0s 5ms/step - loss: -64.3783 - accuracy: 0.0000e+00\n",
      "Epoch 49/50\n",
      "2/2 [==============================] - 0s 7ms/step - loss: -64.3783 - accuracy: 0.0000e+00\n",
      "Epoch 50/50\n",
      "1/2 [==============>...............] - ETA: 0s - loss: -66.5725 - accuracy: 0.0000e+00\n",
      "Epoch 50: saving model to checkpoints\\weights.50.hdf5\n",
      "2/2 [==============================] - 0s 77ms/step - loss: -64.3783 - accuracy: 0.0000e+00\n"
     ]
    }
   ],
   "source": [
    "# Train the model\n",
    "fit_model_B = nn_B.fit(X_train_scaled,y_train,epochs=50,callbacks=[cp_callback])"
   ]
  },
  {
   "cell_type": "code",
   "execution_count": 78,
   "id": "697393c7",
   "metadata": {},
   "outputs": [
    {
     "name": "stdout",
     "output_type": "stream",
     "text": [
      "1/1 - 0s - loss: -5.3468e+01 - accuracy: 0.0000e+00 - 259ms/epoch - 259ms/step\n",
      "Loss: -53.4676399230957, Accuracy: 0.0\n"
     ]
    }
   ],
   "source": [
    "# Evaluate the model using the test data\n",
    "model_loss, model_accuracy = nn_B.evaluate(X_test_scaled,y_test,verbose=2)\n",
    "print(f\"Loss: {model_loss}, Accuracy: {model_accuracy}\")"
   ]
  },
  {
   "cell_type": "code",
   "execution_count": 79,
   "id": "f08eb083",
   "metadata": {},
   "outputs": [
    {
     "data": {
      "text/plain": [
       "<AxesSubplot:>"
      ]
     },
     "execution_count": 79,
     "metadata": {},
     "output_type": "execute_result"
    },
    {
     "data": {
      "image/png": "[encoded data removed]",
      "text/plain": [
       "<Figure size 432x288 with 1 Axes>"
      ]
     },
     "metadata": {
      "needs_background": "light"
     },
     "output_type": "display_data"
    }
   ],
   "source": [
    "# Create a DataFrame containing training history\n",
    "history_df_B = pd.DataFrame(fit_model_B.history, index=range(1,len(fit_model_B.history[\"loss\"])+1))\n",
    "\n",
    "# Plot the loss\n",
    "history_df_B.plot(y=\"loss\")"
   ]
  },
  {
   "cell_type": "code",
   "execution_count": 80,
   "id": "222dc14a",
   "metadata": {},
   "outputs": [
    {
     "data": {
      "text/plain": [
       "<AxesSubplot:>"
      ]
     },
     "execution_count": 80,
     "metadata": {},
     "output_type": "execute_result"
    },
    {
     "data": {
      "image/png": "[encoded data removed]",
      "text/plain": [
       "<Figure size 432x288 with 1 Axes>"
      ]
     },
     "metadata": {
      "needs_background": "light"
     },
     "output_type": "display_data"
    }
   ],
   "source": [
    "# Plot the accuracy\n",
    "history_df_B.plot(y=\"accuracy\")"
   ]
  },
  {
   "cell_type": "markdown",
   "id": "27860a93",
   "metadata": {},
   "source": [
    "### Now a third attempt without the Covid-19 data"
   ]
  },
  {
   "cell_type": "code",
   "execution_count": 81,
   "id": "d5f07812",
   "metadata": {},
   "outputs": [
    {
     "data": {
      "text/html": [
       "<div>\n",
       "<style scoped>\n",
       "    .dataframe tbody tr th:only-of-type {\n",
       "        vertical-align: middle;\n",
       "    }\n",
       "\n",
       "    .dataframe tbody tr th {\n",
       "        vertical-align: top;\n",
       "    }\n",
       "\n",
       "    .dataframe thead th {\n",
       "        text-align: right;\n",
       "    }\n",
       "</style>\n",
       "<table border=\"1\" class=\"dataframe\">\n",
       "  <thead>\n",
       "    <tr style=\"text-align: right;\">\n",
       "      <th></th>\n",
       "      <th>Date</th>\n",
       "      <th>S_P Close</th>\n",
       "      <th>S_P Volume</th>\n",
       "      <th>Median Sale Price</th>\n",
       "      <th>Homes Sold</th>\n",
       "      <th>INFLATION_EXPECTATION</th>\n",
       "      <th>SALES</th>\n",
       "      <th>UNEMPLOYMENT</th>\n",
       "      <th>NAS Value</th>\n",
       "      <th>NAS Volume</th>\n",
       "      <th>Covid_New_Cases</th>\n",
       "      <th>Covid_Death</th>\n",
       "    </tr>\n",
       "  </thead>\n",
       "  <tbody>\n",
       "    <tr>\n",
       "      <th>0</th>\n",
       "      <td>1/1/2017</td>\n",
       "      <td>2278.87</td>\n",
       "      <td>42691599000</td>\n",
       "      <td>246000</td>\n",
       "      <td>360977</td>\n",
       "      <td>2.6</td>\n",
       "      <td>368960</td>\n",
       "      <td>4.7</td>\n",
       "      <td>5614.786</td>\n",
       "      <td>8376144160</td>\n",
       "      <td>NaN</td>\n",
       "      <td>NaN</td>\n",
       "    </tr>\n",
       "    <tr>\n",
       "      <th>1</th>\n",
       "      <td>2/1/2017</td>\n",
       "      <td>2363.64</td>\n",
       "      <td>40740785000</td>\n",
       "      <td>247000</td>\n",
       "      <td>369081</td>\n",
       "      <td>2.7</td>\n",
       "      <td>365480</td>\n",
       "      <td>4.6</td>\n",
       "      <td>5825.438</td>\n",
       "      <td>8563523411</td>\n",
       "      <td>NaN</td>\n",
       "      <td>NaN</td>\n",
       "    </tr>\n",
       "    <tr>\n",
       "      <th>2</th>\n",
       "      <td>3/1/2017</td>\n",
       "      <td>2362.72</td>\n",
       "      <td>47262643000</td>\n",
       "      <td>257000</td>\n",
       "      <td>533610</td>\n",
       "      <td>2.5</td>\n",
       "      <td>422891</td>\n",
       "      <td>4.4</td>\n",
       "      <td>5911.738</td>\n",
       "      <td>10998962695</td>\n",
       "      <td>NaN</td>\n",
       "      <td>NaN</td>\n",
       "    </tr>\n",
       "    <tr>\n",
       "      <th>3</th>\n",
       "      <td>4/1/2017</td>\n",
       "      <td>2384.20</td>\n",
       "      <td>37735945000</td>\n",
       "      <td>262000</td>\n",
       "      <td>516823</td>\n",
       "      <td>2.5</td>\n",
       "      <td>407165</td>\n",
       "      <td>4.4</td>\n",
       "      <td>6047.606</td>\n",
       "      <td>8302492073</td>\n",
       "      <td>NaN</td>\n",
       "      <td>NaN</td>\n",
       "    </tr>\n",
       "    <tr>\n",
       "      <th>4</th>\n",
       "      <td>5/1/2017</td>\n",
       "      <td>2411.80</td>\n",
       "      <td>44654185000</td>\n",
       "      <td>269000</td>\n",
       "      <td>630788</td>\n",
       "      <td>2.6</td>\n",
       "      <td>434450</td>\n",
       "      <td>4.4</td>\n",
       "      <td>6198.517</td>\n",
       "      <td>10239273745</td>\n",
       "      <td>NaN</td>\n",
       "      <td>NaN</td>\n",
       "    </tr>\n",
       "  </tbody>\n",
       "</table>\n",
       "</div>"
      ],
      "text/plain": [
       "       Date  S_P Close   S_P Volume  Median Sale Price  Homes Sold  \\\n",
       "0  1/1/2017    2278.87  42691599000             246000      360977   \n",
       "1  2/1/2017    2363.64  40740785000             247000      369081   \n",
       "2  3/1/2017    2362.72  47262643000             257000      533610   \n",
       "3  4/1/2017    2384.20  37735945000             262000      516823   \n",
       "4  5/1/2017    2411.80  44654185000             269000      630788   \n",
       "\n",
       "   INFLATION_EXPECTATION   SALES  UNEMPLOYMENT  NAS Value   NAS Volume  \\\n",
       "0                    2.6  368960           4.7   5614.786   8376144160   \n",
       "1                    2.7  365480           4.6   5825.438   8563523411   \n",
       "2                    2.5  422891           4.4   5911.738  10998962695   \n",
       "3                    2.5  407165           4.4   6047.606   8302492073   \n",
       "4                    2.6  434450           4.4   6198.517  10239273745   \n",
       "\n",
       "   Covid_New_Cases  Covid_Death  \n",
       "0              NaN          NaN  \n",
       "1              NaN          NaN  \n",
       "2              NaN          NaN  \n",
       "3              NaN          NaN  \n",
       "4              NaN          NaN  "
      ]
     },
     "execution_count": 81,
     "metadata": {},
     "output_type": "execute_result"
    }
   ],
   "source": [
    "working_df = pd.read_csv(Path('Resources/CSV files/FINAL_DATABASE.csv'))\n",
    "working_df.head(5)"
   ]
  },
  {
   "cell_type": "code",
   "execution_count": 82,
   "id": "68f35084",
   "metadata": {},
   "outputs": [],
   "source": [
    "# Split our preprocessed data into our features and target arrays\n",
    "y = working_df.UNEMPLOYMENT\n",
    "X = working_df.drop(columns=[\"Date\",\"UNEMPLOYMENT\", \"Covid_New_Cases\", \"Covid_Death\"])"
   ]
  },
  {
   "cell_type": "code",
   "execution_count": 83,
   "id": "a01c3541",
   "metadata": {},
   "outputs": [
    {
     "data": {
      "text/plain": [
       "16"
      ]
     },
     "execution_count": 83,
     "metadata": {},
     "output_type": "execute_result"
    }
   ],
   "source": [
    "X_train,X_test,y_train,y_test=train_test_split(X,y,random_state=42)\n",
    "len(X_test)"
   ]
  },
  {
   "cell_type": "code",
   "execution_count": 84,
   "id": "a6ba4600",
   "metadata": {},
   "outputs": [
    {
     "data": {
      "text/plain": [
       "16"
      ]
     },
     "execution_count": 84,
     "metadata": {},
     "output_type": "execute_result"
    }
   ],
   "source": [
    "len(y_test)"
   ]
  },
  {
   "cell_type": "code",
   "execution_count": 85,
   "id": "c4009c6f",
   "metadata": {},
   "outputs": [],
   "source": [
    "# Create a StandardScaler instances\n",
    "scaler = StandardScaler()\n",
    "\n",
    "# Fit the StandardScaler\n",
    "X_scaler = scaler.fit(X_train)\n",
    "\n",
    "# Scale the data\n",
    "X_train_scaled = X_scaler.transform(X_train)\n",
    "X_test_scaled = X_scaler.transform(X_test)"
   ]
  },
  {
   "cell_type": "code",
   "execution_count": 86,
   "id": "e8da9cb1",
   "metadata": {},
   "outputs": [
    {
     "name": "stdout",
     "output_type": "stream",
     "text": [
      "Model: \"sequential_2\"\n",
      "_________________________________________________________________\n",
      " Layer (type)                Output Shape              Param #   \n",
      "=================================================================\n",
      " dense_7 (Dense)             (None, 40)                360       \n",
      "                                                                 \n",
      " dense_8 (Dense)             (None, 20)                820       \n",
      "                                                                 \n",
      " dense_9 (Dense)             (None, 20)                420       \n",
      "                                                                 \n",
      " dense_10 (Dense)            (None, 1)                 21        \n",
      "                                                                 \n",
      "=================================================================\n",
      "Total params: 1,621\n",
      "Trainable params: 1,621\n",
      "Non-trainable params: 0\n",
      "_________________________________________________________________\n"
     ]
    }
   ],
   "source": [
    "# Define the model - deep neural net, i.e., the number of input features and hidden nodes for each layer.\n",
    "number_input_features = len(X_train_scaled[0])\n",
    "hidden_nodes_layer1 = 40\n",
    "hidden_nodes_layer2 = 20\n",
    "hidden_nodes_layer3 = 20\n",
    "\n",
    "nn_C = tf.keras.models.Sequential()\n",
    "\n",
    "# First hidden layer\n",
    "nn_C.add(tf.keras.layers.Dense(units=hidden_nodes_layer1, input_dim=number_input_features, activation=\"relu\"))\n",
    "\n",
    "# Second hidden layer\n",
    "nn_C.add(tf.keras.layers.Dense(units=hidden_nodes_layer2, activation=\"LeakyReLU\"))\n",
    "\n",
    "# Third hidden layer\n",
    "nn_C.add(tf.keras.layers.Dense(units=hidden_nodes_layer3, activation=\"tanh\"))\n",
    "\n",
    "# Output layer\n",
    "nn_C.add(tf.keras.layers.Dense(units=1, activation=\"relu\"))\n",
    "\n",
    "# Check the structure of the model\n",
    "nn_C.summary()"
   ]
  },
  {
   "cell_type": "code",
   "execution_count": 87,
   "id": "b196509c",
   "metadata": {},
   "outputs": [],
   "source": [
    "# Compile the model\n",
    "nn_C.compile(loss=\"binary_crossentropy\", optimizer=\"adam\", metrics=[\"accuracy\"])\n",
    "\n",
    "# Create a callback that saves the model's weights every epoch\n",
    "cp_callback = ModelCheckpoint(\n",
    "    filepath=checkpoint_path,\n",
    "    verbose=1,\n",
    "    save_weights_only=True,\n",
    "    save_freq=10)"
   ]
  },
  {
   "cell_type": "code",
   "execution_count": 88,
   "id": "6abde2f2",
   "metadata": {},
   "outputs": [
    {
     "name": "stdout",
     "output_type": "stream",
     "text": [
      "Epoch 1/50\n",
      "2/2 [==============================] - 1s 5ms/step - loss: 13.5143 - accuracy: 0.0000e+00\n",
      "Epoch 2/50\n",
      "2/2 [==============================] - 0s 7ms/step - loss: 2.1297 - accuracy: 0.0000e+00\n",
      "Epoch 3/50\n",
      "2/2 [==============================] - 0s 9ms/step - loss: -3.6825 - accuracy: 0.0000e+00\n",
      "Epoch 4/50\n",
      "2/2 [==============================] - 0s 9ms/step - loss: -9.2589 - accuracy: 0.0000e+00\n",
      "Epoch 5/50\n",
      "1/2 [==============>...............] - ETA: 0s - loss: -9.3881 - accuracy: 0.0000e+00\n",
      "Epoch 5: saving model to checkpoints\\weights.05.hdf5\n",
      "2/2 [==============================] - 0s 73ms/step - loss: -11.7989 - accuracy: 0.0000e+00\n",
      "Epoch 6/50\n",
      "2/2 [==============================] - 0s 7ms/step - loss: -14.5715 - accuracy: 0.0000e+00\n",
      "Epoch 7/50\n",
      "2/2 [==============================] - 0s 9ms/step - loss: -21.5507 - accuracy: 0.0000e+00\n",
      "Epoch 8/50\n",
      "2/2 [==============================] - 0s 7ms/step - loss: -24.3540 - accuracy: 0.0000e+00\n",
      "Epoch 9/50\n",
      "2/2 [==============================] - 0s 6ms/step - loss: -34.9283 - accuracy: 0.0000e+00\n",
      "Epoch 10/50\n",
      "1/2 [==============>...............] - ETA: 0s - loss: -34.7115 - accuracy: 0.0000e+00\n",
      "Epoch 10: saving model to checkpoints\\weights.10.hdf5\n",
      "2/2 [==============================] - 0s 94ms/step - loss: -39.7454 - accuracy: 0.0000e+00\n",
      "Epoch 11/50\n",
      "2/2 [==============================] - 0s 6ms/step - loss: -44.1891 - accuracy: 0.0000e+00\n",
      "Epoch 12/50\n",
      "2/2 [==============================] - 0s 5ms/step - loss: -46.7283 - accuracy: 0.0000e+00\n",
      "Epoch 13/50\n",
      "2/2 [==============================] - 0s 5ms/step - loss: -47.2402 - accuracy: 0.0000e+00\n",
      "Epoch 14/50\n",
      "2/2 [==============================] - 0s 6ms/step - loss: -47.8171 - accuracy: 0.0000e+00\n",
      "Epoch 15/50\n",
      "1/2 [==============>...............] - ETA: 0s - loss: -48.3835 - accuracy: 0.0000e+00\n",
      "Epoch 15: saving model to checkpoints\\weights.15.hdf5\n",
      "2/2 [==============================] - 0s 74ms/step - loss: -52.2259 - accuracy: 0.0000e+00\n",
      "Epoch 16/50\n",
      "2/2 [==============================] - 0s 6ms/step - loss: -56.5012 - accuracy: 0.0000e+00\n",
      "Epoch 17/50\n",
      "2/2 [==============================] - 0s 4ms/step - loss: -58.8954 - accuracy: 0.0000e+00\n",
      "Epoch 18/50\n",
      "2/2 [==============================] - 0s 14ms/step - loss: -60.7991 - accuracy: 0.0000e+00\n",
      "Epoch 19/50\n",
      "2/2 [==============================] - 0s 5ms/step - loss: -61.3926 - accuracy: 0.0000e+00\n",
      "Epoch 20/50\n",
      "1/2 [==============>...............] - ETA: 0s - loss: -60.2935 - accuracy: 0.0000e+00\n",
      "Epoch 20: saving model to checkpoints\\weights.20.hdf5\n",
      "2/2 [==============================] - 0s 85ms/step - loss: -61.4251 - accuracy: 0.0000e+00\n",
      "Epoch 21/50\n",
      "2/2 [==============================] - 0s 4ms/step - loss: -61.4611 - accuracy: 0.0000e+00\n",
      "Epoch 22/50\n",
      "2/2 [==============================] - 0s 6ms/step - loss: -61.4898 - accuracy: 0.0000e+00\n",
      "Epoch 23/50\n",
      "2/2 [==============================] - 0s 6ms/step - loss: -61.5157 - accuracy: 0.0000e+00\n",
      "Epoch 24/50\n",
      "2/2 [==============================] - 0s 5ms/step - loss: -61.5621 - accuracy: 0.0000e+00\n",
      "Epoch 25/50\n",
      "1/2 [==============>...............] - ETA: 0s - loss: -61.6287 - accuracy: 0.0000e+00\n",
      "Epoch 25: saving model to checkpoints\\weights.25.hdf5\n",
      "2/2 [==============================] - 0s 85ms/step - loss: -61.5868 - accuracy: 0.0000e+00\n",
      "Epoch 26/50\n",
      "2/2 [==============================] - 0s 9ms/step - loss: -61.6253 - accuracy: 0.0000e+00\n",
      "Epoch 27/50\n",
      "2/2 [==============================] - 0s 9ms/step - loss: -61.6799 - accuracy: 0.0000e+00\n",
      "Epoch 28/50\n",
      "2/2 [==============================] - 0s 7ms/step - loss: -61.7810 - accuracy: 0.0000e+00\n",
      "Epoch 29/50\n",
      "2/2 [==============================] - 0s 5ms/step - loss: -62.3247 - accuracy: 0.0000e+00\n",
      "Epoch 30/50\n",
      "1/2 [==============>...............] - ETA: 0s - loss: -71.5285 - accuracy: 0.0000e+00\n",
      "Epoch 30: saving model to checkpoints\\weights.30.hdf5\n",
      "2/2 [==============================] - 0s 449ms/step - loss: -62.3807 - accuracy: 0.0000e+00\n",
      "Epoch 31/50\n",
      "2/2 [==============================] - 0s 19ms/step - loss: -62.4068 - accuracy: 0.0000e+00\n",
      "Epoch 32/50\n",
      "2/2 [==============================] - 0s 10ms/step - loss: -62.5208 - accuracy: 0.0000e+00\n",
      "Epoch 33/50\n",
      "2/2 [==============================] - 0s 9ms/step - loss: -62.6812 - accuracy: 0.0000e+00\n",
      "Epoch 34/50\n",
      "2/2 [==============================] - 0s 9ms/step - loss: -63.6922 - accuracy: 0.0000e+00\n",
      "Epoch 35/50\n",
      "1/2 [==============>...............] - ETA: 0s - loss: -61.4586 - accuracy: 0.0000e+00\n",
      "Epoch 35: saving model to checkpoints\\weights.35.hdf5\n",
      "2/2 [==============================] - 0s 117ms/step - loss: -63.7049 - accuracy: 0.0000e+00\n",
      "Epoch 36/50\n",
      "2/2 [==============================] - 0s 7ms/step - loss: -63.7183 - accuracy: 0.0000e+00\n",
      "Epoch 37/50\n",
      "2/2 [==============================] - 0s 12ms/step - loss: -63.7329 - accuracy: 0.0000e+00\n",
      "Epoch 38/50\n",
      "2/2 [==============================] - 0s 13ms/step - loss: -63.7583 - accuracy: 0.0000e+00\n",
      "Epoch 39/50\n",
      "2/2 [==============================] - 0s 16ms/step - loss: -63.7846 - accuracy: 0.0000e+00\n",
      "Epoch 40/50\n",
      "1/2 [==============>...............] - ETA: 0s - loss: -64.5632 - accuracy: 0.0000e+00\n",
      "Epoch 40: saving model to checkpoints\\weights.40.hdf5\n",
      "2/2 [==============================] - 0s 104ms/step - loss: -63.8093 - accuracy: 0.0000e+00\n",
      "Epoch 41/50\n",
      "2/2 [==============================] - 0s 25ms/step - loss: -64.3783 - accuracy: 0.0000e+00\n",
      "Epoch 42/50\n",
      "2/2 [==============================] - 0s 10ms/step - loss: -64.3783 - accuracy: 0.0000e+00\n",
      "Epoch 43/50\n",
      "2/2 [==============================] - 0s 11ms/step - loss: -64.3783 - accuracy: 0.0000e+00\n",
      "Epoch 44/50\n",
      "2/2 [==============================] - 0s 27ms/step - loss: -64.3783 - accuracy: 0.0000e+00\n",
      "Epoch 45/50\n",
      "1/2 [==============>...............] - ETA: 0s - loss: -67.9544 - accuracy: 0.0000e+00\n",
      "Epoch 45: saving model to checkpoints\\weights.45.hdf5\n",
      "2/2 [==============================] - 0s 99ms/step - loss: -64.3783 - accuracy: 0.0000e+00\n",
      "Epoch 46/50\n",
      "2/2 [==============================] - 0s 6ms/step - loss: -64.3783 - accuracy: 0.0000e+00\n",
      "Epoch 47/50\n",
      "2/2 [==============================] - 0s 18ms/step - loss: -64.3783 - accuracy: 0.0000e+00\n",
      "Epoch 48/50\n",
      "2/2 [==============================] - 0s 8ms/step - loss: -64.3783 - accuracy: 0.0000e+00\n",
      "Epoch 49/50\n",
      "2/2 [==============================] - 0s 7ms/step - loss: -64.3783 - accuracy: 0.0000e+00\n",
      "Epoch 50/50\n",
      "1/2 [==============>...............] - ETA: 0s - loss: -56.8034 - accuracy: 0.0000e+00\n",
      "Epoch 50: saving model to checkpoints\\weights.50.hdf5\n",
      "2/2 [==============================] - 0s 121ms/step - loss: -64.3783 - accuracy: 0.0000e+00\n"
     ]
    }
   ],
   "source": [
    "# Train the model\n",
    "fit_model_C = nn_C.fit(X_train_scaled,y_train,epochs=50,callbacks=[cp_callback])"
   ]
  },
  {
   "cell_type": "code",
   "execution_count": 89,
   "id": "19f2982c",
   "metadata": {},
   "outputs": [
    {
     "name": "stdout",
     "output_type": "stream",
     "text": [
      "1/1 - 0s - loss: -5.3468e+01 - accuracy: 0.0000e+00 - 212ms/epoch - 212ms/step\n",
      "Loss: -53.4676399230957, Accuracy: 0.0\n"
     ]
    }
   ],
   "source": [
    "# Evaluate the model using the test data\n",
    "model_loss, model_accuracy = nn_C.evaluate(X_test_scaled,y_test,verbose=2)\n",
    "print(f\"Loss: {model_loss}, Accuracy: {model_accuracy}\")"
   ]
  },
  {
   "cell_type": "code",
   "execution_count": 90,
   "id": "4d62e09c",
   "metadata": {},
   "outputs": [
    {
     "data": {
      "text/plain": [
       "<AxesSubplot:>"
      ]
     },
     "execution_count": 90,
     "metadata": {},
     "output_type": "execute_result"
    },
    {
     "data": {
      "image/png": "[encoded data removed]",
      "text/plain": [
       "<Figure size 432x288 with 1 Axes>"
      ]
     },
     "metadata": {
      "needs_background": "light"
     },
     "output_type": "display_data"
    }
   ],
   "source": [
    "# Create a DataFrame containing training history\n",
    "history_df_C = pd.DataFrame(fit_model_C.history, index=range(1,len(fit_model_C.history[\"loss\"])+1))\n",
    "\n",
    "# Plot the loss\n",
    "history_df_C.plot(y=\"loss\")"
   ]
  },
  {
   "cell_type": "code",
   "execution_count": 91,
   "id": "d57cc5f9",
   "metadata": {},
   "outputs": [
    {
     "data": {
      "text/plain": [
       "<AxesSubplot:>"
      ]
     },
     "execution_count": 91,
     "metadata": {},
     "output_type": "execute_result"
    },
    {
     "data": {
      "image/png": "[encoded data removed]",
      "text/plain": [
       "<Figure size 432x288 with 1 Axes>"
      ]
     },
     "metadata": {
      "needs_background": "light"
     },
     "output_type": "display_data"
    }
   ],
   "source": [
    "# Plot the accuracy\n",
    "history_df_C.plot(y=\"accuracy\")"
   ]
  }
 ],
 "metadata": {
  "kernelspec": {
   "display_name": "mlenv",
   "language": "python",
   "name": "mlenv"
  },
  "language_info": {
   "codemirror_mode": {
    "name": "ipython",
    "version": 3
   },
   "file_extension": ".py",
   "mimetype": "text/x-python",
   "name": "python",
   "nbconvert_exporter": "python",
   "pygments_lexer": "ipython3",
   "version": "3.7.11"
  }
 },
 "nbformat": 4,
 "nbformat_minor": 5
}

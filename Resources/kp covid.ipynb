{
 "cells": [
  {
   "cell_type": "code",
   "execution_count": 89,
   "metadata": {},
   "outputs": [],
   "source": [
    "import pandas as pd\n",
    "from datetime import datetime"
   ]
  },
  {
   "cell_type": "code",
   "execution_count": 93,
   "metadata": {},
   "outputs": [],
   "source": [
    "\n",
    "#df = pd.read_csv(Path('../Resouces/final_dataframe.csv'))\n",
    "file=\"Resources/cleaned_covid_data.csv\"\n"
   ]
  },
  {
   "cell_type": "code",
   "execution_count": 94,
   "metadata": {},
   "outputs": [
    {
     "data": {
      "text/html": [
       "<div>\n",
       "<style scoped>\n",
       "    .dataframe tbody tr th:only-of-type {\n",
       "        vertical-align: middle;\n",
       "    }\n",
       "\n",
       "    .dataframe tbody tr th {\n",
       "        vertical-align: top;\n",
       "    }\n",
       "\n",
       "    .dataframe thead th {\n",
       "        text-align: right;\n",
       "    }\n",
       "</style>\n",
       "<table border=\"1\" class=\"dataframe\">\n",
       "  <thead>\n",
       "    <tr style=\"text-align: right;\">\n",
       "      <th></th>\n",
       "      <th>Unnamed: 0</th>\n",
       "      <th>New_cases</th>\n",
       "      <th>New_deaths</th>\n",
       "      <th>Date</th>\n",
       "    </tr>\n",
       "  </thead>\n",
       "  <tbody>\n",
       "    <tr>\n",
       "      <th>0</th>\n",
       "      <td>0</td>\n",
       "      <td>0</td>\n",
       "      <td>0</td>\n",
       "      <td>1-2020</td>\n",
       "    </tr>\n",
       "    <tr>\n",
       "      <th>1</th>\n",
       "      <td>1</td>\n",
       "      <td>0</td>\n",
       "      <td>0</td>\n",
       "      <td>1-2020</td>\n",
       "    </tr>\n",
       "    <tr>\n",
       "      <th>2</th>\n",
       "      <td>2</td>\n",
       "      <td>0</td>\n",
       "      <td>0</td>\n",
       "      <td>1-2020</td>\n",
       "    </tr>\n",
       "    <tr>\n",
       "      <th>3</th>\n",
       "      <td>3</td>\n",
       "      <td>0</td>\n",
       "      <td>0</td>\n",
       "      <td>1-2020</td>\n",
       "    </tr>\n",
       "    <tr>\n",
       "      <th>4</th>\n",
       "      <td>4</td>\n",
       "      <td>0</td>\n",
       "      <td>0</td>\n",
       "      <td>1-2020</td>\n",
       "    </tr>\n",
       "  </tbody>\n",
       "</table>\n",
       "</div>"
      ],
      "text/plain": [
       "   Unnamed: 0  New_cases  New_deaths    Date\n",
       "0           0          0           0  1-2020\n",
       "1           1          0           0  1-2020\n",
       "2           2          0           0  1-2020\n",
       "3           3          0           0  1-2020\n",
       "4           4          0           0  1-2020"
      ]
     },
     "execution_count": 94,
     "metadata": {},
     "output_type": "execute_result"
    }
   ],
   "source": [
    "df.head()"
   ]
  },
  {
   "cell_type": "code",
   "execution_count": 95,
   "metadata": {},
   "outputs": [
    {
     "data": {
      "text/plain": [
       "Index(['Unnamed: 0', 'New_cases', 'New_deaths', 'Date'], dtype='object')"
      ]
     },
     "execution_count": 95,
     "metadata": {},
     "output_type": "execute_result"
    }
   ],
   "source": [
    "df.columns"
   ]
  },
  {
   "cell_type": "code",
   "execution_count": 96,
   "metadata": {},
   "outputs": [],
   "source": [
    "import datetime"
   ]
  },
  {
   "cell_type": "code",
   "execution_count": 97,
   "metadata": {},
   "outputs": [
    {
     "data": {
      "text/plain": [
       "count        813\n",
       "unique        27\n",
       "top       1-2021\n",
       "freq          31\n",
       "Name: Date, dtype: object"
      ]
     },
     "execution_count": 97,
     "metadata": {},
     "output_type": "execute_result"
    }
   ],
   "source": [
    "df['Date'].describe(datetime_is_numeric=True)"
   ]
  },
  {
   "cell_type": "code",
   "execution_count": 98,
   "metadata": {},
   "outputs": [
    {
     "data": {
      "text/plain": [
       "(813, 4)"
      ]
     },
     "execution_count": 98,
     "metadata": {},
     "output_type": "execute_result"
    }
   ],
   "source": [
    "df.shape"
   ]
  },
  {
   "cell_type": "code",
   "execution_count": 99,
   "metadata": {},
   "outputs": [
    {
     "data": {
      "text/html": [
       "<div>\n",
       "<style scoped>\n",
       "    .dataframe tbody tr th:only-of-type {\n",
       "        vertical-align: middle;\n",
       "    }\n",
       "\n",
       "    .dataframe tbody tr th {\n",
       "        vertical-align: top;\n",
       "    }\n",
       "\n",
       "    .dataframe thead th {\n",
       "        text-align: right;\n",
       "    }\n",
       "</style>\n",
       "<table border=\"1\" class=\"dataframe\">\n",
       "  <thead>\n",
       "    <tr style=\"text-align: right;\">\n",
       "      <th></th>\n",
       "      <th>Unnamed: 0</th>\n",
       "      <th>New_cases</th>\n",
       "      <th>New_deaths</th>\n",
       "      <th>Date</th>\n",
       "    </tr>\n",
       "  </thead>\n",
       "  <tbody>\n",
       "    <tr>\n",
       "      <th>0</th>\n",
       "      <td>0</td>\n",
       "      <td>0</td>\n",
       "      <td>0</td>\n",
       "      <td>1-2020</td>\n",
       "    </tr>\n",
       "    <tr>\n",
       "      <th>1</th>\n",
       "      <td>1</td>\n",
       "      <td>0</td>\n",
       "      <td>0</td>\n",
       "      <td>1-2020</td>\n",
       "    </tr>\n",
       "    <tr>\n",
       "      <th>2</th>\n",
       "      <td>2</td>\n",
       "      <td>0</td>\n",
       "      <td>0</td>\n",
       "      <td>1-2020</td>\n",
       "    </tr>\n",
       "    <tr>\n",
       "      <th>3</th>\n",
       "      <td>3</td>\n",
       "      <td>0</td>\n",
       "      <td>0</td>\n",
       "      <td>1-2020</td>\n",
       "    </tr>\n",
       "    <tr>\n",
       "      <th>4</th>\n",
       "      <td>4</td>\n",
       "      <td>0</td>\n",
       "      <td>0</td>\n",
       "      <td>1-2020</td>\n",
       "    </tr>\n",
       "  </tbody>\n",
       "</table>\n",
       "</div>"
      ],
      "text/plain": [
       "   Unnamed: 0  New_cases  New_deaths    Date\n",
       "0           0          0           0  1-2020\n",
       "1           1          0           0  1-2020\n",
       "2           2          0           0  1-2020\n",
       "3           3          0           0  1-2020\n",
       "4           4          0           0  1-2020"
      ]
     },
     "execution_count": 99,
     "metadata": {},
     "output_type": "execute_result"
    }
   ],
   "source": [
    "df.head()"
   ]
  },
  {
   "cell_type": "code",
   "execution_count": 100,
   "metadata": {},
   "outputs": [
    {
     "data": {
      "text/html": [
       "<div>\n",
       "<style scoped>\n",
       "    .dataframe tbody tr th:only-of-type {\n",
       "        vertical-align: middle;\n",
       "    }\n",
       "\n",
       "    .dataframe tbody tr th {\n",
       "        vertical-align: top;\n",
       "    }\n",
       "\n",
       "    .dataframe thead th {\n",
       "        text-align: right;\n",
       "    }\n",
       "</style>\n",
       "<table border=\"1\" class=\"dataframe\">\n",
       "  <thead>\n",
       "    <tr style=\"text-align: right;\">\n",
       "      <th></th>\n",
       "      <th>Date</th>\n",
       "      <th>Unnamed: 0</th>\n",
       "      <th>New_cases</th>\n",
       "      <th>New_deaths</th>\n",
       "    </tr>\n",
       "  </thead>\n",
       "  <tbody>\n",
       "    <tr>\n",
       "      <th>0</th>\n",
       "      <td>1-2020</td>\n",
       "      <td>406</td>\n",
       "      <td>3</td>\n",
       "      <td>0</td>\n",
       "    </tr>\n",
       "    <tr>\n",
       "      <th>1</th>\n",
       "      <td>1-2021</td>\n",
       "      <td>11749</td>\n",
       "      <td>6287762</td>\n",
       "      <td>99947</td>\n",
       "    </tr>\n",
       "    <tr>\n",
       "      <th>2</th>\n",
       "      <td>1-2022</td>\n",
       "      <td>23064</td>\n",
       "      <td>20326766</td>\n",
       "      <td>63820</td>\n",
       "    </tr>\n",
       "    <tr>\n",
       "      <th>3</th>\n",
       "      <td>10-2020</td>\n",
       "      <td>8897</td>\n",
       "      <td>1816279</td>\n",
       "      <td>23405</td>\n",
       "    </tr>\n",
       "    <tr>\n",
       "      <th>4</th>\n",
       "      <td>10-2021</td>\n",
       "      <td>20212</td>\n",
       "      <td>2660078</td>\n",
       "      <td>48496</td>\n",
       "    </tr>\n",
       "    <tr>\n",
       "      <th>5</th>\n",
       "      <td>11-2020</td>\n",
       "      <td>9525</td>\n",
       "      <td>4376017</td>\n",
       "      <td>41079</td>\n",
       "    </tr>\n",
       "    <tr>\n",
       "      <th>6</th>\n",
       "      <td>11-2021</td>\n",
       "      <td>20475</td>\n",
       "      <td>2434307</td>\n",
       "      <td>31241</td>\n",
       "    </tr>\n",
       "    <tr>\n",
       "      <th>7</th>\n",
       "      <td>12-2020</td>\n",
       "      <td>10788</td>\n",
       "      <td>6172026</td>\n",
       "      <td>77204</td>\n",
       "    </tr>\n",
       "    <tr>\n",
       "      <th>8</th>\n",
       "      <td>12-2021</td>\n",
       "      <td>22103</td>\n",
       "      <td>5450181</td>\n",
       "      <td>42919</td>\n",
       "    </tr>\n",
       "    <tr>\n",
       "      <th>9</th>\n",
       "      <td>2-2020</td>\n",
       "      <td>1247</td>\n",
       "      <td>54</td>\n",
       "      <td>1</td>\n",
       "    </tr>\n",
       "    <tr>\n",
       "      <th>10</th>\n",
       "      <td>2-2021</td>\n",
       "      <td>11438</td>\n",
       "      <td>2465850</td>\n",
       "      <td>67983</td>\n",
       "    </tr>\n",
       "    <tr>\n",
       "      <th>11</th>\n",
       "      <td>2-2022</td>\n",
       "      <td>21658</td>\n",
       "      <td>4375115</td>\n",
       "      <td>62187</td>\n",
       "    </tr>\n",
       "    <tr>\n",
       "      <th>12</th>\n",
       "      <td>3-2020</td>\n",
       "      <td>2263</td>\n",
       "      <td>173267</td>\n",
       "      <td>3334</td>\n",
       "    </tr>\n",
       "    <tr>\n",
       "      <th>13</th>\n",
       "      <td>3-2021</td>\n",
       "      <td>13578</td>\n",
       "      <td>1777063</td>\n",
       "      <td>33270</td>\n",
       "    </tr>\n",
       "    <tr>\n",
       "      <th>14</th>\n",
       "      <td>3-2022</td>\n",
       "      <td>20000</td>\n",
       "      <td>908010</td>\n",
       "      <td>23435</td>\n",
       "    </tr>\n",
       "    <tr>\n",
       "      <th>15</th>\n",
       "      <td>4-2020</td>\n",
       "      <td>3105</td>\n",
       "      <td>856265</td>\n",
       "      <td>57122</td>\n",
       "    </tr>\n",
       "    <tr>\n",
       "      <th>16</th>\n",
       "      <td>4-2021</td>\n",
       "      <td>14055</td>\n",
       "      <td>1832985</td>\n",
       "      <td>20743</td>\n",
       "    </tr>\n",
       "    <tr>\n",
       "      <th>17</th>\n",
       "      <td>5-2020</td>\n",
       "      <td>4154</td>\n",
       "      <td>756706</td>\n",
       "      <td>44762</td>\n",
       "    </tr>\n",
       "    <tr>\n",
       "      <th>18</th>\n",
       "      <td>5-2021</td>\n",
       "      <td>15469</td>\n",
       "      <td>981290</td>\n",
       "      <td>17426</td>\n",
       "    </tr>\n",
       "    <tr>\n",
       "      <th>19</th>\n",
       "      <td>6-2020</td>\n",
       "      <td>4935</td>\n",
       "      <td>820220</td>\n",
       "      <td>22984</td>\n",
       "    </tr>\n",
       "    <tr>\n",
       "      <th>20</th>\n",
       "      <td>6-2021</td>\n",
       "      <td>15885</td>\n",
       "      <td>386159</td>\n",
       "      <td>9460</td>\n",
       "    </tr>\n",
       "    <tr>\n",
       "      <th>21</th>\n",
       "      <td>7-2020</td>\n",
       "      <td>6045</td>\n",
       "      <td>1882978</td>\n",
       "      <td>28760</td>\n",
       "    </tr>\n",
       "    <tr>\n",
       "      <th>22</th>\n",
       "      <td>7-2021</td>\n",
       "      <td>17360</td>\n",
       "      <td>1374814</td>\n",
       "      <td>9016</td>\n",
       "    </tr>\n",
       "    <tr>\n",
       "      <th>23</th>\n",
       "      <td>8-2020</td>\n",
       "      <td>7006</td>\n",
       "      <td>1524965</td>\n",
       "      <td>31815</td>\n",
       "    </tr>\n",
       "    <tr>\n",
       "      <th>24</th>\n",
       "      <td>8-2021</td>\n",
       "      <td>18321</td>\n",
       "      <td>4122164</td>\n",
       "      <td>31614</td>\n",
       "    </tr>\n",
       "    <tr>\n",
       "      <th>25</th>\n",
       "      <td>9-2020</td>\n",
       "      <td>7695</td>\n",
       "      <td>1202093</td>\n",
       "      <td>21373</td>\n",
       "    </tr>\n",
       "    <tr>\n",
       "      <th>26</th>\n",
       "      <td>9-2021</td>\n",
       "      <td>18645</td>\n",
       "      <td>4175968</td>\n",
       "      <td>54509</td>\n",
       "    </tr>\n",
       "  </tbody>\n",
       "</table>\n",
       "</div>"
      ],
      "text/plain": [
       "       Date  Unnamed: 0  New_cases  New_deaths\n",
       "0    1-2020         406          3           0\n",
       "1    1-2021       11749    6287762       99947\n",
       "2    1-2022       23064   20326766       63820\n",
       "3   10-2020        8897    1816279       23405\n",
       "4   10-2021       20212    2660078       48496\n",
       "5   11-2020        9525    4376017       41079\n",
       "6   11-2021       20475    2434307       31241\n",
       "7   12-2020       10788    6172026       77204\n",
       "8   12-2021       22103    5450181       42919\n",
       "9    2-2020        1247         54           1\n",
       "10   2-2021       11438    2465850       67983\n",
       "11   2-2022       21658    4375115       62187\n",
       "12   3-2020        2263     173267        3334\n",
       "13   3-2021       13578    1777063       33270\n",
       "14   3-2022       20000     908010       23435\n",
       "15   4-2020        3105     856265       57122\n",
       "16   4-2021       14055    1832985       20743\n",
       "17   5-2020        4154     756706       44762\n",
       "18   5-2021       15469     981290       17426\n",
       "19   6-2020        4935     820220       22984\n",
       "20   6-2021       15885     386159        9460\n",
       "21   7-2020        6045    1882978       28760\n",
       "22   7-2021       17360    1374814        9016\n",
       "23   8-2020        7006    1524965       31815\n",
       "24   8-2021       18321    4122164       31614\n",
       "25   9-2020        7695    1202093       21373\n",
       "26   9-2021       18645    4175968       54509"
      ]
     },
     "execution_count": 100,
     "metadata": {},
     "output_type": "execute_result"
    }
   ],
   "source": [
    "new_df = df.groupby('Date').sum().reset_index()\n",
    "new_df"
   ]
  },
  {
   "cell_type": "code",
   "execution_count": 58,
   "metadata": {},
   "outputs": [],
   "source": [
    "\n",
    "#monthly_spend_sum = df.groupby('Date')['New_deaths'].sum()"
   ]
  },
  {
   "cell_type": "code",
   "execution_count": 101,
   "metadata": {},
   "outputs": [
    {
     "name": "stdout",
     "output_type": "stream",
     "text": [
      "    Unnamed: 0  New_cases  New_deaths    Date\n",
      "0            0          0           0  1-2020\n",
      "28          28          0           0  1-2020\n",
      "27          27          0           0  1-2020\n",
      "26          26          0           0  1-2020\n",
      "25          25          1           0  1-2020\n"
     ]
    }
   ],
   "source": [
    "sorted = df.sort_values(by='Date')\n",
    "print(sorted.head())"
   ]
  },
  {
   "cell_type": "code",
   "execution_count": 105,
   "metadata": {},
   "outputs": [],
   "source": [
    "new_df.to_csv('cleaned_covid_data.csv')\n"
   ]
  }
 ],
 "metadata": {
  "interpreter": {
   "hash": "2e9ead25ca5bc035cad79357f8e6c9fed21819927116a036dc0448d5a55ec541"
  },
  "kernelspec": {
   "display_name": "Python 3.9.7 ('base')",
   "language": "python",
   "name": "python3"
  },
  "language_info": {
   "codemirror_mode": {
    "name": "ipython",
    "version": 3
   },
   "file_extension": ".py",
   "mimetype": "text/x-python",
   "name": "python",
   "nbconvert_exporter": "python",
   "pygments_lexer": "ipython3",
   "version": "3.9.7"
  },
  "orig_nbformat": 4
 },
 "nbformat": 4,
 "nbformat_minor": 2
}
